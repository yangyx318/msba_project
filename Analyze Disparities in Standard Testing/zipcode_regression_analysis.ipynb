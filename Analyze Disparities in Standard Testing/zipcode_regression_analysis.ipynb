{
 "cells": [
  {
   "cell_type": "code",
   "execution_count": 1,
   "id": "6bcc3b21",
   "metadata": {},
   "outputs": [],
   "source": [
    "import pandas as pd\n",
    "import numpy as np\n",
    "import warnings\n",
    "\n",
    "warnings.filterwarnings('ignore')\n",
    "\n",
    "from sklearn.model_selection import train_test_split\n",
    "import statsmodels.api as sma\n",
    "\n",
    "from sklearn.metrics import mean_squared_error, r2_score\n",
    "\n",
    "zip_agg = pd.read_csv(\"E:\\Group Folder\\data\\zip_agg_feats.csv\")\n",
    "# zip_agg = pd.read_csv(\"E:\\Group Folder\\data\\zipcode_agg_ext_feats.csv\")"
   ]
  },
  {
   "cell_type": "code",
   "execution_count": 2,
   "id": "616c44bc",
   "metadata": {},
   "outputs": [],
   "source": [
    "# Fixing\n",
    "# zip_agg = zip_agg[zip_agg[\"juris_name\"]!=\"New York\"]\n",
    "# zip_agg[\"distances\"] = (zip_agg[\"on_vue\"]/zip_agg[\"num_tests\"])*zip_agg[\"distances\"]\n",
    "# zip_agg[\"out_of_state\"] = np.maximum(zip_agg[\"out_of_state\"] - zip_agg[\"on_vue\"], 0)"
   ]
  },
  {
   "cell_type": "code",
   "execution_count": 3,
   "id": "bce4bdc4",
   "metadata": {},
   "outputs": [],
   "source": [
    "# # Columns which indicate the resuslts of a GED test (these will be the target)\n",
    "# result_cols = [\"score\",\"first_passed\",\"first_complete\",\n",
    "#                \"make_passed\",\"make_complete\"]\n",
    "\n",
    "# # Wide format results\n",
    "# results = zip_agg[['zipcode','exam_subject']+result_cols].pivot_table(index='zipcode',columns='exam_subject')\n",
    "# # # flatten columns\n",
    "# flat_cols = [col[1]+\"_\"+col[0] for col in results.columns]\n",
    "# results.columns = flat_cols"
   ]
  },
  {
   "cell_type": "code",
   "execution_count": 4,
   "id": "6859011c",
   "metadata": {},
   "outputs": [],
   "source": [
    "flag_cols = ['first_passed', 'first_complete', 'make_passed', 'make_complete']\n",
    "\n",
    "continuous_cols = [\"score\"]+[\"prep_time\",\"age\"]+[\"distances\",\"num_candidates\"]+[\n",
    "    'low_income_pct', \"non_college\",'employment_rate','disability_pct']+[\n",
    "    \"race_white\",\"race_african_american\",\"race_asian\",\"race_native_american\"]\n",
    "\n",
    "study_cols = ['study_helpful_adult_education_teacher',\n",
    "       'study_helpful_audio_study_materials',\n",
    "       'study_helpful_books_printed_study_material', 'study_helpful_ged_ready',\n",
    "       'study_helpful_materials_mobile_app',\n",
    "       'study_helpful_online_course_video_study_materials',\n",
    "       'study_helpful_other', 'study_helpful_social_networking_website',\n",
    "       'study_helpful_tv_study_program',\n",
    "       'study_location_test_preparation_center']\n",
    "\n",
    "sum_cols = ['num_tests', 'num_practice_tests',\n",
    "            'on_vue', 'no_show', 'out_of_town', 'out_of_state', 'gender_MALE',\n",
    "           'language_code_ESP']\n",
    "\n",
    "mode_cols = ['studied_for_ged', 't_state', 'testing_reason',\"num_test_centers\",\n",
    "       'juris_name', 'school_incomplete_reason', 'highest_grade_completed',]\n",
    "\n",
    "# zip_agg_dict = {}\n",
    "\n",
    "# for col in continuous_cols+flag_cols:\n",
    "#     zip_agg_dict[col] = \"mean\"\n",
    "    \n",
    "# for col in sum_cols+study_cols:\n",
    "#     zip_agg_dict[col] = sum\n",
    "\n",
    "# for col in mode_cols:\n",
    "#     zip_agg_dict[col] = lambda x: pd.Series.mode(x)[0]\n",
    "    \n",
    "# zip_agg = zip_agg.groupby(\"zipcode\").agg(zip_agg_dict)"
   ]
  },
  {
   "cell_type": "code",
   "execution_count": 5,
   "id": "f7169920",
   "metadata": {},
   "outputs": [],
   "source": [
    "# Creating proportions\n",
    "sum_cols.remove(\"num_tests\")\n",
    "\n",
    "for col in study_cols+sum_cols+[\"language_code_ESP\"]:\n",
    "    zip_agg[col] = zip_agg[col]/zip_agg['num_tests']\n",
    "\n",
    "candidate_prop_cols = ['gender_MALE']+flag_cols\n",
    "\n",
    "for col in candidate_prop_cols:\n",
    "    zip_agg[col] = zip_agg[col]/zip_agg['num_candidates']"
   ]
  },
  {
   "cell_type": "code",
   "execution_count": 82,
   "id": "851cd221",
   "metadata": {},
   "outputs": [],
   "source": [
    "# zip_agg['candidates_per_test_center'] = zip_agg['num_candidates']/zip_agg[\"num_test_centers\"]"
   ]
  },
  {
   "cell_type": "code",
   "execution_count": 6,
   "id": "384eefa4",
   "metadata": {},
   "outputs": [],
   "source": [
    "# Factors in the test methodology or testing conditions\n",
    "test_factors = ['on_vue', 'no_show', 'out_of_town', 'out_of_state', 'language_code_ESP']\n",
    "\n",
    "# demography factors\n",
    "race_cols = [\"race_white\",\"race_african_american\",\"race_asian\",\"race_others\"] #\"race_native_american\" is the base\n",
    "income_cols = ['low_income_pct'] # low income is our base\n",
    "college_cols = [\"non_college\"] # college is base\n",
    "gender_cols = [\"gender_MALE\"] # female is the base\n",
    "\n",
    "zip_factors = ['employment_rate','disability_pct'] # Other factors influcened by a zipcode 'candidates_per_test_center'\n",
    "\n",
    "demographic_cols = race_cols+college_cols+gender_cols+[\"age\"]+[\"language_code_ESP\"]+income_cols+zip_factors"
   ]
  },
  {
   "cell_type": "code",
   "execution_count": 22,
   "id": "28b2b09c",
   "metadata": {},
   "outputs": [],
   "source": [
    "zip_agg[\"low_education\"] = (zip_agg[\"college\"]<=0.5).astype(int) # 10%\n",
    "# zip_agg[\"mid_education\"] = ((zip_agg[\"college\"]<=0.7)&(zip_agg[\"college\"]>0.4)).astype(int) #70%\n",
    "zip_agg[\"high_education\"] = (zip_agg[\"college\"]>0.5).astype(int) #20%\n",
    "\n",
    "college_cols = [\"low_education\"]"
   ]
  },
  {
   "cell_type": "code",
   "execution_count": 26,
   "id": "1c9d48a9",
   "metadata": {},
   "outputs": [],
   "source": [
    "# Dropping race distribution columns as we have this data from the actual table\n",
    "# drop_cols = ['indian_or_alaskan', 'asian',\n",
    "#        'african_american', 'race_decline', 'white', 'race_none',\n",
    "#        'hawaiian_or_pacific']\n",
    "\n",
    "# # # Removing this col as it has 98% correlation with study_helpful_adult_education_teacher\n",
    "# drop_cols += [\"study_helpful_adult_education_class\"]\n",
    "\n",
    "# zip_agg.drop(columns=drop_cols, inplace=True)\n",
    "\n",
    "# Columns to be used as features (we can't use the categorical features)\n",
    "feat_cols = [col for col in zip_agg \n",
    "             if col not in flag_cols+[\"first_try\",\"score\",\"race_others\",\"zipcode\",\n",
    "                                        \"num_tests\",\"num_candidates\",\"remote_cost\",\n",
    "                                      \"college\",\"non_college\",\"high_education\"] and zip_agg[col].dtype!=\"object\"]"
   ]
  },
  {
   "cell_type": "markdown",
   "id": "fcb26e42",
   "metadata": {},
   "source": [
    "### Linear Regression\n",
    "We include all the factors that are related to demographics, test environment and test preparation (the study resources columns), and try to find out the various significant factors. \n",
    "\n",
    "We consider the `make_passed` as the dependent variable and perform the linear regression analysis. The variables are largely divided into the three categories below:\n",
    "\n",
    "- Significant Effects:\n",
    "    - `out_of_state`: If the proportion of out_of_state candidates increases by 1%, the credential rate of the zipcode decreases by 0.135%\n",
    "    - `num_practice_tests`: If the number of practice tests per candidate increases by 1, the credential rate of the zipcode increases by 4.13%\n",
    "    - `prep_time`: Not sure as its negative in some cases.\n",
    "    - `study_location_test_preparation_center`: If the proportion of candidates who study using this method increases by 1%, the credentiall rate decreases by 0.065%\n",
    "    - `age`: If the average age in the zipcode increases by 1 year, the credential rate decreases by 0.23%\n",
    "    - `gender_MALE`: If the proportion of Male candidates increases by 1% the credential rate of the zipcode decreases by 0.04%\n",
    "    - `study_helpful_ged_ready`: If the proportion of candidates who study using this method increases by 1%, the credentiall rate decreases by 0.042%.\n",
    "    - `on_vue`: If the proportion of candidates who give the test remotely  increases by 1%, the credentiall rate decreases by 0.29%\n",
    "    - `study_helpful_other, study_helpful_books_printed_study_material, study_helpful_online_course_video_study_materials study_helpful_materials_mobile_app, study_helpful_audio_study_materials`: All these methods have a small but significant negative effect.\n",
    "    \n",
    "- Insignificant Factors: Race, Income, Education distribution of a zip code is not a significant factor in predicting the credential rate of a certain zip code."
   ]
  },
  {
   "cell_type": "code",
   "execution_count": 27,
   "id": "90e9ff70",
   "metadata": {},
   "outputs": [],
   "source": [
    "def perform_linear_regression_analysis(subject_name=\"all\", \n",
    "                                        target_col=\"make_passed\",\n",
    "                                      features=feat_cols,\n",
    "                                      verbose=True):\n",
    "    if subject_name==\"all\":\n",
    "        subject_df = zip_agg\n",
    "    else:\n",
    "        subject_df = zip_agg[zip_agg[\"exam_subject\"]==subject_name]\n",
    "    # 10 zip codes have missing acs data\n",
    "    subject_df = subject_df.dropna()\n",
    "    y = subject_df[target_col]\n",
    "    \n",
    "    # Adding constants (for beta 0)\n",
    "    subject_df[\"constant\"] = 1\n",
    "    features.append(\"constant\")\n",
    "    reg  = sma.OLS(y, subject_df[features], hasconst=True)\n",
    "    model = reg.fit()\n",
    "\n",
    "    col_array = np.array(features)\n",
    "    # Sorting columns in reverse order of their significance\n",
    "    col_array = col_array[np.argsort(model.pvalues)][::-1]\n",
    "\n",
    "    # adding the columns and their p-values to the dict\n",
    "    feat_imp = dict(zip(col_array,np.sort(model.pvalues)[::-1]))\n",
    "\n",
    "    # Model beta coefficients\n",
    "    predictor_coeffs = dict(zip(features, model.params))\n",
    "    if verbose:\n",
    "        print(model.summary())\n",
    "    return feat_imp, predictor_coeffs"
   ]
  },
  {
   "cell_type": "code",
   "execution_count": 28,
   "id": "8f4f45ed",
   "metadata": {},
   "outputs": [
    {
     "name": "stdout",
     "output_type": "stream",
     "text": [
      "                            OLS Regression Results                            \n",
      "==============================================================================\n",
      "Dep. Variable:            make_passed   R-squared:                       0.199\n",
      "Model:                            OLS   Adj. R-squared:                  0.196\n",
      "Method:                 Least Squares   F-statistic:                     68.44\n",
      "Date:                Fri, 09 Dec 2022   Prob (F-statistic):               0.00\n",
      "Time:                        22:34:17   Log-Likelihood:                 2377.9\n",
      "No. Observations:                8286   AIC:                            -4694.\n",
      "Df Residuals:                    8255   BIC:                            -4476.\n",
      "Df Model:                          30                                         \n",
      "Covariance Type:            nonrobust                                         \n",
      "=====================================================================================================================\n",
      "                                                        coef    std err          t      P>|t|      [0.025      0.975]\n",
      "---------------------------------------------------------------------------------------------------------------------\n",
      "prep_time                                         -2.797e-05   6.25e-06     -4.475      0.000   -4.02e-05   -1.57e-05\n",
      "age                                                  -0.0080      0.000    -20.410      0.000      -0.009      -0.007\n",
      "distances                                             0.0002   7.16e-05      3.273      0.001     9.4e-05       0.000\n",
      "study_helpful_adult_education_teacher                -0.1594      0.027     -5.932      0.000      -0.212      -0.107\n",
      "study_helpful_audio_study_materials                   0.3857      0.070      5.548      0.000       0.249       0.522\n",
      "study_helpful_books_printed_study_material           -0.0052      0.021     -0.244      0.807      -0.047       0.037\n",
      "study_helpful_ged_ready                               0.0181      0.018      0.979      0.328      -0.018       0.054\n",
      "study_helpful_materials_mobile_app                    0.0373      0.037      0.996      0.319      -0.036       0.111\n",
      "study_helpful_online_course_video_study_materials     0.0246      0.024      1.029      0.304      -0.022       0.071\n",
      "study_helpful_other                                  -0.1354      0.062     -2.194      0.028      -0.256      -0.014\n",
      "study_helpful_social_networking_website           -6.729e-12   1.85e-11     -0.364      0.716   -4.29e-11    2.95e-11\n",
      "study_helpful_tv_study_program                     7.193e-13   1.98e-12      0.363      0.716   -3.16e-12     4.6e-12\n",
      "study_location_test_preparation_center                0.0312      0.033      0.958      0.338      -0.033       0.095\n",
      "indian_or_alaskan                                    -0.1741      0.032     -5.486      0.000      -0.236      -0.112\n",
      "asian                                                 0.4076      0.039     10.384      0.000       0.331       0.485\n",
      "african_american                                     -0.1036      0.009    -11.440      0.000      -0.121      -0.086\n",
      "white                                                 0.0514      0.005     11.394      0.000       0.043       0.060\n",
      "hawaiian_or_pacific                               -3.907e-14   1.08e-13     -0.361      0.718   -2.51e-13    1.73e-13\n",
      "multi_racial                                      -2.234e-14   6.13e-14     -0.364      0.716   -1.43e-13    9.78e-14\n",
      "gender_MALE                                           0.0910      0.016      5.858      0.000       0.061       0.122\n",
      "on_vue                                               -0.3052      0.081     -3.756      0.000      -0.464      -0.146\n",
      "no_show                                            7.313e-15   2.02e-14      0.363      0.717   -3.22e-14    4.68e-14\n",
      "out_of_town                                          -0.4551      2.498     -0.182      0.855      -5.351       4.441\n",
      "out_of_state                                         -0.3126      0.018    -17.757      0.000      -0.347      -0.278\n",
      "language_code_ESP                                    -0.4031      0.065     -6.238      0.000      -0.530      -0.276\n",
      "num_practice_tests                                    0.0148      0.001     12.616      0.000       0.013       0.017\n",
      "in_person_cost                                       -0.0023      0.000     -6.172      0.000      -0.003      -0.002\n",
      "low_income_pct                                        0.5478      0.835      0.656      0.512      -1.089       2.184\n",
      "high_income_pct                                       0.5098      0.837      0.609      0.543      -1.131       2.151\n",
      "disability_pct                                       -0.0019      0.001     -1.330      0.184      -0.005       0.001\n",
      "race_white                                           -0.3320      0.189     -1.754      0.080      -0.703       0.039\n",
      "race_african_american                                -0.3168      0.189     -1.674      0.094      -0.688       0.054\n",
      "race_asian                                           -0.3014      0.194     -1.551      0.121      -0.682       0.080\n",
      "race_native_american                                 -0.2897      0.204     -1.419      0.156      -0.690       0.110\n",
      "employment_rate                                      -0.1762      0.052     -3.396      0.001      -0.278      -0.074\n",
      "low_education                                        -0.0173      0.005     -3.318      0.001      -0.027      -0.007\n",
      "constant                                              1.0575      1.671      0.633      0.527      -2.218       4.333\n",
      "==============================================================================\n",
      "Omnibus:                      479.786   Durbin-Watson:                   0.543\n",
      "Prob(Omnibus):                  0.000   Jarque-Bera (JB):             1950.225\n",
      "Skew:                          -0.108   Prob(JB):                         0.00\n",
      "Kurtosis:                       5.367   Cond. No.                     1.00e+16\n",
      "==============================================================================\n",
      "\n",
      "Notes:\n",
      "[1] Standard Errors assume that the covariance matrix of the errors is correctly specified.\n",
      "[2] The smallest eigenvalue is 9.94e-24. This might indicate that there are\n",
      "strong multicollinearity problems or that the design matrix is singular.\n"
     ]
    }
   ],
   "source": [
    "feat_imp, predictor_coeffs = perform_linear_regression_analysis(subject_name=\"all\",\n",
    "                                                                target_col=\"make_passed\",\n",
    "                                                                features=feat_cols,\n",
    "                                                               verbose=True)"
   ]
  },
  {
   "cell_type": "code",
   "execution_count": 115,
   "id": "9ff08050",
   "metadata": {},
   "outputs": [],
   "source": [
    "lr_df = pd.DataFrame([feat_imp, predictor_coeffs]).T.reset_index()\n",
    "lr_df.columns = [\"variable\",\"p_value\", \"beta\"]\n",
    "lr_df = lr_df.sort_values(\"p_value\")\n",
    "lr_df = lr_df[lr_df[\"variable\"]!=\"constant\"]\n",
    "lr_df[lr_df[\"p_value\"]<0.05]\n",
    "\n",
    "# index where variable is not a proportion --> Coeff is not in %age\n",
    "abs_index = lr_df[\"variable\"].isin([\"age\"])\n",
    "lr_df.loc[abs_index, \"beta\"] = lr_df.loc[abs_index, \"beta\"]*100\n",
    "# lr_df.loc[lr_df[\"variable\"]==\"age\",\"beta\"] = lr_df.loc[lr_df[\"variable\"]==\"age\",\"beta\"]*100"
   ]
  },
  {
   "cell_type": "code",
   "execution_count": 122,
   "id": "164654c1",
   "metadata": {},
   "outputs": [
    {
     "data": {
      "image/png": "[encoded data removed]",
      "text/plain": [
       "<Figure size 720x360 with 1 Axes>"
      ]
     },
     "metadata": {},
     "output_type": "display_data"
    }
   ],
   "source": [
    "import matplotlib.pyplot as plt\n",
    "import seaborn as sns\n",
    "plt.figure(figsize=(10,5))\n",
    "sns.set_theme(\"notebook\")\n",
    "plt.style.use(\"fivethirtyeight\")\n",
    "plot_var_list = [\"age\", \"language_code_ESP\", \"non_college\",\"gender_MALE\"]\n",
    "bar = sns.barplot(data=lr_df.loc[lr_df[\"variable\"].isin(plot_var_list)],\n",
    "            y=\"beta\", x=\"variable\", color=\"gold\")\n",
    "plt.ylabel(\"Percentage change in Credential Rates\")\n",
    "plt.xlabel(\"Demographic Factors\")\n",
    "\n",
    "bar.set_xticklabels([\"Age\",\"Spanish Proportion\", \"Non-College Proportion\", \"Male Proportion\"])\n",
    "plt.xticks(rotation=0, fontsize=15)\n",
    "plt.tight_layout()"
   ]
  },
  {
   "cell_type": "markdown",
   "id": "b746db49",
   "metadata": {},
   "source": [
    "### Demographic Analysis\n",
    "We want to significant factors in the overall data\n",
    "- Racial distribution effect: as compared to \"Other\" races, african american & native americans show the lowest scores relatively. While White candidates perform better.\n",
    "- Age has a negative relationship\n",
    "- Percentage of population with higher income also has a negative relationship\n",
    "- Proportion of Male candidates has a positive relationship"
   ]
  },
  {
   "cell_type": "code",
   "execution_count": 33,
   "id": "56581647",
   "metadata": {},
   "outputs": [
    {
     "data": {
      "text/plain": [
       "race_white               0.036136\n",
       "race_african_american   -0.027404\n",
       "race_asian              -0.000694\n",
       "race_native_american    -0.027037\n",
       "high_income_pct         -0.002693\n",
       "college                  0.010011\n",
       "gender_MALE             -0.059129\n",
       "age                     -0.071221\n",
       "dtype: float64"
      ]
     },
     "execution_count": 33,
     "metadata": {},
     "output_type": "execute_result"
    }
   ],
   "source": [
    "# Correlation analysis, change target_col for analysis with a different column\n",
    "target_col = \"make_passed\"\n",
    "zip_agg[demographic_cols].corrwith(zip_agg[target_col])"
   ]
  },
  {
   "cell_type": "markdown",
   "id": "8ec629c9",
   "metadata": {},
   "source": [
    "### Test Factor Analysis\n",
    "- Out of Town is insignificant, but out of state has a significant negative effect. \n",
    "    - People from different zipcodes perhaps go to a accessible test center. But traveling across state lines is much rarer.\n",
    "    - Relationship with distance?\n",
    "- Remote tests have a lower passing rate\n",
    "- Language does not have a significant effect"
   ]
  },
  {
   "cell_type": "code",
   "execution_count": 68,
   "id": "55bc4297",
   "metadata": {},
   "outputs": [
    {
     "data": {
      "text/plain": [
       "on_vue               0.047457\n",
       "no_show                   NaN\n",
       "out_of_town          0.000862\n",
       "out_of_state        -0.094381\n",
       "language_code_ESP   -0.012224\n",
       "dtype: float64"
      ]
     },
     "execution_count": 68,
     "metadata": {},
     "output_type": "execute_result"
    }
   ],
   "source": [
    "# Correlation analysis, change target_col for analysis with a different column\n",
    "zip_agg[test_factors].corrwith(zip_agg[target_col])"
   ]
  },
  {
   "cell_type": "code",
   "execution_count": 30,
   "id": "7990c372",
   "metadata": {},
   "outputs": [
    {
     "name": "stdout",
     "output_type": "stream",
     "text": [
      "                            OLS Regression Results                            \n",
      "==============================================================================\n",
      "Dep. Variable:           first_passed   R-squared:                       0.002\n",
      "Model:                            OLS   Adj. R-squared:                  0.002\n",
      "Method:                 Least Squares   F-statistic:                     5.098\n",
      "Date:                Wed, 30 Nov 2022   Prob (F-statistic):           0.000422\n",
      "Time:                        18:24:52   Log-Likelihood:                 4125.7\n",
      "No. Observations:                9387   AIC:                            -8241.\n",
      "Df Residuals:                    9382   BIC:                            -8206.\n",
      "Df Model:                           4                                         \n",
      "Covariance Type:            nonrobust                                         \n",
      "=====================================================================================\n",
      "                        coef    std err          t      P>|t|      [0.025      0.975]\n",
      "-------------------------------------------------------------------------------------\n",
      "on_vue               -0.1353      0.059     -2.293      0.022      -0.251      -0.020\n",
      "no_show            8.701e-17   4.85e-16      0.179      0.858   -8.65e-16    1.04e-15\n",
      "out_of_town           0.6597      2.317      0.285      0.776      -3.882       5.202\n",
      "out_of_state         -0.0380      0.011     -3.390      0.001      -0.060      -0.016\n",
      "language_code_ESP    -0.0095      0.049     -0.193      0.847      -0.105       0.087\n",
      "constant              0.2126      2.317      0.092      0.927      -4.330       4.755\n",
      "==============================================================================\n",
      "Omnibus:                     5559.390   Durbin-Watson:                   1.267\n",
      "Prob(Omnibus):                  0.000   Jarque-Bera (JB):            53715.340\n",
      "Skew:                          -2.747   Prob(JB):                         0.00\n",
      "Kurtosis:                      13.352   Cond. No.                     9.42e+18\n",
      "==============================================================================\n",
      "\n",
      "Notes:\n",
      "[1] Standard Errors assume that the covariance matrix of the errors is correctly specified.\n",
      "[2] The smallest eigenvalue is 2.12e-34. This might indicate that there are\n",
      "strong multicollinearity problems or that the design matrix is singular.\n"
     ]
    }
   ],
   "source": [
    "feat_imp, predictor_coeffs = perform_linear_regression_analysis(subject_name=\"all\",\n",
    "                                                                target_col=\"first_passed\",\n",
    "                                                                features=test_factors)"
   ]
  },
  {
   "cell_type": "markdown",
   "id": "9951799d",
   "metadata": {},
   "source": [
    "### Study Factors\n",
    "- GED Ready Programs, Online Video Study Materials are the most helpful.\n",
    "- Mobile app has the most negative effect (p-value=5.5%)"
   ]
  },
  {
   "cell_type": "code",
   "execution_count": 31,
   "id": "0b8feb76",
   "metadata": {},
   "outputs": [],
   "source": [
    "study_factors = ['study_helpful_adult_education_teacher',\n",
    "       'study_helpful_audio_study_materials',\n",
    "       'study_helpful_books_printed_study_material', 'study_helpful_ged_ready',\n",
    "       'study_helpful_materials_mobile_app',\n",
    "       'study_helpful_online_course_video_study_materials',\n",
    "       'study_helpful_other', 'study_helpful_social_networking_website',\n",
    "       'study_helpful_tv_study_program',\n",
    "       'study_location_test_preparation_center']"
   ]
  },
  {
   "cell_type": "code",
   "execution_count": 32,
   "id": "60901cd7",
   "metadata": {
    "scrolled": true
   },
   "outputs": [
    {
     "data": {
      "text/plain": [
       "study_helpful_adult_education_teacher               -0.027296\n",
       "study_helpful_audio_study_materials                  0.041650\n",
       "study_helpful_books_printed_study_material           0.012854\n",
       "study_helpful_ged_ready                              0.188878\n",
       "study_helpful_materials_mobile_app                   0.021055\n",
       "study_helpful_online_course_video_study_materials    0.129196\n",
       "study_helpful_other                                 -0.005079\n",
       "study_helpful_social_networking_website              0.036988\n",
       "study_helpful_tv_study_program                       0.010128\n",
       "study_location_test_preparation_center               0.039019\n",
       "dtype: float64"
      ]
     },
     "execution_count": 32,
     "metadata": {},
     "output_type": "execute_result"
    }
   ],
   "source": [
    "# Correlation analysis, change target_col for analysis with a different column\n",
    "target_col = \"first_passed\"\n",
    "zip_agg[study_factors].corrwith(zip_agg[target_col])"
   ]
  },
  {
   "cell_type": "code",
   "execution_count": 33,
   "id": "f6760b04",
   "metadata": {},
   "outputs": [
    {
     "name": "stdout",
     "output_type": "stream",
     "text": [
      "                            OLS Regression Results                            \n",
      "==============================================================================\n",
      "Dep. Variable:           first_passed   R-squared:                       0.046\n",
      "Model:                            OLS   Adj. R-squared:                  0.045\n",
      "Method:                 Least Squares   F-statistic:                     44.74\n",
      "Date:                Wed, 30 Nov 2022   Prob (F-statistic):           1.12e-87\n",
      "Time:                        18:26:00   Log-Likelihood:                 4334.2\n",
      "No. Observations:                9387   AIC:                            -8646.\n",
      "Df Residuals:                    9376   BIC:                            -8568.\n",
      "Df Model:                          10                                         \n",
      "Covariance Type:            nonrobust                                         \n",
      "=====================================================================================================================\n",
      "                                                        coef    std err          t      P>|t|      [0.025      0.975]\n",
      "---------------------------------------------------------------------------------------------------------------------\n",
      "study_helpful_adult_education_teacher                 0.0123      0.008      1.600      0.110      -0.003       0.027\n",
      "study_helpful_audio_study_materials                   0.0642      0.035      1.808      0.071      -0.005       0.134\n",
      "study_helpful_books_printed_study_material            0.0061      0.008      0.719      0.472      -0.010       0.023\n",
      "study_helpful_ged_ready                               0.1238      0.008     16.425      0.000       0.109       0.139\n",
      "study_helpful_materials_mobile_app                   -0.0417      0.022     -1.917      0.055      -0.084       0.001\n",
      "study_helpful_online_course_video_study_materials     0.0971      0.010      9.289      0.000       0.077       0.118\n",
      "study_helpful_other                                  -0.0004      0.025     -0.017      0.986      -0.049       0.048\n",
      "study_helpful_social_networking_website               0.0494      0.031      1.608      0.108      -0.011       0.110\n",
      "study_helpful_tv_study_program                        0.0049      0.075      0.065      0.948      -0.143       0.153\n",
      "study_location_test_preparation_center               -0.0090      0.008     -1.090      0.276      -0.025       0.007\n",
      "constant                                              0.8169      0.004    198.363      0.000       0.809       0.825\n",
      "==============================================================================\n",
      "Omnibus:                     5621.990   Durbin-Watson:                   1.301\n",
      "Prob(Omnibus):                  0.000   Jarque-Bera (JB):            59729.291\n",
      "Skew:                          -2.747   Prob(JB):                         0.00\n",
      "Kurtosis:                      14.069   Cond. No.                         53.9\n",
      "==============================================================================\n",
      "\n",
      "Notes:\n",
      "[1] Standard Errors assume that the covariance matrix of the errors is correctly specified.\n"
     ]
    }
   ],
   "source": [
    "feat_imp, predictor_coeffs = perform_linear_regression_analysis(subject_name=\"all\",\n",
    "                                                                target_col=\"first_passed\",\n",
    "                                                                features=study_factors)"
   ]
  },
  {
   "cell_type": "code",
   "execution_count": null,
   "id": "f897edad",
   "metadata": {},
   "outputs": [],
   "source": []
  }
 ],
 "metadata": {
  "kernelspec": {
   "display_name": "Python 3",
   "language": "python",
   "name": "python3"
  },
  "language_info": {
   "codemirror_mode": {
    "name": "ipython",
    "version": 3
   },
   "file_extension": ".py",
   "mimetype": "text/x-python",
   "name": "python",
   "nbconvert_exporter": "python",
   "pygments_lexer": "ipython3",
   "version": "3.8.8"
  }
 },
 "nbformat": 4,
 "nbformat_minor": 5
}
