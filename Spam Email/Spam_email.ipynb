{
 "cells": [
  {
   "cell_type": "code",
   "execution_count": 2,
   "id": "793a2f5b",
   "metadata": {},
   "outputs": [],
   "source": [
    "%matplotlib inline\n",
    "# import necessary libraries and specify that graphs should be plotted inline. \n",
    "from sklearn import tree\n",
    "from sklearn import linear_model\n",
    "from sklearn.model_selection import cross_val_score\n",
    "from sklearn.model_selection import cross_val_score, train_test_split\n",
    "import matplotlib.pyplot as plt\n",
    "import numpy as np\n",
    "from sklearn.metrics import accuracy_score, precision_score, recall_score, f1_score\n",
    "from sklearn.metrics import plot_confusion_matrix\n",
    "from sklearn import preprocessing\n",
    "from sklearn.preprocessing import normalize\n",
    "from sklearn.preprocessing import StandardScaler\n",
    "from sklearn.linear_model import LogisticRegression\n",
    "from sklearn.model_selection import learning_curve\n",
    "from sklearn import datasets\n",
    "from matplotlib.colors import ListedColormap\n",
    "from sklearn import neighbors, datasets\n",
    "from sklearn import svm\n",
    "import pandas as pd\n",
    "from sklearn.metrics import accuracy_score, precision_score, recall_score, f1_score\n",
    "from sklearn.model_selection import train_test_split\n",
    "from sklearn.ensemble import RandomForestRegressor\n",
    "from sklearn.metrics import mean_absolute_error \n",
    "from matplotlib import pyplot as plt\n",
    "import seaborn as sb\n",
    "import matplotlib.pyplot as plt\n",
    "import math\n",
    "import matplotlib.pyplot as plt\n",
    "from sklearn.preprocessing import StandardScaler\n",
    "from sklearn.model_selection import train_test_split\n",
    "from tensorflow.keras.losses import MeanSquaredLogarithmicError"
   ]
  },
  {
   "cell_type": "markdown",
   "id": "4731a130",
   "metadata": {},
   "source": [
    "## Spam Email Classification\n",
    "Download the dataset on spam vs. non-spam emails from the following URL:\n",
    "http://archive.ics.uci.edu/ml/datasets/Spambase. \n",
    "\n",
    "Specifically, (i) file “spambase.data” contains the actual data,\n",
    "and (ii) files “spambase.names” and “spambase.DOCUMENTATION” contain the description of the data.\n",
    "This dataset has 4601 records, each record representing a different email message. Each record is described\n",
    "with 58 attributes (indicated in the aforementioned .names file): attributes 1-57 represent various content-\n",
    "based characteristics already extracted from each email message (related to the frequency of certain words\n",
    "or certain punctuation symbols in a message as well as to the usage of capital letters in a message), and the\n",
    "last attribute represents the class label for each message (spam or non-spam).\n",
    "\n",
    "Task: The general task for this assignment is to build two different models for detecting spam messages (based\n",
    "on the email characteristics that are given): (i) the best possible model that you can build in terms of the\n",
    "overall predictive accuracy (i.e., not taking any cost information into account), and (ii) the best cost-sensitive\n",
    "classification model that you can build in terms of the average misclassification cost."
   ]
  },
  {
   "cell_type": "code",
   "execution_count": 3,
   "id": "bb97cdaa",
   "metadata": {},
   "outputs": [],
   "source": [
    "spam= pd.read_csv('spambase.data',header=None)"
   ]
  },
  {
   "cell_type": "code",
   "execution_count": 4,
   "id": "d87f5843",
   "metadata": {},
   "outputs": [
    {
     "data": {
      "text/html": [
       "<div>\n",
       "<style scoped>\n",
       "    .dataframe tbody tr th:only-of-type {\n",
       "        vertical-align: middle;\n",
       "    }\n",
       "\n",
       "    .dataframe tbody tr th {\n",
       "        vertical-align: top;\n",
       "    }\n",
       "\n",
       "    .dataframe thead th {\n",
       "        text-align: right;\n",
       "    }\n",
       "</style>\n",
       "<table border=\"1\" class=\"dataframe\">\n",
       "  <thead>\n",
       "    <tr style=\"text-align: right;\">\n",
       "      <th></th>\n",
       "      <th>0</th>\n",
       "      <th>1</th>\n",
       "      <th>2</th>\n",
       "      <th>3</th>\n",
       "      <th>4</th>\n",
       "      <th>5</th>\n",
       "      <th>6</th>\n",
       "      <th>7</th>\n",
       "      <th>8</th>\n",
       "      <th>9</th>\n",
       "      <th>...</th>\n",
       "      <th>48</th>\n",
       "      <th>49</th>\n",
       "      <th>50</th>\n",
       "      <th>51</th>\n",
       "      <th>52</th>\n",
       "      <th>53</th>\n",
       "      <th>54</th>\n",
       "      <th>55</th>\n",
       "      <th>56</th>\n",
       "      <th>57</th>\n",
       "    </tr>\n",
       "  </thead>\n",
       "  <tbody>\n",
       "    <tr>\n",
       "      <th>0</th>\n",
       "      <td>0.00</td>\n",
       "      <td>0.64</td>\n",
       "      <td>0.64</td>\n",
       "      <td>0.0</td>\n",
       "      <td>0.32</td>\n",
       "      <td>0.00</td>\n",
       "      <td>0.00</td>\n",
       "      <td>0.00</td>\n",
       "      <td>0.00</td>\n",
       "      <td>0.00</td>\n",
       "      <td>...</td>\n",
       "      <td>0.00</td>\n",
       "      <td>0.000</td>\n",
       "      <td>0.0</td>\n",
       "      <td>0.778</td>\n",
       "      <td>0.000</td>\n",
       "      <td>0.000</td>\n",
       "      <td>3.756</td>\n",
       "      <td>61</td>\n",
       "      <td>278</td>\n",
       "      <td>1</td>\n",
       "    </tr>\n",
       "    <tr>\n",
       "      <th>1</th>\n",
       "      <td>0.21</td>\n",
       "      <td>0.28</td>\n",
       "      <td>0.50</td>\n",
       "      <td>0.0</td>\n",
       "      <td>0.14</td>\n",
       "      <td>0.28</td>\n",
       "      <td>0.21</td>\n",
       "      <td>0.07</td>\n",
       "      <td>0.00</td>\n",
       "      <td>0.94</td>\n",
       "      <td>...</td>\n",
       "      <td>0.00</td>\n",
       "      <td>0.132</td>\n",
       "      <td>0.0</td>\n",
       "      <td>0.372</td>\n",
       "      <td>0.180</td>\n",
       "      <td>0.048</td>\n",
       "      <td>5.114</td>\n",
       "      <td>101</td>\n",
       "      <td>1028</td>\n",
       "      <td>1</td>\n",
       "    </tr>\n",
       "    <tr>\n",
       "      <th>2</th>\n",
       "      <td>0.06</td>\n",
       "      <td>0.00</td>\n",
       "      <td>0.71</td>\n",
       "      <td>0.0</td>\n",
       "      <td>1.23</td>\n",
       "      <td>0.19</td>\n",
       "      <td>0.19</td>\n",
       "      <td>0.12</td>\n",
       "      <td>0.64</td>\n",
       "      <td>0.25</td>\n",
       "      <td>...</td>\n",
       "      <td>0.01</td>\n",
       "      <td>0.143</td>\n",
       "      <td>0.0</td>\n",
       "      <td>0.276</td>\n",
       "      <td>0.184</td>\n",
       "      <td>0.010</td>\n",
       "      <td>9.821</td>\n",
       "      <td>485</td>\n",
       "      <td>2259</td>\n",
       "      <td>1</td>\n",
       "    </tr>\n",
       "    <tr>\n",
       "      <th>3</th>\n",
       "      <td>0.00</td>\n",
       "      <td>0.00</td>\n",
       "      <td>0.00</td>\n",
       "      <td>0.0</td>\n",
       "      <td>0.63</td>\n",
       "      <td>0.00</td>\n",
       "      <td>0.31</td>\n",
       "      <td>0.63</td>\n",
       "      <td>0.31</td>\n",
       "      <td>0.63</td>\n",
       "      <td>...</td>\n",
       "      <td>0.00</td>\n",
       "      <td>0.137</td>\n",
       "      <td>0.0</td>\n",
       "      <td>0.137</td>\n",
       "      <td>0.000</td>\n",
       "      <td>0.000</td>\n",
       "      <td>3.537</td>\n",
       "      <td>40</td>\n",
       "      <td>191</td>\n",
       "      <td>1</td>\n",
       "    </tr>\n",
       "    <tr>\n",
       "      <th>4</th>\n",
       "      <td>0.00</td>\n",
       "      <td>0.00</td>\n",
       "      <td>0.00</td>\n",
       "      <td>0.0</td>\n",
       "      <td>0.63</td>\n",
       "      <td>0.00</td>\n",
       "      <td>0.31</td>\n",
       "      <td>0.63</td>\n",
       "      <td>0.31</td>\n",
       "      <td>0.63</td>\n",
       "      <td>...</td>\n",
       "      <td>0.00</td>\n",
       "      <td>0.135</td>\n",
       "      <td>0.0</td>\n",
       "      <td>0.135</td>\n",
       "      <td>0.000</td>\n",
       "      <td>0.000</td>\n",
       "      <td>3.537</td>\n",
       "      <td>40</td>\n",
       "      <td>191</td>\n",
       "      <td>1</td>\n",
       "    </tr>\n",
       "  </tbody>\n",
       "</table>\n",
       "<p>5 rows × 58 columns</p>\n",
       "</div>"
      ],
      "text/plain": [
       "     0     1     2    3     4     5     6     7     8     9   ...    48   \n",
       "0  0.00  0.64  0.64  0.0  0.32  0.00  0.00  0.00  0.00  0.00  ...  0.00  \\\n",
       "1  0.21  0.28  0.50  0.0  0.14  0.28  0.21  0.07  0.00  0.94  ...  0.00   \n",
       "2  0.06  0.00  0.71  0.0  1.23  0.19  0.19  0.12  0.64  0.25  ...  0.01   \n",
       "3  0.00  0.00  0.00  0.0  0.63  0.00  0.31  0.63  0.31  0.63  ...  0.00   \n",
       "4  0.00  0.00  0.00  0.0  0.63  0.00  0.31  0.63  0.31  0.63  ...  0.00   \n",
       "\n",
       "      49   50     51     52     53     54   55    56  57  \n",
       "0  0.000  0.0  0.778  0.000  0.000  3.756   61   278   1  \n",
       "1  0.132  0.0  0.372  0.180  0.048  5.114  101  1028   1  \n",
       "2  0.143  0.0  0.276  0.184  0.010  9.821  485  2259   1  \n",
       "3  0.137  0.0  0.137  0.000  0.000  3.537   40   191   1  \n",
       "4  0.135  0.0  0.135  0.000  0.000  3.537   40   191   1  \n",
       "\n",
       "[5 rows x 58 columns]"
      ]
     },
     "execution_count": 4,
     "metadata": {},
     "output_type": "execute_result"
    }
   ],
   "source": [
    "spam.head()"
   ]
  },
  {
   "cell_type": "code",
   "execution_count": 5,
   "id": "efb8e67d",
   "metadata": {},
   "outputs": [],
   "source": [
    "spam.columns = ['word_freq_make','word_freq_address','word_freq_all','word_freq_3d','word_freq_our','word_freq_over',\n",
    "'word_freq_remove','word_freq_internet','word_freq_order','word_freq_mail','word_freq_receive','word_freq_will',\n",
    "'word_freq_people','word_freq_report','word_freq_addresses','word_freq_free','word_freq_business',\n",
    "'word_freq_email','word_freq_you','word_freq_credit',\n",
    "'word_freq_your',\n",
    "'word_freq_font',\n",
    "'word_freq_000',\n",
    "'word_freq_money',\n",
    "'word_freq_hp',\n",
    "'word_freq_hpl',\n",
    "'word_freq_george',\n",
    "'word_freq_650',\n",
    "'word_freq_lab',\n",
    "'word_freq_labs',\n",
    "'word_freq_telnet',\n",
    "'word_freq_857',\n",
    "'word_freq_data',\n",
    "'word_freq_415',\n",
    "'word_freq_85',\n",
    "'word_freq_technology',\n",
    "'word_freq_1999',\n",
    "'word_freq_parts',\n",
    "'word_freq_pm',\n",
    "'word_freq_direct',\n",
    "'word_freq_cs',\n",
    "'word_freq_meeting',\n",
    "'word_freq_original',\n",
    "'word_freq_project',\n",
    "'word_freq_re',\n",
    "'word_freq_edu',\n",
    "'word_freq_table',\n",
    "'word_freq_conference',\n",
    "'char_freq_;',\n",
    "'char_freq_(',\n",
    "'char_freq_[',\n",
    "'char_freq_!',\n",
    "'char_freq_$',\n",
    "'char_freq_#',\n",
    "'capital_run_length_average',\n",
    "'capital_run_length_longest',\n",
    "'capital_run_length_total',\n",
    "'Spam']"
   ]
  },
  {
   "cell_type": "markdown",
   "id": "64755315",
   "metadata": {},
   "source": [
    "#### Explore Data"
   ]
  },
  {
   "cell_type": "code",
   "execution_count": 6,
   "id": "2fb9b57f",
   "metadata": {},
   "outputs": [
    {
     "data": {
      "text/html": [
       "<div>\n",
       "<style scoped>\n",
       "    .dataframe tbody tr th:only-of-type {\n",
       "        vertical-align: middle;\n",
       "    }\n",
       "\n",
       "    .dataframe tbody tr th {\n",
       "        vertical-align: top;\n",
       "    }\n",
       "\n",
       "    .dataframe thead th {\n",
       "        text-align: right;\n",
       "    }\n",
       "</style>\n",
       "<table border=\"1\" class=\"dataframe\">\n",
       "  <thead>\n",
       "    <tr style=\"text-align: right;\">\n",
       "      <th></th>\n",
       "      <th>word_freq_make</th>\n",
       "      <th>word_freq_address</th>\n",
       "      <th>word_freq_all</th>\n",
       "      <th>word_freq_3d</th>\n",
       "      <th>word_freq_our</th>\n",
       "      <th>word_freq_over</th>\n",
       "      <th>word_freq_remove</th>\n",
       "      <th>word_freq_internet</th>\n",
       "      <th>word_freq_order</th>\n",
       "      <th>word_freq_mail</th>\n",
       "      <th>...</th>\n",
       "      <th>char_freq_;</th>\n",
       "      <th>char_freq_(</th>\n",
       "      <th>char_freq_[</th>\n",
       "      <th>char_freq_!</th>\n",
       "      <th>char_freq_$</th>\n",
       "      <th>char_freq_#</th>\n",
       "      <th>capital_run_length_average</th>\n",
       "      <th>capital_run_length_longest</th>\n",
       "      <th>capital_run_length_total</th>\n",
       "      <th>Spam</th>\n",
       "    </tr>\n",
       "  </thead>\n",
       "  <tbody>\n",
       "    <tr>\n",
       "      <th>0</th>\n",
       "      <td>0.00</td>\n",
       "      <td>0.64</td>\n",
       "      <td>0.64</td>\n",
       "      <td>0.0</td>\n",
       "      <td>0.32</td>\n",
       "      <td>0.00</td>\n",
       "      <td>0.00</td>\n",
       "      <td>0.00</td>\n",
       "      <td>0.00</td>\n",
       "      <td>0.00</td>\n",
       "      <td>...</td>\n",
       "      <td>0.00</td>\n",
       "      <td>0.000</td>\n",
       "      <td>0.0</td>\n",
       "      <td>0.778</td>\n",
       "      <td>0.000</td>\n",
       "      <td>0.000</td>\n",
       "      <td>3.756</td>\n",
       "      <td>61</td>\n",
       "      <td>278</td>\n",
       "      <td>1</td>\n",
       "    </tr>\n",
       "    <tr>\n",
       "      <th>1</th>\n",
       "      <td>0.21</td>\n",
       "      <td>0.28</td>\n",
       "      <td>0.50</td>\n",
       "      <td>0.0</td>\n",
       "      <td>0.14</td>\n",
       "      <td>0.28</td>\n",
       "      <td>0.21</td>\n",
       "      <td>0.07</td>\n",
       "      <td>0.00</td>\n",
       "      <td>0.94</td>\n",
       "      <td>...</td>\n",
       "      <td>0.00</td>\n",
       "      <td>0.132</td>\n",
       "      <td>0.0</td>\n",
       "      <td>0.372</td>\n",
       "      <td>0.180</td>\n",
       "      <td>0.048</td>\n",
       "      <td>5.114</td>\n",
       "      <td>101</td>\n",
       "      <td>1028</td>\n",
       "      <td>1</td>\n",
       "    </tr>\n",
       "    <tr>\n",
       "      <th>2</th>\n",
       "      <td>0.06</td>\n",
       "      <td>0.00</td>\n",
       "      <td>0.71</td>\n",
       "      <td>0.0</td>\n",
       "      <td>1.23</td>\n",
       "      <td>0.19</td>\n",
       "      <td>0.19</td>\n",
       "      <td>0.12</td>\n",
       "      <td>0.64</td>\n",
       "      <td>0.25</td>\n",
       "      <td>...</td>\n",
       "      <td>0.01</td>\n",
       "      <td>0.143</td>\n",
       "      <td>0.0</td>\n",
       "      <td>0.276</td>\n",
       "      <td>0.184</td>\n",
       "      <td>0.010</td>\n",
       "      <td>9.821</td>\n",
       "      <td>485</td>\n",
       "      <td>2259</td>\n",
       "      <td>1</td>\n",
       "    </tr>\n",
       "    <tr>\n",
       "      <th>3</th>\n",
       "      <td>0.00</td>\n",
       "      <td>0.00</td>\n",
       "      <td>0.00</td>\n",
       "      <td>0.0</td>\n",
       "      <td>0.63</td>\n",
       "      <td>0.00</td>\n",
       "      <td>0.31</td>\n",
       "      <td>0.63</td>\n",
       "      <td>0.31</td>\n",
       "      <td>0.63</td>\n",
       "      <td>...</td>\n",
       "      <td>0.00</td>\n",
       "      <td>0.137</td>\n",
       "      <td>0.0</td>\n",
       "      <td>0.137</td>\n",
       "      <td>0.000</td>\n",
       "      <td>0.000</td>\n",
       "      <td>3.537</td>\n",
       "      <td>40</td>\n",
       "      <td>191</td>\n",
       "      <td>1</td>\n",
       "    </tr>\n",
       "    <tr>\n",
       "      <th>4</th>\n",
       "      <td>0.00</td>\n",
       "      <td>0.00</td>\n",
       "      <td>0.00</td>\n",
       "      <td>0.0</td>\n",
       "      <td>0.63</td>\n",
       "      <td>0.00</td>\n",
       "      <td>0.31</td>\n",
       "      <td>0.63</td>\n",
       "      <td>0.31</td>\n",
       "      <td>0.63</td>\n",
       "      <td>...</td>\n",
       "      <td>0.00</td>\n",
       "      <td>0.135</td>\n",
       "      <td>0.0</td>\n",
       "      <td>0.135</td>\n",
       "      <td>0.000</td>\n",
       "      <td>0.000</td>\n",
       "      <td>3.537</td>\n",
       "      <td>40</td>\n",
       "      <td>191</td>\n",
       "      <td>1</td>\n",
       "    </tr>\n",
       "  </tbody>\n",
       "</table>\n",
       "<p>5 rows × 58 columns</p>\n",
       "</div>"
      ],
      "text/plain": [
       "   word_freq_make  word_freq_address  word_freq_all  word_freq_3d   \n",
       "0            0.00               0.64           0.64           0.0  \\\n",
       "1            0.21               0.28           0.50           0.0   \n",
       "2            0.06               0.00           0.71           0.0   \n",
       "3            0.00               0.00           0.00           0.0   \n",
       "4            0.00               0.00           0.00           0.0   \n",
       "\n",
       "   word_freq_our  word_freq_over  word_freq_remove  word_freq_internet   \n",
       "0           0.32            0.00              0.00                0.00  \\\n",
       "1           0.14            0.28              0.21                0.07   \n",
       "2           1.23            0.19              0.19                0.12   \n",
       "3           0.63            0.00              0.31                0.63   \n",
       "4           0.63            0.00              0.31                0.63   \n",
       "\n",
       "   word_freq_order  word_freq_mail  ...  char_freq_;  char_freq_(   \n",
       "0             0.00            0.00  ...         0.00        0.000  \\\n",
       "1             0.00            0.94  ...         0.00        0.132   \n",
       "2             0.64            0.25  ...         0.01        0.143   \n",
       "3             0.31            0.63  ...         0.00        0.137   \n",
       "4             0.31            0.63  ...         0.00        0.135   \n",
       "\n",
       "   char_freq_[  char_freq_!  char_freq_$  char_freq_#   \n",
       "0          0.0        0.778        0.000        0.000  \\\n",
       "1          0.0        0.372        0.180        0.048   \n",
       "2          0.0        0.276        0.184        0.010   \n",
       "3          0.0        0.137        0.000        0.000   \n",
       "4          0.0        0.135        0.000        0.000   \n",
       "\n",
       "   capital_run_length_average  capital_run_length_longest   \n",
       "0                       3.756                          61  \\\n",
       "1                       5.114                         101   \n",
       "2                       9.821                         485   \n",
       "3                       3.537                          40   \n",
       "4                       3.537                          40   \n",
       "\n",
       "   capital_run_length_total  Spam  \n",
       "0                       278     1  \n",
       "1                      1028     1  \n",
       "2                      2259     1  \n",
       "3                       191     1  \n",
       "4                       191     1  \n",
       "\n",
       "[5 rows x 58 columns]"
      ]
     },
     "execution_count": 6,
     "metadata": {},
     "output_type": "execute_result"
    }
   ],
   "source": [
    "spam.head()"
   ]
  },
  {
   "cell_type": "code",
   "execution_count": 7,
   "id": "285735e7",
   "metadata": {},
   "outputs": [
    {
     "data": {
      "text/html": [
       "<div>\n",
       "<style scoped>\n",
       "    .dataframe tbody tr th:only-of-type {\n",
       "        vertical-align: middle;\n",
       "    }\n",
       "\n",
       "    .dataframe tbody tr th {\n",
       "        vertical-align: top;\n",
       "    }\n",
       "\n",
       "    .dataframe thead th {\n",
       "        text-align: right;\n",
       "    }\n",
       "</style>\n",
       "<table border=\"1\" class=\"dataframe\">\n",
       "  <thead>\n",
       "    <tr style=\"text-align: right;\">\n",
       "      <th></th>\n",
       "      <th>word_freq_make</th>\n",
       "      <th>word_freq_address</th>\n",
       "      <th>word_freq_all</th>\n",
       "      <th>word_freq_3d</th>\n",
       "      <th>word_freq_our</th>\n",
       "      <th>word_freq_over</th>\n",
       "      <th>word_freq_remove</th>\n",
       "      <th>word_freq_internet</th>\n",
       "      <th>word_freq_order</th>\n",
       "      <th>word_freq_mail</th>\n",
       "      <th>...</th>\n",
       "      <th>char_freq_;</th>\n",
       "      <th>char_freq_(</th>\n",
       "      <th>char_freq_[</th>\n",
       "      <th>char_freq_!</th>\n",
       "      <th>char_freq_$</th>\n",
       "      <th>char_freq_#</th>\n",
       "      <th>capital_run_length_average</th>\n",
       "      <th>capital_run_length_longest</th>\n",
       "      <th>capital_run_length_total</th>\n",
       "      <th>Spam</th>\n",
       "    </tr>\n",
       "  </thead>\n",
       "  <tbody>\n",
       "    <tr>\n",
       "      <th>count</th>\n",
       "      <td>4601.000000</td>\n",
       "      <td>4601.000000</td>\n",
       "      <td>4601.000000</td>\n",
       "      <td>4601.000000</td>\n",
       "      <td>4601.000000</td>\n",
       "      <td>4601.000000</td>\n",
       "      <td>4601.000000</td>\n",
       "      <td>4601.000000</td>\n",
       "      <td>4601.000000</td>\n",
       "      <td>4601.000000</td>\n",
       "      <td>...</td>\n",
       "      <td>4601.000000</td>\n",
       "      <td>4601.000000</td>\n",
       "      <td>4601.000000</td>\n",
       "      <td>4601.000000</td>\n",
       "      <td>4601.000000</td>\n",
       "      <td>4601.000000</td>\n",
       "      <td>4601.000000</td>\n",
       "      <td>4601.000000</td>\n",
       "      <td>4601.000000</td>\n",
       "      <td>4601.000000</td>\n",
       "    </tr>\n",
       "    <tr>\n",
       "      <th>mean</th>\n",
       "      <td>0.104553</td>\n",
       "      <td>0.213015</td>\n",
       "      <td>0.280656</td>\n",
       "      <td>0.065425</td>\n",
       "      <td>0.312223</td>\n",
       "      <td>0.095901</td>\n",
       "      <td>0.114208</td>\n",
       "      <td>0.105295</td>\n",
       "      <td>0.090067</td>\n",
       "      <td>0.239413</td>\n",
       "      <td>...</td>\n",
       "      <td>0.038575</td>\n",
       "      <td>0.139030</td>\n",
       "      <td>0.016976</td>\n",
       "      <td>0.269071</td>\n",
       "      <td>0.075811</td>\n",
       "      <td>0.044238</td>\n",
       "      <td>5.191515</td>\n",
       "      <td>52.172789</td>\n",
       "      <td>283.289285</td>\n",
       "      <td>0.394045</td>\n",
       "    </tr>\n",
       "    <tr>\n",
       "      <th>std</th>\n",
       "      <td>0.305358</td>\n",
       "      <td>1.290575</td>\n",
       "      <td>0.504143</td>\n",
       "      <td>1.395151</td>\n",
       "      <td>0.672513</td>\n",
       "      <td>0.273824</td>\n",
       "      <td>0.391441</td>\n",
       "      <td>0.401071</td>\n",
       "      <td>0.278616</td>\n",
       "      <td>0.644755</td>\n",
       "      <td>...</td>\n",
       "      <td>0.243471</td>\n",
       "      <td>0.270355</td>\n",
       "      <td>0.109394</td>\n",
       "      <td>0.815672</td>\n",
       "      <td>0.245882</td>\n",
       "      <td>0.429342</td>\n",
       "      <td>31.729449</td>\n",
       "      <td>194.891310</td>\n",
       "      <td>606.347851</td>\n",
       "      <td>0.488698</td>\n",
       "    </tr>\n",
       "    <tr>\n",
       "      <th>min</th>\n",
       "      <td>0.000000</td>\n",
       "      <td>0.000000</td>\n",
       "      <td>0.000000</td>\n",
       "      <td>0.000000</td>\n",
       "      <td>0.000000</td>\n",
       "      <td>0.000000</td>\n",
       "      <td>0.000000</td>\n",
       "      <td>0.000000</td>\n",
       "      <td>0.000000</td>\n",
       "      <td>0.000000</td>\n",
       "      <td>...</td>\n",
       "      <td>0.000000</td>\n",
       "      <td>0.000000</td>\n",
       "      <td>0.000000</td>\n",
       "      <td>0.000000</td>\n",
       "      <td>0.000000</td>\n",
       "      <td>0.000000</td>\n",
       "      <td>1.000000</td>\n",
       "      <td>1.000000</td>\n",
       "      <td>1.000000</td>\n",
       "      <td>0.000000</td>\n",
       "    </tr>\n",
       "    <tr>\n",
       "      <th>25%</th>\n",
       "      <td>0.000000</td>\n",
       "      <td>0.000000</td>\n",
       "      <td>0.000000</td>\n",
       "      <td>0.000000</td>\n",
       "      <td>0.000000</td>\n",
       "      <td>0.000000</td>\n",
       "      <td>0.000000</td>\n",
       "      <td>0.000000</td>\n",
       "      <td>0.000000</td>\n",
       "      <td>0.000000</td>\n",
       "      <td>...</td>\n",
       "      <td>0.000000</td>\n",
       "      <td>0.000000</td>\n",
       "      <td>0.000000</td>\n",
       "      <td>0.000000</td>\n",
       "      <td>0.000000</td>\n",
       "      <td>0.000000</td>\n",
       "      <td>1.588000</td>\n",
       "      <td>6.000000</td>\n",
       "      <td>35.000000</td>\n",
       "      <td>0.000000</td>\n",
       "    </tr>\n",
       "    <tr>\n",
       "      <th>50%</th>\n",
       "      <td>0.000000</td>\n",
       "      <td>0.000000</td>\n",
       "      <td>0.000000</td>\n",
       "      <td>0.000000</td>\n",
       "      <td>0.000000</td>\n",
       "      <td>0.000000</td>\n",
       "      <td>0.000000</td>\n",
       "      <td>0.000000</td>\n",
       "      <td>0.000000</td>\n",
       "      <td>0.000000</td>\n",
       "      <td>...</td>\n",
       "      <td>0.000000</td>\n",
       "      <td>0.065000</td>\n",
       "      <td>0.000000</td>\n",
       "      <td>0.000000</td>\n",
       "      <td>0.000000</td>\n",
       "      <td>0.000000</td>\n",
       "      <td>2.276000</td>\n",
       "      <td>15.000000</td>\n",
       "      <td>95.000000</td>\n",
       "      <td>0.000000</td>\n",
       "    </tr>\n",
       "    <tr>\n",
       "      <th>75%</th>\n",
       "      <td>0.000000</td>\n",
       "      <td>0.000000</td>\n",
       "      <td>0.420000</td>\n",
       "      <td>0.000000</td>\n",
       "      <td>0.380000</td>\n",
       "      <td>0.000000</td>\n",
       "      <td>0.000000</td>\n",
       "      <td>0.000000</td>\n",
       "      <td>0.000000</td>\n",
       "      <td>0.160000</td>\n",
       "      <td>...</td>\n",
       "      <td>0.000000</td>\n",
       "      <td>0.188000</td>\n",
       "      <td>0.000000</td>\n",
       "      <td>0.315000</td>\n",
       "      <td>0.052000</td>\n",
       "      <td>0.000000</td>\n",
       "      <td>3.706000</td>\n",
       "      <td>43.000000</td>\n",
       "      <td>266.000000</td>\n",
       "      <td>1.000000</td>\n",
       "    </tr>\n",
       "    <tr>\n",
       "      <th>max</th>\n",
       "      <td>4.540000</td>\n",
       "      <td>14.280000</td>\n",
       "      <td>5.100000</td>\n",
       "      <td>42.810000</td>\n",
       "      <td>10.000000</td>\n",
       "      <td>5.880000</td>\n",
       "      <td>7.270000</td>\n",
       "      <td>11.110000</td>\n",
       "      <td>5.260000</td>\n",
       "      <td>18.180000</td>\n",
       "      <td>...</td>\n",
       "      <td>4.385000</td>\n",
       "      <td>9.752000</td>\n",
       "      <td>4.081000</td>\n",
       "      <td>32.478000</td>\n",
       "      <td>6.003000</td>\n",
       "      <td>19.829000</td>\n",
       "      <td>1102.500000</td>\n",
       "      <td>9989.000000</td>\n",
       "      <td>15841.000000</td>\n",
       "      <td>1.000000</td>\n",
       "    </tr>\n",
       "  </tbody>\n",
       "</table>\n",
       "<p>8 rows × 58 columns</p>\n",
       "</div>"
      ],
      "text/plain": [
       "       word_freq_make  word_freq_address  word_freq_all  word_freq_3d   \n",
       "count     4601.000000        4601.000000    4601.000000   4601.000000  \\\n",
       "mean         0.104553           0.213015       0.280656      0.065425   \n",
       "std          0.305358           1.290575       0.504143      1.395151   \n",
       "min          0.000000           0.000000       0.000000      0.000000   \n",
       "25%          0.000000           0.000000       0.000000      0.000000   \n",
       "50%          0.000000           0.000000       0.000000      0.000000   \n",
       "75%          0.000000           0.000000       0.420000      0.000000   \n",
       "max          4.540000          14.280000       5.100000     42.810000   \n",
       "\n",
       "       word_freq_our  word_freq_over  word_freq_remove  word_freq_internet   \n",
       "count    4601.000000     4601.000000       4601.000000         4601.000000  \\\n",
       "mean        0.312223        0.095901          0.114208            0.105295   \n",
       "std         0.672513        0.273824          0.391441            0.401071   \n",
       "min         0.000000        0.000000          0.000000            0.000000   \n",
       "25%         0.000000        0.000000          0.000000            0.000000   \n",
       "50%         0.000000        0.000000          0.000000            0.000000   \n",
       "75%         0.380000        0.000000          0.000000            0.000000   \n",
       "max        10.000000        5.880000          7.270000           11.110000   \n",
       "\n",
       "       word_freq_order  word_freq_mail  ...  char_freq_;  char_freq_(   \n",
       "count      4601.000000     4601.000000  ...  4601.000000  4601.000000  \\\n",
       "mean          0.090067        0.239413  ...     0.038575     0.139030   \n",
       "std           0.278616        0.644755  ...     0.243471     0.270355   \n",
       "min           0.000000        0.000000  ...     0.000000     0.000000   \n",
       "25%           0.000000        0.000000  ...     0.000000     0.000000   \n",
       "50%           0.000000        0.000000  ...     0.000000     0.065000   \n",
       "75%           0.000000        0.160000  ...     0.000000     0.188000   \n",
       "max           5.260000       18.180000  ...     4.385000     9.752000   \n",
       "\n",
       "       char_freq_[  char_freq_!  char_freq_$  char_freq_#   \n",
       "count  4601.000000  4601.000000  4601.000000  4601.000000  \\\n",
       "mean      0.016976     0.269071     0.075811     0.044238   \n",
       "std       0.109394     0.815672     0.245882     0.429342   \n",
       "min       0.000000     0.000000     0.000000     0.000000   \n",
       "25%       0.000000     0.000000     0.000000     0.000000   \n",
       "50%       0.000000     0.000000     0.000000     0.000000   \n",
       "75%       0.000000     0.315000     0.052000     0.000000   \n",
       "max       4.081000    32.478000     6.003000    19.829000   \n",
       "\n",
       "       capital_run_length_average  capital_run_length_longest   \n",
       "count                 4601.000000                 4601.000000  \\\n",
       "mean                     5.191515                   52.172789   \n",
       "std                     31.729449                  194.891310   \n",
       "min                      1.000000                    1.000000   \n",
       "25%                      1.588000                    6.000000   \n",
       "50%                      2.276000                   15.000000   \n",
       "75%                      3.706000                   43.000000   \n",
       "max                   1102.500000                 9989.000000   \n",
       "\n",
       "       capital_run_length_total         Spam  \n",
       "count               4601.000000  4601.000000  \n",
       "mean                 283.289285     0.394045  \n",
       "std                  606.347851     0.488698  \n",
       "min                    1.000000     0.000000  \n",
       "25%                   35.000000     0.000000  \n",
       "50%                   95.000000     0.000000  \n",
       "75%                  266.000000     1.000000  \n",
       "max                15841.000000     1.000000  \n",
       "\n",
       "[8 rows x 58 columns]"
      ]
     },
     "execution_count": 7,
     "metadata": {},
     "output_type": "execute_result"
    }
   ],
   "source": [
    "spam.describe()"
   ]
  },
  {
   "cell_type": "code",
   "execution_count": 8,
   "id": "3ce08f35",
   "metadata": {},
   "outputs": [
    {
     "data": {
      "text/plain": [
       "(4601, 58)"
      ]
     },
     "execution_count": 8,
     "metadata": {},
     "output_type": "execute_result"
    }
   ],
   "source": [
    "spam.shape"
   ]
  },
  {
   "cell_type": "markdown",
   "id": "cb6e940d",
   "metadata": {},
   "source": [
    "###### deal with outliers"
   ]
  },
  {
   "cell_type": "code",
   "execution_count": 9,
   "id": "0ad5db2b",
   "metadata": {},
   "outputs": [],
   "source": [
    "outcol = ['capital_run_length_average','capital_run_length_longest','capital_run_length_total','char_freq_!']\n",
    "for i in outcol:\n",
    "    Q1,Q3 = np.percentile(spam[i] , [25,75])\n",
    "    IQR = Q3 - Q1\n",
    "    ul = Q3+1.5*IQR\n",
    "    ll = Q1-1.5*IQR\n",
    "    outliers = spam.capital_run_length_average[(spam[i] > ul) | (spam[i] < ll)]\n",
    "    spam = spam.drop(outliers.index)"
   ]
  },
  {
   "cell_type": "code",
   "execution_count": 10,
   "id": "e8d5f23f",
   "metadata": {},
   "outputs": [
    {
     "data": {
      "text/html": [
       "<div>\n",
       "<style scoped>\n",
       "    .dataframe tbody tr th:only-of-type {\n",
       "        vertical-align: middle;\n",
       "    }\n",
       "\n",
       "    .dataframe tbody tr th {\n",
       "        vertical-align: top;\n",
       "    }\n",
       "\n",
       "    .dataframe thead th {\n",
       "        text-align: right;\n",
       "    }\n",
       "</style>\n",
       "<table border=\"1\" class=\"dataframe\">\n",
       "  <thead>\n",
       "    <tr style=\"text-align: right;\">\n",
       "      <th></th>\n",
       "      <th>word_freq_make</th>\n",
       "      <th>word_freq_address</th>\n",
       "      <th>word_freq_all</th>\n",
       "      <th>word_freq_3d</th>\n",
       "      <th>word_freq_our</th>\n",
       "      <th>word_freq_over</th>\n",
       "      <th>word_freq_remove</th>\n",
       "      <th>word_freq_internet</th>\n",
       "      <th>word_freq_order</th>\n",
       "      <th>word_freq_mail</th>\n",
       "      <th>...</th>\n",
       "      <th>char_freq_;</th>\n",
       "      <th>char_freq_(</th>\n",
       "      <th>char_freq_[</th>\n",
       "      <th>char_freq_!</th>\n",
       "      <th>char_freq_$</th>\n",
       "      <th>char_freq_#</th>\n",
       "      <th>capital_run_length_average</th>\n",
       "      <th>capital_run_length_longest</th>\n",
       "      <th>capital_run_length_total</th>\n",
       "      <th>Spam</th>\n",
       "    </tr>\n",
       "  </thead>\n",
       "  <tbody>\n",
       "    <tr>\n",
       "      <th>count</th>\n",
       "      <td>3031.000000</td>\n",
       "      <td>3031.000000</td>\n",
       "      <td>3031.000000</td>\n",
       "      <td>3031.000000</td>\n",
       "      <td>3031.000000</td>\n",
       "      <td>3031.000000</td>\n",
       "      <td>3031.000000</td>\n",
       "      <td>3031.000000</td>\n",
       "      <td>3031.000000</td>\n",
       "      <td>3031.000000</td>\n",
       "      <td>...</td>\n",
       "      <td>3031.000000</td>\n",
       "      <td>3031.000000</td>\n",
       "      <td>3031.000000</td>\n",
       "      <td>3031.000000</td>\n",
       "      <td>3031.000000</td>\n",
       "      <td>3031.000000</td>\n",
       "      <td>3031.000000</td>\n",
       "      <td>3031.000000</td>\n",
       "      <td>3031.000000</td>\n",
       "      <td>3031.000000</td>\n",
       "    </tr>\n",
       "    <tr>\n",
       "      <th>mean</th>\n",
       "      <td>0.085605</td>\n",
       "      <td>0.244635</td>\n",
       "      <td>0.228334</td>\n",
       "      <td>0.001323</td>\n",
       "      <td>0.268598</td>\n",
       "      <td>0.073797</td>\n",
       "      <td>0.077479</td>\n",
       "      <td>0.081142</td>\n",
       "      <td>0.030749</td>\n",
       "      <td>0.184124</td>\n",
       "      <td>...</td>\n",
       "      <td>0.030077</td>\n",
       "      <td>0.145139</td>\n",
       "      <td>0.019023</td>\n",
       "      <td>0.070170</td>\n",
       "      <td>0.042308</td>\n",
       "      <td>0.023944</td>\n",
       "      <td>2.178661</td>\n",
       "      <td>14.033982</td>\n",
       "      <td>82.683603</td>\n",
       "      <td>0.234906</td>\n",
       "    </tr>\n",
       "    <tr>\n",
       "      <th>std</th>\n",
       "      <td>0.316207</td>\n",
       "      <td>1.570708</td>\n",
       "      <td>0.500496</td>\n",
       "      <td>0.028980</td>\n",
       "      <td>0.697686</td>\n",
       "      <td>0.270038</td>\n",
       "      <td>0.343399</td>\n",
       "      <td>0.409083</td>\n",
       "      <td>0.197918</td>\n",
       "      <td>0.570164</td>\n",
       "      <td>...</td>\n",
       "      <td>0.195937</td>\n",
       "      <td>0.246215</td>\n",
       "      <td>0.129097</td>\n",
       "      <td>0.127566</td>\n",
       "      <td>0.194459</td>\n",
       "      <td>0.254523</td>\n",
       "      <td>1.099472</td>\n",
       "      <td>14.064767</td>\n",
       "      <td>77.324889</td>\n",
       "      <td>0.424010</td>\n",
       "    </tr>\n",
       "    <tr>\n",
       "      <th>min</th>\n",
       "      <td>0.000000</td>\n",
       "      <td>0.000000</td>\n",
       "      <td>0.000000</td>\n",
       "      <td>0.000000</td>\n",
       "      <td>0.000000</td>\n",
       "      <td>0.000000</td>\n",
       "      <td>0.000000</td>\n",
       "      <td>0.000000</td>\n",
       "      <td>0.000000</td>\n",
       "      <td>0.000000</td>\n",
       "      <td>...</td>\n",
       "      <td>0.000000</td>\n",
       "      <td>0.000000</td>\n",
       "      <td>0.000000</td>\n",
       "      <td>0.000000</td>\n",
       "      <td>0.000000</td>\n",
       "      <td>0.000000</td>\n",
       "      <td>1.000000</td>\n",
       "      <td>1.000000</td>\n",
       "      <td>1.000000</td>\n",
       "      <td>0.000000</td>\n",
       "    </tr>\n",
       "    <tr>\n",
       "      <th>25%</th>\n",
       "      <td>0.000000</td>\n",
       "      <td>0.000000</td>\n",
       "      <td>0.000000</td>\n",
       "      <td>0.000000</td>\n",
       "      <td>0.000000</td>\n",
       "      <td>0.000000</td>\n",
       "      <td>0.000000</td>\n",
       "      <td>0.000000</td>\n",
       "      <td>0.000000</td>\n",
       "      <td>0.000000</td>\n",
       "      <td>...</td>\n",
       "      <td>0.000000</td>\n",
       "      <td>0.000000</td>\n",
       "      <td>0.000000</td>\n",
       "      <td>0.000000</td>\n",
       "      <td>0.000000</td>\n",
       "      <td>0.000000</td>\n",
       "      <td>1.406500</td>\n",
       "      <td>4.000000</td>\n",
       "      <td>23.000000</td>\n",
       "      <td>0.000000</td>\n",
       "    </tr>\n",
       "    <tr>\n",
       "      <th>50%</th>\n",
       "      <td>0.000000</td>\n",
       "      <td>0.000000</td>\n",
       "      <td>0.000000</td>\n",
       "      <td>0.000000</td>\n",
       "      <td>0.000000</td>\n",
       "      <td>0.000000</td>\n",
       "      <td>0.000000</td>\n",
       "      <td>0.000000</td>\n",
       "      <td>0.000000</td>\n",
       "      <td>0.000000</td>\n",
       "      <td>...</td>\n",
       "      <td>0.000000</td>\n",
       "      <td>0.048000</td>\n",
       "      <td>0.000000</td>\n",
       "      <td>0.000000</td>\n",
       "      <td>0.000000</td>\n",
       "      <td>0.000000</td>\n",
       "      <td>1.870000</td>\n",
       "      <td>11.000000</td>\n",
       "      <td>59.000000</td>\n",
       "      <td>0.000000</td>\n",
       "    </tr>\n",
       "    <tr>\n",
       "      <th>75%</th>\n",
       "      <td>0.000000</td>\n",
       "      <td>0.000000</td>\n",
       "      <td>0.280000</td>\n",
       "      <td>0.000000</td>\n",
       "      <td>0.190000</td>\n",
       "      <td>0.000000</td>\n",
       "      <td>0.000000</td>\n",
       "      <td>0.000000</td>\n",
       "      <td>0.000000</td>\n",
       "      <td>0.000000</td>\n",
       "      <td>...</td>\n",
       "      <td>0.000000</td>\n",
       "      <td>0.204000</td>\n",
       "      <td>0.000000</td>\n",
       "      <td>0.094000</td>\n",
       "      <td>0.000000</td>\n",
       "      <td>0.000000</td>\n",
       "      <td>2.594000</td>\n",
       "      <td>17.000000</td>\n",
       "      <td>119.000000</td>\n",
       "      <td>0.000000</td>\n",
       "    </tr>\n",
       "    <tr>\n",
       "      <th>max</th>\n",
       "      <td>4.340000</td>\n",
       "      <td>14.280000</td>\n",
       "      <td>5.100000</td>\n",
       "      <td>0.870000</td>\n",
       "      <td>10.000000</td>\n",
       "      <td>5.880000</td>\n",
       "      <td>7.270000</td>\n",
       "      <td>11.110000</td>\n",
       "      <td>5.260000</td>\n",
       "      <td>11.110000</td>\n",
       "      <td>...</td>\n",
       "      <td>4.187000</td>\n",
       "      <td>5.277000</td>\n",
       "      <td>4.081000</td>\n",
       "      <td>0.515000</td>\n",
       "      <td>6.003000</td>\n",
       "      <td>7.407000</td>\n",
       "      <td>6.800000</td>\n",
       "      <td>70.000000</td>\n",
       "      <td>354.000000</td>\n",
       "      <td>1.000000</td>\n",
       "    </tr>\n",
       "  </tbody>\n",
       "</table>\n",
       "<p>8 rows × 58 columns</p>\n",
       "</div>"
      ],
      "text/plain": [
       "       word_freq_make  word_freq_address  word_freq_all  word_freq_3d   \n",
       "count     3031.000000        3031.000000    3031.000000   3031.000000  \\\n",
       "mean         0.085605           0.244635       0.228334      0.001323   \n",
       "std          0.316207           1.570708       0.500496      0.028980   \n",
       "min          0.000000           0.000000       0.000000      0.000000   \n",
       "25%          0.000000           0.000000       0.000000      0.000000   \n",
       "50%          0.000000           0.000000       0.000000      0.000000   \n",
       "75%          0.000000           0.000000       0.280000      0.000000   \n",
       "max          4.340000          14.280000       5.100000      0.870000   \n",
       "\n",
       "       word_freq_our  word_freq_over  word_freq_remove  word_freq_internet   \n",
       "count    3031.000000     3031.000000       3031.000000         3031.000000  \\\n",
       "mean        0.268598        0.073797          0.077479            0.081142   \n",
       "std         0.697686        0.270038          0.343399            0.409083   \n",
       "min         0.000000        0.000000          0.000000            0.000000   \n",
       "25%         0.000000        0.000000          0.000000            0.000000   \n",
       "50%         0.000000        0.000000          0.000000            0.000000   \n",
       "75%         0.190000        0.000000          0.000000            0.000000   \n",
       "max        10.000000        5.880000          7.270000           11.110000   \n",
       "\n",
       "       word_freq_order  word_freq_mail  ...  char_freq_;  char_freq_(   \n",
       "count      3031.000000     3031.000000  ...  3031.000000  3031.000000  \\\n",
       "mean          0.030749        0.184124  ...     0.030077     0.145139   \n",
       "std           0.197918        0.570164  ...     0.195937     0.246215   \n",
       "min           0.000000        0.000000  ...     0.000000     0.000000   \n",
       "25%           0.000000        0.000000  ...     0.000000     0.000000   \n",
       "50%           0.000000        0.000000  ...     0.000000     0.048000   \n",
       "75%           0.000000        0.000000  ...     0.000000     0.204000   \n",
       "max           5.260000       11.110000  ...     4.187000     5.277000   \n",
       "\n",
       "       char_freq_[  char_freq_!  char_freq_$  char_freq_#   \n",
       "count  3031.000000  3031.000000  3031.000000  3031.000000  \\\n",
       "mean      0.019023     0.070170     0.042308     0.023944   \n",
       "std       0.129097     0.127566     0.194459     0.254523   \n",
       "min       0.000000     0.000000     0.000000     0.000000   \n",
       "25%       0.000000     0.000000     0.000000     0.000000   \n",
       "50%       0.000000     0.000000     0.000000     0.000000   \n",
       "75%       0.000000     0.094000     0.000000     0.000000   \n",
       "max       4.081000     0.515000     6.003000     7.407000   \n",
       "\n",
       "       capital_run_length_average  capital_run_length_longest   \n",
       "count                 3031.000000                 3031.000000  \\\n",
       "mean                     2.178661                   14.033982   \n",
       "std                      1.099472                   14.064767   \n",
       "min                      1.000000                    1.000000   \n",
       "25%                      1.406500                    4.000000   \n",
       "50%                      1.870000                   11.000000   \n",
       "75%                      2.594000                   17.000000   \n",
       "max                      6.800000                   70.000000   \n",
       "\n",
       "       capital_run_length_total         Spam  \n",
       "count               3031.000000  3031.000000  \n",
       "mean                  82.683603     0.234906  \n",
       "std                   77.324889     0.424010  \n",
       "min                    1.000000     0.000000  \n",
       "25%                   23.000000     0.000000  \n",
       "50%                   59.000000     0.000000  \n",
       "75%                  119.000000     0.000000  \n",
       "max                  354.000000     1.000000  \n",
       "\n",
       "[8 rows x 58 columns]"
      ]
     },
     "execution_count": 10,
     "metadata": {},
     "output_type": "execute_result"
    }
   ],
   "source": [
    "spam.describe()"
   ]
  },
  {
   "cell_type": "markdown",
   "id": "4c85559e",
   "metadata": {},
   "source": [
    "#### Feature Selection"
   ]
  },
  {
   "cell_type": "code",
   "execution_count": 11,
   "id": "42c8a2b6",
   "metadata": {},
   "outputs": [
    {
     "name": "stderr",
     "output_type": "stream",
     "text": [
      "/Users/yuxuanyang/opt/anaconda3/lib/python3.8/site-packages/sklearn/base.py:443: UserWarning: X has feature names, but SelectFromModel was fitted without feature names\n",
      "  warnings.warn(\n"
     ]
    }
   ],
   "source": [
    "from sklearn.svm import LinearSVC\n",
    "from sklearn.feature_selection import SelectFromModel\n",
    "X = spam.iloc[:,:-1]\n",
    "y = spam.Spam\n",
    "lsvc = LinearSVC(C=0.01, penalty=\"l1\", dual=False).fit(X, y)\n",
    "model = SelectFromModel(lsvc, prefit=True)\n",
    "X = model.transform(X)"
   ]
  },
  {
   "cell_type": "code",
   "execution_count": 12,
   "id": "2a5103b0",
   "metadata": {},
   "outputs": [
    {
     "data": {
      "text/plain": [
       "(3031, 25)"
      ]
     },
     "execution_count": 12,
     "metadata": {},
     "output_type": "execute_result"
    }
   ],
   "source": [
    "X.shape"
   ]
  },
  {
   "cell_type": "markdown",
   "id": "b801e131",
   "metadata": {},
   "source": [
    "#### Normalization"
   ]
  },
  {
   "cell_type": "code",
   "execution_count": 13,
   "id": "42b5cd54",
   "metadata": {},
   "outputs": [],
   "source": [
    "X = StandardScaler().fit_transform(X)\n",
    "X_train, X_test, y_train, y_test = train_test_split(X, y, test_size=0.33)"
   ]
  },
  {
   "cell_type": "markdown",
   "id": "8a93b5bf",
   "metadata": {},
   "source": [
    "#### Decision Tree"
   ]
  },
  {
   "cell_type": "code",
   "execution_count": 15,
   "id": "17318f44",
   "metadata": {},
   "outputs": [
    {
     "data": {
      "text/plain": [
       "({'criterion': 'entropy', 'max_depth': 30}, 0.9137905931137306)"
      ]
     },
     "execution_count": 15,
     "metadata": {},
     "output_type": "execute_result"
    }
   ],
   "source": [
    "# Set Hyper-parameter\n",
    "\n",
    "from sklearn.model_selection import GridSearchCV\n",
    "from sklearn.model_selection import KFold\n",
    "from sklearn.metrics import classification_report\n",
    "inner_cv = KFold(n_splits=4,shuffle=True,random_state=1)\n",
    "outer_cv = KFold(n_splits=4,shuffle=True,random_state=1)\n",
    "\n",
    "tuned_parameters = {'criterion':['gini','entropy'],'max_depth':[4,5,6,7,8,9,10,11,12,15,20,30,40,50,70,90,120,150]}\n",
    "\n",
    "dt = tree.DecisionTreeClassifier()\n",
    "dt = GridSearchCV(dt,tuned_parameters,cv=inner_cv,scoring='accuracy')\n",
    "\n",
    "dt.fit(X_train,y_train)\n",
    "\n",
    "dt_best_params = dt.best_params_\n",
    "dt_best_scores = dt.best_score_\n",
    "dt_best_params, dt_best_scores"
   ]
  },
  {
   "cell_type": "code",
   "execution_count": 17,
   "id": "8b152e1a",
   "metadata": {},
   "outputs": [
    {
     "data": {
      "text/plain": [
       "[Text(0.7929871815036175, 0.9782608695652174, 'X[21] <= -0.153\\nentropy = 0.789\\nsamples = 2030\\nvalue = [1550, 480]'),\n",
       " Text(0.6564367725699906, 0.9347826086956522, 'X[2] <= -0.036\\nentropy = 0.577\\nsamples = 1711\\nvalue = [1476, 235]'),\n",
       " Text(0.5141947153192828, 0.8913043478260869, 'X[5] <= 0.162\\nentropy = 0.444\\nsamples = 1614\\nvalue = [1465, 149]'),\n",
       " Text(0.38573450770682605, 0.8478260869565217, 'X[13] <= -0.321\\nentropy = 0.338\\nsamples = 1483\\nvalue = [1390, 93]'),\n",
       " Text(0.37566844919786097, 0.8043478260869565, 'X[6] <= -0.036\\nentropy = 0.439\\nsamples = 1025\\nvalue = [932, 93]'),\n",
       " Text(0.28483799937087134, 0.7608695652173914, 'X[23] <= -0.251\\nentropy = 0.375\\nsamples = 993\\nvalue = [921, 72]'),\n",
       " Text(0.1635734507706826, 0.717391304347826, 'X[8] <= -0.234\\nentropy = 0.209\\nsamples = 729\\nvalue = [705, 24]'),\n",
       " Text(0.120792702107581, 0.6739130434782609, 'X[9] <= 23.944\\nentropy = 0.077\\nsamples = 424\\nvalue = [420, 4]'),\n",
       " Text(0.11072664359861592, 0.6304347826086957, 'X[11] <= 0.872\\nentropy = 0.061\\nsamples = 423\\nvalue = [420, 3]'),\n",
       " Text(0.0855614973262032, 0.5869565217391305, 'X[1] <= 10.245\\nentropy = 0.044\\nsamples = 421\\nvalue = [419, 2]'),\n",
       " Text(0.06542938030827304, 0.5434782608695652, 'X[24] <= -0.83\\nentropy = 0.024\\nsamples = 418\\nvalue = [417, 1]'),\n",
       " Text(0.05536332179930796, 0.5, 'entropy = 0.0\\nsamples = 280\\nvalue = [280, 0]'),\n",
       " Text(0.07549543881723812, 0.5, 'X[24] <= -0.817\\nentropy = 0.062\\nsamples = 138\\nvalue = [137, 1]'),\n",
       " Text(0.06542938030827304, 0.45652173913043476, 'X[22] <= -0.621\\nentropy = 0.65\\nsamples = 6\\nvalue = [5, 1]'),\n",
       " Text(0.05536332179930796, 0.41304347826086957, 'X[20] <= 0.234\\nentropy = 1.0\\nsamples = 2\\nvalue = [1, 1]'),\n",
       " Text(0.04529726329034287, 0.3695652173913043, 'entropy = 0.0\\nsamples = 1\\nvalue = [0, 1]'),\n",
       " Text(0.06542938030827304, 0.3695652173913043, 'entropy = 0.0\\nsamples = 1\\nvalue = [1, 0]'),\n",
       " Text(0.07549543881723812, 0.41304347826086957, 'entropy = 0.0\\nsamples = 4\\nvalue = [4, 0]'),\n",
       " Text(0.0855614973262032, 0.45652173913043476, 'entropy = 0.0\\nsamples = 132\\nvalue = [132, 0]'),\n",
       " Text(0.10569361434413338, 0.5434782608695652, 'X[1] <= 11.098\\nentropy = 0.918\\nsamples = 3\\nvalue = [2, 1]'),\n",
       " Text(0.0956275558351683, 0.5, 'entropy = 0.0\\nsamples = 1\\nvalue = [0, 1]'),\n",
       " Text(0.11575967285309846, 0.5, 'entropy = 0.0\\nsamples = 2\\nvalue = [2, 0]'),\n",
       " Text(0.13589178987102862, 0.5869565217391305, 'X[22] <= -0.04\\nentropy = 1.0\\nsamples = 2\\nvalue = [1, 1]'),\n",
       " Text(0.12582573136206354, 0.5434782608695652, 'entropy = 0.0\\nsamples = 1\\nvalue = [0, 1]'),\n",
       " Text(0.1459578483799937, 0.5434782608695652, 'entropy = 0.0\\nsamples = 1\\nvalue = [1, 0]'),\n",
       " Text(0.13085876061654608, 0.6304347826086957, 'entropy = 0.0\\nsamples = 1\\nvalue = [0, 1]'),\n",
       " Text(0.20635419943378422, 0.6739130434782609, 'X[3] <= 0.596\\nentropy = 0.349\\nsamples = 305\\nvalue = [285, 20]'),\n",
       " Text(0.18622208241585403, 0.6304347826086957, 'X[22] <= -0.571\\nentropy = 0.314\\nsamples = 300\\nvalue = [283, 17]'),\n",
       " Text(0.17615602390688895, 0.5869565217391305, 'X[15] <= -0.235\\nentropy = 0.396\\nsamples = 217\\nvalue = [200, 17]'),\n",
       " Text(0.16608996539792387, 0.5434782608695652, 'X[19] <= 0.923\\nentropy = 0.462\\nsamples = 174\\nvalue = [157, 17]'),\n",
       " Text(0.15602390688895879, 0.5, 'X[8] <= 5.512\\nentropy = 0.524\\nsamples = 144\\nvalue = [127, 17]'),\n",
       " Text(0.1459578483799937, 0.45652173913043476, 'X[20] <= -0.172\\nentropy = 0.487\\nsamples = 142\\nvalue = [127, 15]'),\n",
       " Text(0.12582573136206354, 0.41304347826086957, 'X[0] <= 0.204\\nentropy = 0.595\\nsamples = 97\\nvalue = [83, 14]'),\n",
       " Text(0.11575967285309846, 0.3695652173913043, 'X[4] <= 0.37\\nentropy = 0.547\\nsamples = 95\\nvalue = [83, 12]'),\n",
       " Text(0.10569361434413338, 0.32608695652173914, 'X[23] <= -0.607\\nentropy = 0.61\\nsamples = 80\\nvalue = [68, 12]'),\n",
       " Text(0.08052846807172066, 0.2826086956521739, 'X[22] <= -0.638\\nentropy = 0.534\\nsamples = 74\\nvalue = [65, 9]'),\n",
       " Text(0.0603963510537905, 0.2391304347826087, 'X[22] <= -0.978\\nentropy = 0.465\\nsamples = 71\\nvalue = [64, 7]'),\n",
       " Text(0.05033029254482542, 0.1956521739130435, 'X[23] <= -0.82\\nentropy = 0.711\\nsamples = 36\\nvalue = [29, 7]'),\n",
       " Text(0.020132117017930166, 0.15217391304347827, 'X[8] <= 1.67\\nentropy = 0.469\\nsamples = 30\\nvalue = [27, 3]'),\n",
       " Text(0.010066058508965083, 0.10869565217391304, 'entropy = 0.0\\nsamples = 19\\nvalue = [19, 0]'),\n",
       " Text(0.03019817552689525, 0.10869565217391304, 'X[8] <= 1.941\\nentropy = 0.845\\nsamples = 11\\nvalue = [8, 3]'),\n",
       " Text(0.020132117017930166, 0.06521739130434782, 'entropy = 0.0\\nsamples = 2\\nvalue = [0, 2]'),\n",
       " Text(0.04026423403586033, 0.06521739130434782, 'X[10] <= 0.556\\nentropy = 0.503\\nsamples = 9\\nvalue = [8, 1]'),\n",
       " Text(0.03019817552689525, 0.021739130434782608, 'entropy = 0.0\\nsamples = 8\\nvalue = [8, 0]'),\n",
       " Text(0.05033029254482542, 0.021739130434782608, 'entropy = 0.0\\nsamples = 1\\nvalue = [0, 1]'),\n",
       " Text(0.08052846807172066, 0.15217391304347827, 'X[24] <= -0.145\\nentropy = 0.918\\nsamples = 6\\nvalue = [2, 4]'),\n",
       " Text(0.07046240956275558, 0.10869565217391304, 'X[8] <= 1.401\\nentropy = 0.722\\nsamples = 5\\nvalue = [1, 4]'),\n",
       " Text(0.0603963510537905, 0.06521739130434782, 'entropy = 0.0\\nsamples = 4\\nvalue = [0, 4]'),\n",
       " Text(0.08052846807172066, 0.06521739130434782, 'entropy = 0.0\\nsamples = 1\\nvalue = [1, 0]'),\n",
       " Text(0.09059452658068574, 0.10869565217391304, 'entropy = 0.0\\nsamples = 1\\nvalue = [1, 0]'),\n",
       " Text(0.07046240956275558, 0.1956521739130435, 'entropy = 0.0\\nsamples = 35\\nvalue = [35, 0]'),\n",
       " Text(0.10066058508965084, 0.2391304347826087, 'X[24] <= -0.63\\nentropy = 0.918\\nsamples = 3\\nvalue = [1, 2]'),\n",
       " Text(0.09059452658068574, 0.1956521739130435, 'entropy = 0.0\\nsamples = 2\\nvalue = [0, 2]'),\n",
       " Text(0.11072664359861592, 0.1956521739130435, 'entropy = 0.0\\nsamples = 1\\nvalue = [1, 0]'),\n",
       " Text(0.13085876061654608, 0.2826086956521739, 'X[22] <= -0.797\\nentropy = 1.0\\nsamples = 6\\nvalue = [3, 3]'),\n",
       " Text(0.120792702107581, 0.2391304347826087, 'entropy = 0.0\\nsamples = 3\\nvalue = [3, 0]'),\n",
       " Text(0.14092481912551116, 0.2391304347826087, 'entropy = 0.0\\nsamples = 3\\nvalue = [0, 3]'),\n",
       " Text(0.12582573136206354, 0.32608695652173914, 'entropy = 0.0\\nsamples = 15\\nvalue = [15, 0]'),\n",
       " Text(0.13589178987102862, 0.3695652173913043, 'entropy = 0.0\\nsamples = 2\\nvalue = [0, 2]'),\n",
       " Text(0.16608996539792387, 0.41304347826086957, 'X[4] <= 1.361\\nentropy = 0.154\\nsamples = 45\\nvalue = [44, 1]'),\n",
       " Text(0.15602390688895879, 0.3695652173913043, 'entropy = 0.0\\nsamples = 44\\nvalue = [44, 0]'),\n",
       " Text(0.17615602390688895, 0.3695652173913043, 'entropy = 0.0\\nsamples = 1\\nvalue = [0, 1]'),\n",
       " Text(0.16608996539792387, 0.45652173913043476, 'entropy = 0.0\\nsamples = 2\\nvalue = [0, 2]'),\n",
       " Text(0.17615602390688895, 0.5, 'entropy = 0.0\\nsamples = 30\\nvalue = [30, 0]'),\n",
       " Text(0.18622208241585403, 0.5434782608695652, 'entropy = 0.0\\nsamples = 43\\nvalue = [43, 0]'),\n",
       " Text(0.19628814092481914, 0.5869565217391305, 'entropy = 0.0\\nsamples = 83\\nvalue = [83, 0]'),\n",
       " Text(0.22648631645171438, 0.6304347826086957, 'X[1] <= 0.368\\nentropy = 0.971\\nsamples = 5\\nvalue = [2, 3]'),\n",
       " Text(0.2164202579427493, 0.5869565217391305, 'entropy = 0.0\\nsamples = 2\\nvalue = [2, 0]'),\n",
       " Text(0.23655237496067946, 0.5869565217391305, 'entropy = 0.0\\nsamples = 3\\nvalue = [0, 3]'),\n",
       " Text(0.4061025479710601, 0.717391304347826, 'X[19] <= -0.288\\nentropy = 0.684\\nsamples = 264\\nvalue = [216, 48]'),\n",
       " Text(0.396036489462095, 0.6739130434782609, 'X[15] <= -0.254\\nentropy = 0.809\\nsamples = 193\\nvalue = [145, 48]'),\n",
       " Text(0.38597043095312994, 0.6304347826086957, 'X[1] <= 0.425\\nentropy = 0.881\\nsamples = 160\\nvalue = [112, 48]'),\n",
       " Text(0.3391003460207612, 0.5869565217391305, 'X[20] <= -0.188\\nentropy = 0.8\\nsamples = 144\\nvalue = [109, 35]'),\n",
       " Text(0.2956904687008493, 0.5434782608695652, 'X[4] <= 1.142\\nentropy = 0.915\\nsamples = 97\\nvalue = [65, 32]'),\n",
       " Text(0.2592010066058509, 0.5, 'X[22] <= 0.045\\nentropy = 0.99\\nsamples = 68\\nvalue = [38, 30]'),\n",
       " Text(0.2164202579427493, 0.45652173913043476, 'X[8] <= -0.129\\nentropy = 0.503\\nsamples = 18\\nvalue = [16, 2]'),\n",
       " Text(0.20635419943378422, 0.41304347826086957, 'X[8] <= -0.161\\nentropy = 0.764\\nsamples = 9\\nvalue = [7, 2]'),\n",
       " Text(0.19628814092481914, 0.3695652173913043, 'X[23] <= 0.744\\nentropy = 0.544\\nsamples = 8\\nvalue = [7, 1]'),\n",
       " Text(0.18622208241585403, 0.32608695652173914, 'entropy = 0.0\\nsamples = 6\\nvalue = [6, 0]'),\n",
       " Text(0.20635419943378422, 0.32608695652173914, 'X[23] <= 1.918\\nentropy = 1.0\\nsamples = 2\\nvalue = [1, 1]'),\n",
       " Text(0.19628814092481914, 0.2826086956521739, 'entropy = 0.0\\nsamples = 1\\nvalue = [0, 1]'),\n",
       " Text(0.2164202579427493, 0.2826086956521739, 'entropy = 0.0\\nsamples = 1\\nvalue = [1, 0]'),\n",
       " Text(0.2164202579427493, 0.3695652173913043, 'entropy = 0.0\\nsamples = 1\\nvalue = [0, 1]'),\n",
       " Text(0.22648631645171438, 0.41304347826086957, 'entropy = 0.0\\nsamples = 9\\nvalue = [9, 0]'),\n",
       " Text(0.3019817552689525, 0.45652173913043476, 'X[17] <= 0.819\\nentropy = 0.99\\nsamples = 50\\nvalue = [22, 28]'),\n",
       " Text(0.2919156967599874, 0.41304347826086957, 'X[22] <= 2.837\\nentropy = 0.946\\nsamples = 44\\nvalue = [16, 28]'),\n",
       " Text(0.2818496382510223, 0.3695652173913043, 'X[23] <= 0.958\\nentropy = 0.858\\nsamples = 39\\nvalue = [11, 28]'),\n",
       " Text(0.25668449197860965, 0.32608695652173914, 'X[23] <= 0.211\\nentropy = 0.951\\nsamples = 27\\nvalue = [10, 17]'),\n",
       " Text(0.23655237496067946, 0.2826086956521739, 'X[16] <= 7.041\\nentropy = 0.764\\nsamples = 18\\nvalue = [4, 14]'),\n",
       " Text(0.22648631645171438, 0.2391304347826087, 'X[22] <= 1.99\\nentropy = 0.672\\nsamples = 17\\nvalue = [3, 14]'),\n",
       " Text(0.2164202579427493, 0.1956521739130435, 'X[23] <= 0.033\\nentropy = 0.544\\nsamples = 16\\nvalue = [2, 14]'),\n",
       " Text(0.20635419943378422, 0.15217391304347827, 'X[10] <= -0.161\\nentropy = 0.764\\nsamples = 9\\nvalue = [2, 7]'),\n",
       " Text(0.19628814092481914, 0.10869565217391304, 'X[24] <= -0.559\\nentropy = 0.544\\nsamples = 8\\nvalue = [1, 7]'),\n",
       " Text(0.18622208241585403, 0.06521739130434782, 'X[8] <= 0.247\\nentropy = 1.0\\nsamples = 2\\nvalue = [1, 1]'),\n",
       " Text(0.17615602390688895, 0.021739130434782608, 'entropy = 0.0\\nsamples = 1\\nvalue = [1, 0]'),\n",
       " Text(0.19628814092481914, 0.021739130434782608, 'entropy = 0.0\\nsamples = 1\\nvalue = [0, 1]'),\n",
       " Text(0.20635419943378422, 0.06521739130434782, 'entropy = 0.0\\nsamples = 6\\nvalue = [0, 6]'),\n",
       " Text(0.2164202579427493, 0.10869565217391304, 'entropy = 0.0\\nsamples = 1\\nvalue = [1, 0]'),\n",
       " Text(0.22648631645171438, 0.15217391304347827, 'entropy = 0.0\\nsamples = 7\\nvalue = [0, 7]'),\n",
       " Text(0.23655237496067946, 0.1956521739130435, 'entropy = 0.0\\nsamples = 1\\nvalue = [1, 0]'),\n",
       " Text(0.24661843346964454, 0.2391304347826087, 'entropy = 0.0\\nsamples = 1\\nvalue = [1, 0]'),\n",
       " Text(0.2768166089965398, 0.2826086956521739, 'X[24] <= 1.414\\nentropy = 0.918\\nsamples = 9\\nvalue = [6, 3]'),\n",
       " Text(0.26675055048757473, 0.2391304347826087, 'X[23] <= 0.886\\nentropy = 0.592\\nsamples = 7\\nvalue = [6, 1]'),\n",
       " Text(0.25668449197860965, 0.1956521739130435, 'entropy = 0.0\\nsamples = 5\\nvalue = [5, 0]'),\n",
       " Text(0.2768166089965398, 0.1956521739130435, 'X[22] <= 0.673\\nentropy = 1.0\\nsamples = 2\\nvalue = [1, 1]'),\n",
       " Text(0.26675055048757473, 0.15217391304347827, 'entropy = 0.0\\nsamples = 1\\nvalue = [0, 1]'),\n",
       " Text(0.2868826675055049, 0.15217391304347827, 'entropy = 0.0\\nsamples = 1\\nvalue = [1, 0]'),\n",
       " Text(0.2868826675055049, 0.2391304347826087, 'entropy = 0.0\\nsamples = 2\\nvalue = [0, 2]'),\n",
       " Text(0.30701478452343506, 0.32608695652173914, 'X[24] <= 2.643\\nentropy = 0.414\\nsamples = 12\\nvalue = [1, 11]'),\n",
       " Text(0.29694872601447, 0.2826086956521739, 'entropy = 0.0\\nsamples = 11\\nvalue = [0, 11]'),\n",
       " Text(0.31708084303240014, 0.2826086956521739, 'entropy = 0.0\\nsamples = 1\\nvalue = [1, 0]'),\n",
       " Text(0.3019817552689525, 0.3695652173913043, 'entropy = 0.0\\nsamples = 5\\nvalue = [5, 0]'),\n",
       " Text(0.31204781377791757, 0.41304347826086957, 'entropy = 0.0\\nsamples = 6\\nvalue = [6, 0]'),\n",
       " Text(0.33217993079584773, 0.5, 'X[8] <= 0.354\\nentropy = 0.362\\nsamples = 29\\nvalue = [27, 2]'),\n",
       " Text(0.32211387228688265, 0.45652173913043476, 'entropy = 0.0\\nsamples = 26\\nvalue = [26, 0]'),\n",
       " Text(0.3422459893048128, 0.45652173913043476, 'X[24] <= 0.353\\nentropy = 0.918\\nsamples = 3\\nvalue = [1, 2]'),\n",
       " Text(0.33217993079584773, 0.41304347826086957, 'entropy = 0.0\\nsamples = 2\\nvalue = [0, 2]'),\n",
       " Text(0.3523120478137779, 0.41304347826086957, 'entropy = 0.0\\nsamples = 1\\nvalue = [1, 0]'),\n",
       " Text(0.3825102233406732, 0.5434782608695652, 'X[8] <= -0.803\\nentropy = 0.342\\nsamples = 47\\nvalue = [44, 3]'),\n",
       " Text(0.37244416483170806, 0.5, 'X[24] <= 0.069\\nentropy = 0.696\\nsamples = 16\\nvalue = [13, 3]'),\n",
       " Text(0.362378106322743, 0.45652173913043476, 'entropy = 0.0\\nsamples = 10\\nvalue = [10, 0]'),\n",
       " Text(0.3825102233406732, 0.45652173913043476, 'X[24] <= 1.129\\nentropy = 1.0\\nsamples = 6\\nvalue = [3, 3]'),\n",
       " Text(0.37244416483170806, 0.41304347826086957, 'entropy = 0.0\\nsamples = 3\\nvalue = [0, 3]'),\n",
       " Text(0.3925762818496383, 0.41304347826086957, 'entropy = 0.0\\nsamples = 3\\nvalue = [3, 0]'),\n",
       " Text(0.3925762818496383, 0.5, 'entropy = 0.0\\nsamples = 31\\nvalue = [31, 0]'),\n",
       " Text(0.4328405158854986, 0.5869565217391305, 'X[17] <= 0.465\\nentropy = 0.696\\nsamples = 16\\nvalue = [3, 13]'),\n",
       " Text(0.4227744573765335, 0.5434782608695652, 'X[4] <= 0.808\\nentropy = 0.371\\nsamples = 14\\nvalue = [1, 13]'),\n",
       " Text(0.41270839886756844, 0.5, 'entropy = 0.0\\nsamples = 13\\nvalue = [0, 13]'),\n",
       " Text(0.4328405158854986, 0.5, 'entropy = 0.0\\nsamples = 1\\nvalue = [1, 0]'),\n",
       " Text(0.4429065743944637, 0.5434782608695652, 'entropy = 0.0\\nsamples = 2\\nvalue = [2, 0]'),\n",
       " Text(0.4061025479710601, 0.6304347826086957, 'entropy = 0.0\\nsamples = 33\\nvalue = [33, 0]'),\n",
       " Text(0.4161686064800252, 0.6739130434782609, 'entropy = 0.0\\nsamples = 71\\nvalue = [71, 0]'),\n",
       " Text(0.4664988990248506, 0.7608695652173914, 'X[10] <= -0.404\\nentropy = 0.928\\nsamples = 32\\nvalue = [11, 21]'),\n",
       " Text(0.4463667820069204, 0.717391304347826, 'X[23] <= -0.038\\nentropy = 0.811\\nsamples = 12\\nvalue = [9, 3]'),\n",
       " Text(0.43630072349795535, 0.6739130434782609, 'entropy = 0.0\\nsamples = 8\\nvalue = [8, 0]'),\n",
       " Text(0.4564328405158855, 0.6739130434782609, 'X[22] <= 2.038\\nentropy = 0.811\\nsamples = 4\\nvalue = [1, 3]'),\n",
       " Text(0.4463667820069204, 0.6304347826086957, 'entropy = 0.0\\nsamples = 3\\nvalue = [0, 3]'),\n",
       " Text(0.4664988990248506, 0.6304347826086957, 'entropy = 0.0\\nsamples = 1\\nvalue = [1, 0]'),\n",
       " Text(0.48663101604278075, 0.717391304347826, 'X[22] <= -0.284\\nentropy = 0.469\\nsamples = 20\\nvalue = [2, 18]'),\n",
       " Text(0.47656495753381567, 0.6739130434782609, 'entropy = 0.0\\nsamples = 14\\nvalue = [0, 14]'),\n",
       " Text(0.49669707455174583, 0.6739130434782609, 'X[10] <= 0.779\\nentropy = 0.918\\nsamples = 6\\nvalue = [2, 4]'),\n",
       " Text(0.48663101604278075, 0.6304347826086957, 'entropy = 0.0\\nsamples = 4\\nvalue = [0, 4]'),\n",
       " Text(0.506763133060711, 0.6304347826086957, 'entropy = 0.0\\nsamples = 2\\nvalue = [2, 0]'),\n",
       " Text(0.3958005662157911, 0.8043478260869565, 'entropy = 0.0\\nsamples = 458\\nvalue = [458, 0]'),\n",
       " Text(0.6426549229317395, 0.8478260869565217, 'X[15] <= -0.232\\nentropy = 0.985\\nsamples = 131\\nvalue = [75, 56]'),\n",
       " Text(0.6325888644227745, 0.8043478260869565, 'X[5] <= 1.12\\nentropy = 1.0\\nsamples = 114\\nvalue = [58, 56]'),\n",
       " Text(0.5671594841145015, 0.7608695652173914, 'X[1] <= 0.332\\nentropy = 0.928\\nsamples = 64\\nvalue = [42, 22]'),\n",
       " Text(0.5470273670965713, 0.717391304347826, 'X[19] <= -0.016\\nentropy = 0.74\\nsamples = 43\\nvalue = [34, 9]'),\n",
       " Text(0.5369613085876062, 0.6739130434782609, 'X[4] <= 0.009\\nentropy = 0.931\\nsamples = 26\\nvalue = [17, 9]'),\n",
       " Text(0.5268952500786411, 0.6304347826086957, 'X[18] <= 0.069\\nentropy = 0.998\\nsamples = 17\\nvalue = [8, 9]'),\n",
       " Text(0.516829191569676, 0.5869565217391305, 'X[8] <= 0.872\\nentropy = 0.89\\nsamples = 13\\nvalue = [4, 9]'),\n",
       " Text(0.506763133060711, 0.5434782608695652, 'X[20] <= 0.793\\nentropy = 0.684\\nsamples = 11\\nvalue = [2, 9]'),\n",
       " Text(0.49669707455174583, 0.5, 'X[1] <= 0.117\\nentropy = 0.469\\nsamples = 10\\nvalue = [1, 9]'),\n",
       " Text(0.48663101604278075, 0.45652173913043476, 'entropy = 0.0\\nsamples = 9\\nvalue = [0, 9]'),\n",
       " Text(0.506763133060711, 0.45652173913043476, 'entropy = 0.0\\nsamples = 1\\nvalue = [1, 0]'),\n",
       " Text(0.516829191569676, 0.5, 'entropy = 0.0\\nsamples = 1\\nvalue = [1, 0]'),\n",
       " Text(0.5268952500786411, 0.5434782608695652, 'entropy = 0.0\\nsamples = 2\\nvalue = [2, 0]'),\n",
       " Text(0.5369613085876062, 0.5869565217391305, 'entropy = 0.0\\nsamples = 4\\nvalue = [4, 0]'),\n",
       " Text(0.5470273670965713, 0.6304347826086957, 'entropy = 0.0\\nsamples = 9\\nvalue = [9, 0]'),\n",
       " Text(0.5570934256055363, 0.6739130434782609, 'entropy = 0.0\\nsamples = 17\\nvalue = [17, 0]'),\n",
       " Text(0.5872916011324316, 0.717391304347826, 'X[23] <= -0.571\\nentropy = 0.959\\nsamples = 21\\nvalue = [8, 13]'),\n",
       " Text(0.5772255426234665, 0.6739130434782609, 'entropy = 0.0\\nsamples = 4\\nvalue = [4, 0]'),\n",
       " Text(0.5973576596413966, 0.6739130434782609, 'X[10] <= -0.124\\nentropy = 0.787\\nsamples = 17\\nvalue = [4, 13]'),\n",
       " Text(0.5772255426234665, 0.6304347826086957, 'X[1] <= 0.654\\nentropy = 0.971\\nsamples = 5\\nvalue = [3, 2]'),\n",
       " Text(0.5671594841145015, 0.5869565217391305, 'entropy = 0.0\\nsamples = 2\\nvalue = [0, 2]'),\n",
       " Text(0.5872916011324316, 0.5869565217391305, 'entropy = 0.0\\nsamples = 3\\nvalue = [3, 0]'),\n",
       " Text(0.6174897766593268, 0.6304347826086957, 'X[5] <= 1.052\\nentropy = 0.414\\nsamples = 12\\nvalue = [1, 11]'),\n",
       " Text(0.6074237181503618, 0.5869565217391305, 'entropy = 0.0\\nsamples = 11\\nvalue = [0, 11]'),\n",
       " Text(0.6275558351682919, 0.5869565217391305, 'entropy = 0.0\\nsamples = 1\\nvalue = [1, 0]'),\n",
       " Text(0.6980182447310475, 0.7608695652173914, 'X[7] <= 3.185\\nentropy = 0.904\\nsamples = 50\\nvalue = [16, 34]'),\n",
       " Text(0.6879521862220824, 0.717391304347826, 'X[24] <= -0.462\\nentropy = 0.828\\nsamples = 46\\nvalue = [12, 34]'),\n",
       " Text(0.6678200692041523, 0.6739130434782609, 'X[22] <= 0.766\\nentropy = 0.998\\nsamples = 19\\nvalue = [10, 9]'),\n",
       " Text(0.6577540106951871, 0.6304347826086957, 'X[10] <= 1.1\\nentropy = 0.954\\nsamples = 16\\nvalue = [10, 6]'),\n",
       " Text(0.6476879521862221, 0.5869565217391305, 'X[23] <= -0.678\\nentropy = 0.863\\nsamples = 14\\nvalue = [10, 4]'),\n",
       " Text(0.637621893677257, 0.5434782608695652, 'X[5] <= 1.682\\nentropy = 0.971\\nsamples = 10\\nvalue = [6, 4]'),\n",
       " Text(0.6275558351682919, 0.5, 'entropy = 0.0\\nsamples = 2\\nvalue = [0, 2]'),\n",
       " Text(0.6476879521862221, 0.5, 'X[8] <= -0.39\\nentropy = 0.811\\nsamples = 8\\nvalue = [6, 2]'),\n",
       " Text(0.637621893677257, 0.45652173913043476, 'X[23] <= -0.82\\nentropy = 1.0\\nsamples = 4\\nvalue = [2, 2]'),\n",
       " Text(0.6275558351682919, 0.41304347826086957, 'entropy = 0.0\\nsamples = 1\\nvalue = [0, 1]'),\n",
       " Text(0.6476879521862221, 0.41304347826086957, 'X[5] <= 8.25\\nentropy = 0.918\\nsamples = 3\\nvalue = [2, 1]'),\n",
       " Text(0.637621893677257, 0.3695652173913043, 'entropy = 0.0\\nsamples = 2\\nvalue = [2, 0]'),\n",
       " Text(0.6577540106951871, 0.3695652173913043, 'entropy = 0.0\\nsamples = 1\\nvalue = [0, 1]'),\n",
       " Text(0.6577540106951871, 0.45652173913043476, 'entropy = 0.0\\nsamples = 4\\nvalue = [4, 0]'),\n",
       " Text(0.6577540106951871, 0.5434782608695652, 'entropy = 0.0\\nsamples = 4\\nvalue = [4, 0]'),\n",
       " Text(0.6678200692041523, 0.5869565217391305, 'entropy = 0.0\\nsamples = 2\\nvalue = [0, 2]'),\n",
       " Text(0.6778861277131173, 0.6304347826086957, 'entropy = 0.0\\nsamples = 3\\nvalue = [0, 3]'),\n",
       " Text(0.7080843032400126, 0.6739130434782609, 'X[8] <= -0.349\\nentropy = 0.381\\nsamples = 27\\nvalue = [2, 25]'),\n",
       " Text(0.6980182447310475, 0.6304347826086957, 'X[23] <= 0.886\\nentropy = 0.971\\nsamples = 5\\nvalue = [2, 3]'),\n",
       " Text(0.6879521862220824, 0.5869565217391305, 'entropy = 0.0\\nsamples = 3\\nvalue = [0, 3]'),\n",
       " Text(0.7080843032400126, 0.5869565217391305, 'entropy = 0.0\\nsamples = 2\\nvalue = [2, 0]'),\n",
       " Text(0.7181503617489776, 0.6304347826086957, 'entropy = 0.0\\nsamples = 22\\nvalue = [0, 22]'),\n",
       " Text(0.7080843032400126, 0.717391304347826, 'entropy = 0.0\\nsamples = 4\\nvalue = [4, 0]'),\n",
       " Text(0.6527209814407047, 0.8043478260869565, 'entropy = 0.0\\nsamples = 17\\nvalue = [17, 0]'),\n",
       " Text(0.7986788298206984, 0.8913043478260869, 'X[15] <= -0.218\\nentropy = 0.51\\nsamples = 97\\nvalue = [11, 86]'),\n",
       " Text(0.7886127713117332, 0.8478260869565217, 'X[22] <= -0.221\\nentropy = 0.307\\nsamples = 91\\nvalue = [5, 86]'),\n",
       " Text(0.7785467128027682, 0.8043478260869565, 'X[8] <= 0.282\\nentropy = 0.677\\nsamples = 28\\nvalue = [5, 23]'),\n",
       " Text(0.7684806542938031, 0.7608695652173914, 'X[20] <= -0.114\\nentropy = 0.896\\nsamples = 16\\nvalue = [5, 11]'),\n",
       " Text(0.758414595784838, 0.717391304347826, 'X[23] <= -0.322\\nentropy = 0.75\\nsamples = 14\\nvalue = [3, 11]'),\n",
       " Text(0.7483485372758729, 0.6739130434782609, 'X[4] <= 0.43\\nentropy = 1.0\\nsamples = 6\\nvalue = [3, 3]'),\n",
       " Text(0.7382824787669078, 0.6304347826086957, 'X[8] <= -0.599\\nentropy = 0.811\\nsamples = 4\\nvalue = [3, 1]'),\n",
       " Text(0.7282164202579428, 0.5869565217391305, 'entropy = 0.0\\nsamples = 1\\nvalue = [0, 1]'),\n",
       " Text(0.7483485372758729, 0.5869565217391305, 'entropy = 0.0\\nsamples = 3\\nvalue = [3, 0]'),\n",
       " Text(0.758414595784838, 0.6304347826086957, 'entropy = 0.0\\nsamples = 2\\nvalue = [0, 2]'),\n",
       " Text(0.7684806542938031, 0.6739130434782609, 'entropy = 0.0\\nsamples = 8\\nvalue = [0, 8]'),\n",
       " Text(0.7785467128027682, 0.717391304347826, 'entropy = 0.0\\nsamples = 2\\nvalue = [2, 0]'),\n",
       " Text(0.7886127713117332, 0.7608695652173914, 'entropy = 0.0\\nsamples = 12\\nvalue = [0, 12]'),\n",
       " Text(0.7986788298206984, 0.8043478260869565, 'entropy = 0.0\\nsamples = 63\\nvalue = [0, 63]'),\n",
       " Text(0.8087448883296634, 0.8478260869565217, 'entropy = 0.0\\nsamples = 6\\nvalue = [6, 0]'),\n",
       " Text(0.9295375904372444, 0.9347826086956522, 'X[13] <= -0.214\\nentropy = 0.781\\nsamples = 319\\nvalue = [74, 245]'),\n",
       " Text(0.879207297892419, 0.8913043478260869, 'X[20] <= -0.135\\nentropy = 0.634\\nsamples = 288\\nvalue = [46, 242]'),\n",
       " Text(0.8490091223655237, 0.8478260869565217, 'X[23] <= -0.322\\nentropy = 0.494\\nsamples = 268\\nvalue = [29, 239]'),\n",
       " Text(0.8188109468386285, 0.8043478260869565, 'X[3] <= 0.205\\nentropy = 0.999\\nsamples = 33\\nvalue = [17, 16]'),\n",
       " Text(0.8087448883296634, 0.7608695652173914, 'X[8] <= 0.759\\nentropy = 0.904\\nsamples = 25\\nvalue = [17, 8]'),\n",
       " Text(0.7986788298206984, 0.717391304347826, 'entropy = 0.0\\nsamples = 14\\nvalue = [14, 0]'),\n",
       " Text(0.8188109468386285, 0.717391304347826, 'X[4] <= 0.529\\nentropy = 0.845\\nsamples = 11\\nvalue = [3, 8]'),\n",
       " Text(0.8087448883296634, 0.6739130434782609, 'X[22] <= -0.618\\nentropy = 0.503\\nsamples = 9\\nvalue = [1, 8]'),\n",
       " Text(0.7986788298206984, 0.6304347826086957, 'X[21] <= 0.302\\nentropy = 1.0\\nsamples = 2\\nvalue = [1, 1]'),\n",
       " Text(0.7886127713117332, 0.5869565217391305, 'entropy = 0.0\\nsamples = 1\\nvalue = [0, 1]'),\n",
       " Text(0.8087448883296634, 0.5869565217391305, 'entropy = 0.0\\nsamples = 1\\nvalue = [1, 0]'),\n",
       " Text(0.8188109468386285, 0.6304347826086957, 'entropy = 0.0\\nsamples = 7\\nvalue = [0, 7]'),\n",
       " Text(0.8288770053475936, 0.6739130434782609, 'entropy = 0.0\\nsamples = 2\\nvalue = [2, 0]'),\n",
       " Text(0.8288770053475936, 0.7608695652173914, 'entropy = 0.0\\nsamples = 8\\nvalue = [0, 8]'),\n",
       " Text(0.879207297892419, 0.8043478260869565, 'X[22] <= 0.992\\nentropy = 0.291\\nsamples = 235\\nvalue = [12, 223]'),\n",
       " Text(0.8691412393834539, 0.7608695652173914, 'X[6] <= 0.458\\nentropy = 0.414\\nsamples = 144\\nvalue = [12, 132]'),\n",
       " Text(0.8590751808744889, 0.717391304347826, 'X[11] <= 0.782\\nentropy = 0.587\\nsamples = 85\\nvalue = [12, 73]'),\n",
       " Text(0.8490091223655237, 0.6739130434782609, 'X[7] <= 2.743\\nentropy = 0.757\\nsamples = 55\\nvalue = [12, 43]'),\n",
       " Text(0.8389430638565587, 0.6304347826086957, 'X[8] <= 1.084\\nentropy = 0.665\\nsamples = 52\\nvalue = [9, 43]'),\n",
       " Text(0.8288770053475936, 0.5869565217391305, 'X[5] <= 0.848\\nentropy = 0.79\\nsamples = 38\\nvalue = [9, 29]'),\n",
       " Text(0.8188109468386285, 0.5434782608695652, 'X[16] <= 0.083\\nentropy = 0.894\\nsamples = 29\\nvalue = [9, 20]'),\n",
       " Text(0.8087448883296634, 0.5, 'X[23] <= 0.282\\nentropy = 0.966\\nsamples = 23\\nvalue = [9, 14]'),\n",
       " Text(0.7886127713117332, 0.45652173913043476, 'X[23] <= -0.18\\nentropy = 0.619\\nsamples = 13\\nvalue = [2, 11]'),\n",
       " Text(0.7785467128027682, 0.41304347826086957, 'X[22] <= -0.052\\nentropy = 0.971\\nsamples = 5\\nvalue = [2, 3]'),\n",
       " Text(0.7684806542938031, 0.3695652173913043, 'entropy = 0.0\\nsamples = 2\\nvalue = [2, 0]'),\n",
       " Text(0.7886127713117332, 0.3695652173913043, 'entropy = 0.0\\nsamples = 3\\nvalue = [0, 3]'),\n",
       " Text(0.7986788298206984, 0.41304347826086957, 'entropy = 0.0\\nsamples = 8\\nvalue = [0, 8]'),\n",
       " Text(0.8288770053475936, 0.45652173913043476, 'X[12] <= 0.631\\nentropy = 0.881\\nsamples = 10\\nvalue = [7, 3]'),\n",
       " Text(0.8188109468386285, 0.41304347826086957, 'entropy = 0.0\\nsamples = 5\\nvalue = [5, 0]'),\n",
       " Text(0.8389430638565587, 0.41304347826086957, 'X[22] <= -0.132\\nentropy = 0.971\\nsamples = 5\\nvalue = [2, 3]'),\n",
       " Text(0.8288770053475936, 0.3695652173913043, 'entropy = 0.0\\nsamples = 2\\nvalue = [0, 2]'),\n",
       " Text(0.8490091223655237, 0.3695652173913043, 'X[22] <= 0.155\\nentropy = 0.918\\nsamples = 3\\nvalue = [2, 1]'),\n",
       " Text(0.8389430638565587, 0.32608695652173914, 'entropy = 0.0\\nsamples = 1\\nvalue = [1, 0]'),\n",
       " Text(0.8590751808744889, 0.32608695652173914, 'entropy = 1.0\\nsamples = 2\\nvalue = [1, 1]'),\n",
       " Text(0.8288770053475936, 0.5, 'entropy = 0.0\\nsamples = 6\\nvalue = [0, 6]'),\n",
       " Text(0.8389430638565587, 0.5434782608695652, 'entropy = 0.0\\nsamples = 9\\nvalue = [0, 9]'),\n",
       " Text(0.8490091223655237, 0.5869565217391305, 'entropy = 0.0\\nsamples = 14\\nvalue = [0, 14]'),\n",
       " Text(0.8590751808744889, 0.6304347826086957, 'entropy = 0.0\\nsamples = 3\\nvalue = [3, 0]'),\n",
       " Text(0.8691412393834539, 0.6739130434782609, 'entropy = 0.0\\nsamples = 30\\nvalue = [0, 30]'),\n",
       " Text(0.879207297892419, 0.717391304347826, 'entropy = 0.0\\nsamples = 59\\nvalue = [0, 59]'),\n",
       " Text(0.889273356401384, 0.7608695652173914, 'entropy = 0.0\\nsamples = 91\\nvalue = [0, 91]'),\n",
       " Text(0.9094054734193142, 0.8478260869565217, 'X[23] <= 0.318\\nentropy = 0.61\\nsamples = 20\\nvalue = [17, 3]'),\n",
       " Text(0.8993394149103492, 0.8043478260869565, 'entropy = 0.0\\nsamples = 15\\nvalue = [15, 0]'),\n",
       " Text(0.9194715319282794, 0.8043478260869565, 'X[11] <= 0.51\\nentropy = 0.971\\nsamples = 5\\nvalue = [2, 3]'),\n",
       " Text(0.9094054734193142, 0.7608695652173914, 'entropy = 0.0\\nsamples = 3\\nvalue = [0, 3]'),\n",
       " Text(0.9295375904372444, 0.7608695652173914, 'entropy = 0.0\\nsamples = 2\\nvalue = [2, 0]'),\n",
       " Text(0.9798678829820698, 0.8913043478260869, 'X[13] <= 0.029\\nentropy = 0.459\\nsamples = 31\\nvalue = [28, 3]'),\n",
       " Text(0.9698018244731047, 0.8478260869565217, 'X[11] <= 0.22\\nentropy = 0.881\\nsamples = 10\\nvalue = [7, 3]'),\n",
       " Text(0.9597357659641397, 0.8043478260869565, 'X[21] <= 0.106\\nentropy = 0.544\\nsamples = 8\\nvalue = [7, 1]'),\n",
       " Text(0.9496697074551745, 0.7608695652173914, 'entropy = 1.0\\nsamples = 2\\nvalue = [1, 1]'),\n",
       " Text(0.9698018244731047, 0.7608695652173914, 'entropy = 0.0\\nsamples = 6\\nvalue = [6, 0]'),\n",
       " Text(0.9798678829820698, 0.8043478260869565, 'entropy = 0.0\\nsamples = 2\\nvalue = [0, 2]'),\n",
       " Text(0.9899339414910349, 0.8478260869565217, 'entropy = 0.0\\nsamples = 21\\nvalue = [21, 0]')]"
      ]
     },
     "execution_count": 17,
     "metadata": {},
     "output_type": "execute_result"
    },
    {
     "data": {
      "image/png": "[encoded data removed]",
      "text/plain": [
       "<Figure size 640x480 with 1 Axes>"
      ]
     },
     "metadata": {},
     "output_type": "display_data"
    }
   ],
   "source": [
    "dt_best = tree.DecisionTreeClassifier(**dt_best_params)\n",
    "dt_best = dt_best.fit(X_train, y_train)\n",
    "tree.plot_tree(dt_best)"
   ]
  },
  {
   "cell_type": "code",
   "execution_count": 18,
   "id": "412b2550",
   "metadata": {},
   "outputs": [
    {
     "name": "stdout",
     "output_type": "stream",
     "text": [
      "[0.90147783 0.87684729 0.90640394 0.93596059 0.91133005 0.89655172\n",
      " 0.89162562 0.90147783 0.90147783 0.93596059]\n",
      "[0.84210526 0.68       0.82222222 0.86956522 0.80769231 0.81395349\n",
      " 0.76595745 0.84782609 0.82       0.91111111]\n",
      "[0.66666667 0.70833333 0.77083333 0.83333333 0.89583333 0.72916667\n",
      " 0.75       0.75       0.85416667 0.83333333]\n",
      "[0.77272727 0.75268817 0.80434783 0.84782609 0.85714286 0.77419355\n",
      " 0.77083333 0.85106383 0.79207921 0.89361702]\n"
     ]
    }
   ],
   "source": [
    "accuracy = cross_val_score(dt_best,X_train,y_train,cv=10,scoring='accuracy')\n",
    "precision = cross_val_score(dt_best,X_train,y_train,cv=10,scoring='precision')\n",
    "recall = cross_val_score(dt_best,X_train,y_train,cv=10,scoring='recall')\n",
    "f1_score = cross_val_score(dt_best,X_train,y_train,cv=10,scoring='f1')\n",
    "\n",
    "\n",
    "print(accuracy)\n",
    "print(precision)\n",
    "print(recall)\n",
    "print(f1_score)"
   ]
  },
  {
   "cell_type": "code",
   "execution_count": 19,
   "id": "cd819847",
   "metadata": {},
   "outputs": [
    {
     "name": "stdout",
     "output_type": "stream",
     "text": [
      "Accuracy: 0.91 (+/- 0.03)\n",
      "Precision: 0.82 (+/- 0.12)\n",
      "Recall: 0.78 (+/- 0.14)\n",
      "F1_score: 0.81 (+/- 0.09)\n"
     ]
    }
   ],
   "source": [
    "print(\"Accuracy: %0.2f (+/- %0.2f)\" % (accuracy.mean(), accuracy.std() * 2))\n",
    "print(\"Precision: %0.2f (+/- %0.2f)\" % (precision.mean(), precision.std() * 2))\n",
    "print(\"Recall: %0.2f (+/- %0.2f)\" % (recall.mean(), recall.std() * 2))\n",
    "print(\"F1_score: %0.2f (+/- %0.2f)\" % (f1_score.mean(), f1_score.std() * 2))"
   ]
  },
  {
   "cell_type": "markdown",
   "id": "3b2ac05c",
   "metadata": {},
   "source": [
    "#### Logistic Regression"
   ]
  },
  {
   "cell_type": "code",
   "execution_count": 20,
   "id": "dd8272f9",
   "metadata": {},
   "outputs": [
    {
     "name": "stderr",
     "output_type": "stream",
     "text": [
      "/Users/yuxuanyang/opt/anaconda3/lib/python3.8/site-packages/sklearn/linear_model/_logistic.py:444: ConvergenceWarning: lbfgs failed to converge (status=1):\n",
      "STOP: TOTAL NO. of ITERATIONS REACHED LIMIT.\n",
      "\n",
      "Increase the number of iterations (max_iter) or scale the data as shown in:\n",
      "    https://scikit-learn.org/stable/modules/preprocessing.html\n",
      "Please also refer to the documentation for alternative solver options:\n",
      "    https://scikit-learn.org/stable/modules/linear_model.html#logistic-regression\n",
      "  n_iter_i = _check_optimize_result(\n",
      "/Users/yuxuanyang/opt/anaconda3/lib/python3.8/site-packages/sklearn/linear_model/_logistic.py:444: ConvergenceWarning: lbfgs failed to converge (status=1):\n",
      "STOP: TOTAL NO. of ITERATIONS REACHED LIMIT.\n",
      "\n",
      "Increase the number of iterations (max_iter) or scale the data as shown in:\n",
      "    https://scikit-learn.org/stable/modules/preprocessing.html\n",
      "Please also refer to the documentation for alternative solver options:\n",
      "    https://scikit-learn.org/stable/modules/linear_model.html#logistic-regression\n",
      "  n_iter_i = _check_optimize_result(\n",
      "/Users/yuxuanyang/opt/anaconda3/lib/python3.8/site-packages/sklearn/linear_model/_logistic.py:444: ConvergenceWarning: lbfgs failed to converge (status=1):\n",
      "STOP: TOTAL NO. of ITERATIONS REACHED LIMIT.\n",
      "\n",
      "Increase the number of iterations (max_iter) or scale the data as shown in:\n",
      "    https://scikit-learn.org/stable/modules/preprocessing.html\n",
      "Please also refer to the documentation for alternative solver options:\n",
      "    https://scikit-learn.org/stable/modules/linear_model.html#logistic-regression\n",
      "  n_iter_i = _check_optimize_result(\n",
      "/Users/yuxuanyang/opt/anaconda3/lib/python3.8/site-packages/sklearn/linear_model/_logistic.py:444: ConvergenceWarning: lbfgs failed to converge (status=1):\n",
      "STOP: TOTAL NO. of ITERATIONS REACHED LIMIT.\n",
      "\n",
      "Increase the number of iterations (max_iter) or scale the data as shown in:\n",
      "    https://scikit-learn.org/stable/modules/preprocessing.html\n",
      "Please also refer to the documentation for alternative solver options:\n",
      "    https://scikit-learn.org/stable/modules/linear_model.html#logistic-regression\n",
      "  n_iter_i = _check_optimize_result(\n",
      "/Users/yuxuanyang/opt/anaconda3/lib/python3.8/site-packages/sklearn/linear_model/_logistic.py:444: ConvergenceWarning: lbfgs failed to converge (status=1):\n",
      "STOP: TOTAL NO. of ITERATIONS REACHED LIMIT.\n",
      "\n",
      "Increase the number of iterations (max_iter) or scale the data as shown in:\n",
      "    https://scikit-learn.org/stable/modules/preprocessing.html\n",
      "Please also refer to the documentation for alternative solver options:\n",
      "    https://scikit-learn.org/stable/modules/linear_model.html#logistic-regression\n",
      "  n_iter_i = _check_optimize_result(\n"
     ]
    },
    {
     "data": {
      "text/plain": [
       "({'C': 100, 'penalty': 'l2', 'solver': 'liblinear'}, 0.9162512230349905)"
      ]
     },
     "execution_count": 20,
     "metadata": {},
     "output_type": "execute_result"
    }
   ],
   "source": [
    "solvers = ['newton-cg', 'lbfgs', 'liblinear']\n",
    "penalty = ['l2']\n",
    "c_values = [100, 10, 1.0, 0.1, 0.01]\n",
    "\n",
    "tuned_parameters = dict(solver=solvers,penalty=penalty,C=c_values)\n",
    "\n",
    "lr = linear_model.LogisticRegression()\n",
    "lr = GridSearchCV(lr,tuned_parameters,cv=inner_cv,scoring='accuracy')\n",
    "\n",
    "lr.fit(X_train,y_train)\n",
    "\n",
    "lr_best_params = lr.best_params_\n",
    "lr_best_scores = lr.best_score_\n",
    "lr_best_params, lr_best_scores"
   ]
  },
  {
   "cell_type": "code",
   "execution_count": 21,
   "id": "de185ce4",
   "metadata": {},
   "outputs": [],
   "source": [
    "lr_best = linear_model.LogisticRegression(**lr_best_params)\n",
    "lr_best = lr_best.fit(X_train, y_train)"
   ]
  },
  {
   "cell_type": "code",
   "execution_count": 22,
   "id": "db5cb569",
   "metadata": {},
   "outputs": [
    {
     "name": "stdout",
     "output_type": "stream",
     "text": [
      "[0.91625616 0.91133005 0.91133005 0.90640394 0.93596059 0.92610837\n",
      " 0.88669951 0.92610837 0.92118227 0.92118227]\n",
      "[0.8974359  0.89473684 0.84090909 0.80851064 0.90697674 0.83673469\n",
      " 0.82051282 0.86666667 0.9        0.86363636]\n",
      "[0.72916667 0.70833333 0.77083333 0.79166667 0.8125     0.85416667\n",
      " 0.66666667 0.8125     0.75       0.79166667]\n",
      "[0.8045977  0.79069767 0.80434783 0.8        0.85714286 0.84536082\n",
      " 0.73563218 0.83870968 0.81818182 0.82608696]\n"
     ]
    }
   ],
   "source": [
    "accuracy = cross_val_score(lr_best,X_train,y_train,cv=10,scoring='accuracy')\n",
    "precision = cross_val_score(lr_best,X_train,y_train,cv=10,scoring='precision')\n",
    "recall = cross_val_score(lr_best,X_train,y_train,cv=10,scoring='recall')\n",
    "f1_score = cross_val_score(lr_best,X_train,y_train,cv=10,scoring='f1')\n",
    "\n",
    "\n",
    "print(accuracy)\n",
    "print(precision)\n",
    "print(recall)\n",
    "print(f1_score)"
   ]
  },
  {
   "cell_type": "code",
   "execution_count": 23,
   "id": "7f8bd9d5",
   "metadata": {},
   "outputs": [
    {
     "name": "stdout",
     "output_type": "stream",
     "text": [
      "Accuracy: 0.92 (+/- 0.03)\n",
      "Precision: 0.86 (+/- 0.07)\n",
      "Recall: 0.77 (+/- 0.11)\n",
      "F1_score: 0.81 (+/- 0.07)\n"
     ]
    }
   ],
   "source": [
    "print(\"Accuracy: %0.2f (+/- %0.2f)\" % (accuracy.mean(), accuracy.std() * 2))\n",
    "print(\"Precision: %0.2f (+/- %0.2f)\" % (precision.mean(), precision.std() * 2))\n",
    "print(\"Recall: %0.2f (+/- %0.2f)\" % (recall.mean(), recall.std() * 2))\n",
    "print(\"F1_score: %0.2f (+/- %0.2f)\" % (f1_score.mean(), f1_score.std() * 2))"
   ]
  },
  {
   "cell_type": "markdown",
   "id": "a03a460d",
   "metadata": {},
   "source": [
    "#### KNN"
   ]
  },
  {
   "cell_type": "code",
   "execution_count": 24,
   "id": "b5615e0f",
   "metadata": {},
   "outputs": [
    {
     "data": {
      "text/plain": [
       "({'leaf_size': 1,\n",
       "  'metric': 'minkowski',\n",
       "  'n_neighbors': 12,\n",
       "  'p': 2,\n",
       "  'weights': 'distance'},\n",
       " 0.9182304042615974)"
      ]
     },
     "execution_count": 24,
     "metadata": {},
     "output_type": "execute_result"
    }
   ],
   "source": [
    "tuned_parameters =  {'weights':['uniform','distance'],'n_neighbors':list(range(5,50)),'leaf_size': [1,20,30,40],\n",
    "'p' : [1,2],'metric' : ['minkowski', 'chebyshev']}\n",
    "\n",
    "knn = neighbors.KNeighborsClassifier()\n",
    "knn = GridSearchCV(knn,tuned_parameters,cv=inner_cv,scoring='accuracy')\n",
    "\n",
    "knn.fit(X_train,y_train)\n",
    "\n",
    "knn_best_params = knn.best_params_\n",
    "knn_best_scores = knn.best_score_\n",
    "knn_best_params, knn_best_scores"
   ]
  },
  {
   "cell_type": "code",
   "execution_count": 25,
   "id": "a148a857",
   "metadata": {},
   "outputs": [],
   "source": [
    "knn_best = neighbors.KNeighborsClassifier(**knn_best_params)\n",
    "knn_best = knn_best.fit(X_train, y_train)"
   ]
  },
  {
   "cell_type": "code",
   "execution_count": 26,
   "id": "d50739a0",
   "metadata": {},
   "outputs": [
    {
     "name": "stdout",
     "output_type": "stream",
     "text": [
      "[0.91133005 0.91625616 0.92118227 0.9408867  0.91133005 0.91133005\n",
      " 0.90147783 0.93596059 0.9408867  0.93103448]\n",
      "[0.96875    0.87804878 0.92105263 0.92857143 0.82608696 0.89473684\n",
      " 0.96666667 0.92682927 0.97368421 0.97222222]\n",
      "[0.64583333 0.75       0.72916667 0.8125     0.79166667 0.70833333\n",
      " 0.60416667 0.79166667 0.77083333 0.72916667]\n",
      "[0.775      0.80898876 0.81395349 0.86666667 0.80851064 0.79069767\n",
      " 0.74358974 0.85393258 0.86046512 0.83333333]\n"
     ]
    }
   ],
   "source": [
    "accuracy = cross_val_score(knn_best,X_train,y_train,cv=10,scoring='accuracy')\n",
    "precision = cross_val_score(knn_best,X_train,y_train,cv=10,scoring='precision')\n",
    "recall = cross_val_score(knn_best,X_train,y_train,cv=10,scoring='recall')\n",
    "f1_score = cross_val_score(knn_best,X_train,y_train,cv=10,scoring='f1')\n",
    "\n",
    "\n",
    "print(accuracy)\n",
    "print(precision)\n",
    "print(recall)\n",
    "print(f1_score)"
   ]
  },
  {
   "cell_type": "code",
   "execution_count": 27,
   "id": "2e52c2fd",
   "metadata": {},
   "outputs": [
    {
     "name": "stdout",
     "output_type": "stream",
     "text": [
      "Accuracy: 0.92 (+/- 0.03)\n",
      "Precision: 0.93 (+/- 0.09)\n",
      "Recall: 0.73 (+/- 0.13)\n",
      "F1_score: 0.82 (+/- 0.07)\n"
     ]
    }
   ],
   "source": [
    "print(\"Accuracy: %0.2f (+/- %0.2f)\" % (accuracy.mean(), accuracy.std() * 2))\n",
    "print(\"Precision: %0.2f (+/- %0.2f)\" % (precision.mean(), precision.std() * 2))\n",
    "print(\"Recall: %0.2f (+/- %0.2f)\" % (recall.mean(), recall.std() * 2))\n",
    "print(\"F1_score: %0.2f (+/- %0.2f)\" % (f1_score.mean(), f1_score.std() * 2))"
   ]
  },
  {
   "cell_type": "markdown",
   "id": "a73218db",
   "metadata": {},
   "source": [
    "#### SVM"
   ]
  },
  {
   "cell_type": "code",
   "execution_count": 45,
   "id": "8a6e79ae",
   "metadata": {},
   "outputs": [
    {
     "data": {
      "text/plain": [
       "({'C': 1000, 'gamma': 0.001, 'kernel': 'rbf'}, 0.9270857599900604)"
      ]
     },
     "execution_count": 45,
     "metadata": {},
     "output_type": "execute_result"
    }
   ],
   "source": [
    "from sklearn.svm import SVC\n",
    "tuned_parameters = [{'kernel': ['rbf'], 'gamma': [1e-3, 1e-4],\n",
    "                     'C': [1, 10, 100, 1000]},\n",
    "                    {'kernel': ['linear'], 'C': [1, 10, 100, 1000]}]\n",
    "\n",
    "svc = SVC()\n",
    "\n",
    "svc = GridSearchCV(svc,tuned_parameters,cv=inner_cv,scoring='accuracy')\n",
    "\n",
    "svc.fit(X_train,y_train)\n",
    "\n",
    "svc_best_params = svc.best_params_\n",
    "svc_best_scores = svc.best_score_\n",
    "svc_best_params, svc_best_scores"
   ]
  },
  {
   "cell_type": "code",
   "execution_count": 52,
   "id": "0cef40ba",
   "metadata": {},
   "outputs": [],
   "source": [
    "svc_best = SVC(**svc_best_params,probability=True)\n",
    "svc_best = svc_best.fit(X_train, y_train)"
   ]
  },
  {
   "cell_type": "code",
   "execution_count": 53,
   "id": "02ec672a",
   "metadata": {},
   "outputs": [
    {
     "name": "stdout",
     "output_type": "stream",
     "text": [
      "[0.9408867  0.94581281 0.94581281 0.92610837 0.93103448 0.93596059\n",
      " 0.93103448 0.93103448 0.90640394 0.92610837]\n",
      "[0.92682927 0.90909091 0.92857143 0.94444444 0.90243902 0.84313725\n",
      " 0.925      0.86956522 0.89189189 0.86666667]\n",
      "[0.80851064 0.85106383 0.82978723 0.72340426 0.78723404 0.89583333\n",
      " 0.77083333 0.83333333 0.6875     0.8125    ]\n",
      "[0.86363636 0.87912088 0.87640449 0.81927711 0.84090909 0.86868687\n",
      " 0.84090909 0.85106383 0.77647059 0.83870968]\n"
     ]
    }
   ],
   "source": [
    "accuracy = cross_val_score(svc_best,X_train,y_train,cv=10,scoring='accuracy')\n",
    "precision = cross_val_score(svc_best,X_train,y_train,cv=10,scoring='precision')\n",
    "recall = cross_val_score(svc_best,X_train,y_train,cv=10,scoring='recall')\n",
    "f1_score = cross_val_score(svc_best,X_train,y_train,cv=10,scoring='f1')\n",
    "\n",
    "\n",
    "print(accuracy)\n",
    "print(precision)\n",
    "print(recall)\n",
    "print(f1_score)"
   ]
  },
  {
   "cell_type": "code",
   "execution_count": 54,
   "id": "7e5d7385",
   "metadata": {},
   "outputs": [
    {
     "name": "stdout",
     "output_type": "stream",
     "text": [
      "Accuracy: 0.93 (+/- 0.02)\n",
      "Precision: 0.90 (+/- 0.06)\n",
      "Recall: 0.80 (+/- 0.12)\n",
      "F1_score: 0.85 (+/- 0.06)\n"
     ]
    }
   ],
   "source": [
    "print(\"Accuracy: %0.2f (+/- %0.2f)\" % (accuracy.mean(), accuracy.std() * 2))\n",
    "print(\"Precision: %0.2f (+/- %0.2f)\" % (precision.mean(), precision.std() * 2))\n",
    "print(\"Recall: %0.2f (+/- %0.2f)\" % (recall.mean(), recall.std() * 2))\n",
    "print(\"F1_score: %0.2f (+/- %0.2f)\" % (f1_score.mean(), f1_score.std() * 2))"
   ]
  },
  {
   "cell_type": "markdown",
   "id": "52a48389",
   "metadata": {},
   "source": [
    "#### Gradient Boosting"
   ]
  },
  {
   "cell_type": "code",
   "execution_count": 167,
   "id": "92614599",
   "metadata": {},
   "outputs": [
    {
     "data": {
      "text/plain": [
       "({'learning_rate': 0.1,\n",
       "  'max_depth': 7,\n",
       "  'max_features': 'log2',\n",
       "  'min_samples_leaf': 7,\n",
       "  'min_samples_split': 7,\n",
       "  'n_estimators': 100,\n",
       "  'subsample': 0.5},\n",
       " 0.9443247293792418)"
      ]
     },
     "execution_count": 167,
     "metadata": {},
     "output_type": "execute_result"
    }
   ],
   "source": [
    "from sklearn.ensemble import GradientBoostingClassifier\n",
    "\n",
    "tuned_parameters = [{'n_estimators':[50,100],'max_depth':[3,5,7],\n",
    "                    'min_samples_split':[3,5,7],'min_samples_leaf':[3,5,7],\n",
    "                     'max_features':['sqrt','log2'],'learning_rate':[0.1,0.5,0.05,0.01,0.005],'subsample':[0.5,0.7]}]\n",
    "\n",
    "gb = GradientBoostingClassifier()\n",
    "\n",
    "gb = GridSearchCV(gb,tuned_parameters,cv=inner_cv,scoring='accuracy')\n",
    "\n",
    "gb.fit(X_train,y_train)\n",
    "\n",
    "gb_best_params = gb.best_params_\n",
    "gb_best_scores = gb.best_score_\n",
    "gb_best_params, gb_best_scores"
   ]
  },
  {
   "cell_type": "code",
   "execution_count": 168,
   "id": "10bb4c1b",
   "metadata": {},
   "outputs": [],
   "source": [
    "gb_best = GradientBoostingClassifier(**gb_best_params)\n",
    "gb_best = gb_best.fit(X_train, y_train)"
   ]
  },
  {
   "cell_type": "code",
   "execution_count": 169,
   "id": "9ed34361",
   "metadata": {},
   "outputs": [
    {
     "name": "stdout",
     "output_type": "stream",
     "text": [
      "[0.95073892 0.95073892 0.9408867  0.92610837 0.93596059 0.95073892\n",
      " 0.92118227 0.92118227 0.94581281 0.96551724]\n",
      "[0.93478261 0.90909091 0.90909091 0.87804878 0.88372093 0.89361702\n",
      " 0.86363636 0.86363636 0.88636364 0.91304348]\n",
      "[0.91489362 0.82978723 0.85106383 0.76595745 0.82978723 0.89583333\n",
      " 0.77083333 0.8125     0.8125     0.89583333]\n",
      "[0.92307692 0.85714286 0.89130435 0.8372093  0.86666667 0.85714286\n",
      " 0.85714286 0.82608696 0.83870968 0.91489362]\n"
     ]
    }
   ],
   "source": [
    "accuracy = cross_val_score(gb_best,X_train,y_train,cv=10,scoring='accuracy')\n",
    "precision = cross_val_score(gb_best,X_train,y_train,cv=10,scoring='precision')\n",
    "recall = cross_val_score(gb_best,X_train,y_train,cv=10,scoring='recall')\n",
    "f1_score = cross_val_score(gb_best,X_train,y_train,cv=10,scoring='f1')\n",
    "\n",
    "\n",
    "print(accuracy)\n",
    "print(precision)\n",
    "print(recall)\n",
    "print(f1_score)"
   ]
  },
  {
   "cell_type": "code",
   "execution_count": 170,
   "id": "17059d8e",
   "metadata": {},
   "outputs": [
    {
     "name": "stdout",
     "output_type": "stream",
     "text": [
      "Accuracy: 0.94 (+/- 0.03)\n",
      "Precision: 0.89 (+/- 0.04)\n",
      "Recall: 0.84 (+/- 0.10)\n",
      "F1_score: 0.87 (+/- 0.06)\n"
     ]
    }
   ],
   "source": [
    "print(\"Accuracy: %0.2f (+/- %0.2f)\" % (accuracy.mean(), accuracy.std() * 2))\n",
    "print(\"Precision: %0.2f (+/- %0.2f)\" % (precision.mean(), precision.std() * 2))\n",
    "print(\"Recall: %0.2f (+/- %0.2f)\" % (recall.mean(), recall.std() * 2))\n",
    "print(\"F1_score: %0.2f (+/- %0.2f)\" % (f1_score.mean(), f1_score.std() * 2))"
   ]
  },
  {
   "cell_type": "markdown",
   "id": "8c3efb42",
   "metadata": {},
   "source": [
    "#### Random Forest"
   ]
  },
  {
   "cell_type": "code",
   "execution_count": null,
   "id": "76135fd8",
   "metadata": {},
   "outputs": [],
   "source": [
    "##Random Forest\n",
    "tuned_parameters = [{'n_estimators':[100,200,300],'max_depth':[2,3,4],\n",
    "                    'min_samples_split':[2,3,5],'min_samples_leaf':[2,3,5],'max_features':['sqrt','log2']}]\n",
    "\n",
    "rf = RandomForestClassifier(n_jobs=-1)\n",
    "clf_rf = GridSearchCV(rf,tuned_parameters,cv=inner_cv,scoring='accuracy')\n",
    "\n",
    "clf_rf.fit(X_train,y_train)\n",
    "\n",
    "rf_best_params = clf_rf.best_params_\n",
    "rf_best_scores = clf_rf.best_score_\n",
    "\n",
    "rf_best = RandomForestClassifier(**rf_best_params)\n",
    "rf_best = rf_best.fit(X_train, y_train)\n",
    "\n",
    "rf_pred = rf_best.predict(X_test)\n",
    "rf_result = accuracy_score(y_test, rf_pred)\n",
    "\n",
    "\n"
   ]
  },
  {
   "cell_type": "code",
   "execution_count": 65,
   "id": "2b9912d4",
   "metadata": {},
   "outputs": [
    {
     "data": {
      "text/plain": [
       "({'max_depth': 4,\n",
       "  'max_features': 'sqrt',\n",
       "  'min_samples_leaf': 5,\n",
       "  'min_samples_split': 2,\n",
       "  'n_estimators': 300},\n",
       " 0.9137779744987498)"
      ]
     },
     "execution_count": 65,
     "metadata": {},
     "output_type": "execute_result"
    }
   ],
   "source": [
    "from sklearn.ensemble import RandomForestClassifier\n",
    "tuned_parameters = [{'n_estimators':[100,200,300],'max_depth':[2,3,4],\n",
    "                    'min_samples_split':[2,3,5],'min_samples_leaf':[2,3,5],'max_features':['sqrt','log2']}]\n",
    "\n",
    "rf = RandomForestClassifier(n_jobs=-1)\n",
    "clf_rf = GridSearchCV(rf,tuned_parameters,cv=inner_cv,scoring='accuracy')\n",
    "\n",
    "clf_rf.fit(X_train,y_train)\n",
    "\n",
    "rf_best_params = clf_rf.best_params_\n",
    "rf_best_scores = clf_rf.best_score_\n",
    "rf_best_params, rf_best_scores"
   ]
  },
  {
   "cell_type": "code",
   "execution_count": 66,
   "id": "13c01ed7",
   "metadata": {},
   "outputs": [],
   "source": [
    "rf_best = RandomForestClassifier(**rf_best_params)\n",
    "rf_best = rf_best.fit(X_train, y_train)"
   ]
  },
  {
   "cell_type": "code",
   "execution_count": 67,
   "id": "962c36f8",
   "metadata": {},
   "outputs": [
    {
     "name": "stdout",
     "output_type": "stream",
     "text": [
      "[0.9408867  0.92118227 0.93103448 0.88669951 0.89655172 0.91625616\n",
      " 0.90147783 0.92610837 0.88669951 0.92118227]\n",
      "[0.97058824 0.94285714 0.97222222 1.         0.88235294 0.91891892\n",
      " 0.91428571 0.97142857 0.85714286 0.91666667]\n",
      "[0.68085106 0.70212766 0.72340426 0.4893617  0.61702128 0.70833333\n",
      " 0.64583333 0.6875     0.625      0.70833333]\n",
      "[0.8        0.79012346 0.81927711 0.67605634 0.725      0.8\n",
      " 0.74698795 0.81927711 0.72289157 0.81927711]\n"
     ]
    }
   ],
   "source": [
    "accuracy = cross_val_score(rf_best,X_train,y_train,cv=10,scoring='accuracy')\n",
    "precision = cross_val_score(rf_best,X_train,y_train,cv=10,scoring='precision')\n",
    "recall = cross_val_score(rf_best,X_train,y_train,cv=10,scoring='recall')\n",
    "f1_score = cross_val_score(rf_best,X_train,y_train,cv=10,scoring='f1')\n",
    "\n",
    "\n",
    "print(accuracy)\n",
    "print(precision)\n",
    "print(recall)\n",
    "print(f1_score)"
   ]
  },
  {
   "cell_type": "code",
   "execution_count": 68,
   "id": "5ff460bf",
   "metadata": {},
   "outputs": [
    {
     "name": "stdout",
     "output_type": "stream",
     "text": [
      "Accuracy: 0.91 (+/- 0.04)\n",
      "Precision: 0.93 (+/- 0.09)\n",
      "Recall: 0.66 (+/- 0.13)\n",
      "F1_score: 0.77 (+/- 0.10)\n"
     ]
    }
   ],
   "source": [
    "print(\"Accuracy: %0.2f (+/- %0.2f)\" % (accuracy.mean(), accuracy.std() * 2))\n",
    "print(\"Precision: %0.2f (+/- %0.2f)\" % (precision.mean(), precision.std() * 2))\n",
    "print(\"Recall: %0.2f (+/- %0.2f)\" % (recall.mean(), recall.std() * 2))\n",
    "print(\"F1_score: %0.2f (+/- %0.2f)\" % (f1_score.mean(), f1_score.std() * 2))"
   ]
  },
  {
   "cell_type": "markdown",
   "id": "12d8eae5",
   "metadata": {},
   "source": [
    "#### Model Selection"
   ]
  },
  {
   "cell_type": "code",
   "execution_count": 72,
   "id": "9f0e2098",
   "metadata": {},
   "outputs": [
    {
     "data": {
      "text/plain": [
       "0.9049177654568327"
      ]
     },
     "execution_count": 72,
     "metadata": {},
     "output_type": "execute_result"
    }
   ],
   "source": [
    "dt_score = cross_val_score(dt_best,X=X_train,y=y_train,cv=outer_cv)\n",
    "dt_score.mean()"
   ]
  },
  {
   "cell_type": "code",
   "execution_count": 73,
   "id": "556d14ab",
   "metadata": {},
   "outputs": [
    {
     "data": {
      "text/plain": [
       "0.9206803568932582"
      ]
     },
     "execution_count": 73,
     "metadata": {},
     "output_type": "execute_result"
    }
   ],
   "source": [
    "knn_score = cross_val_score(knn_best,X=X_train,y=y_train,cv=outer_cv)\n",
    "knn_score.mean()"
   ]
  },
  {
   "cell_type": "code",
   "execution_count": 74,
   "id": "fcaff5b3",
   "metadata": {},
   "outputs": [
    {
     "data": {
      "text/plain": [
       "0.9118182065259594"
      ]
     },
     "execution_count": 74,
     "metadata": {},
     "output_type": "execute_result"
    }
   ],
   "source": [
    "lr_score = cross_val_score(lr_best,X=X_train,y=y_train,cv=outer_cv)\n",
    "lr_score.mean()"
   ]
  },
  {
   "cell_type": "code",
   "execution_count": 75,
   "id": "78c946b3",
   "metadata": {},
   "outputs": [
    {
     "data": {
      "text/plain": [
       "0.9270857599900604"
      ]
     },
     "execution_count": 75,
     "metadata": {},
     "output_type": "execute_result"
    }
   ],
   "source": [
    "svc_score = cross_val_score(svc_best,X=X_train,y=y_train,cv=outer_cv)\n",
    "svc_score.mean()"
   ]
  },
  {
   "cell_type": "code",
   "execution_count": 171,
   "id": "6c9779b0",
   "metadata": {},
   "outputs": [
    {
     "data": {
      "text/plain": [
       "0.9339794064203513"
      ]
     },
     "execution_count": 171,
     "metadata": {},
     "output_type": "execute_result"
    }
   ],
   "source": [
    "gb_score = cross_val_score(gb_best,X=X_train,y=y_train,cv=outer_cv)\n",
    "gb_score.mean()"
   ]
  },
  {
   "cell_type": "code",
   "execution_count": 77,
   "id": "ba2671ee",
   "metadata": {},
   "outputs": [
    {
     "data": {
      "text/plain": [
       "0.9103282392955319"
      ]
     },
     "execution_count": 77,
     "metadata": {},
     "output_type": "execute_result"
    }
   ],
   "source": [
    "rf_score = cross_val_score(rf_best,X=X_train,y=y_train,cv=outer_cv)\n",
    "rf_score.mean()"
   ]
  },
  {
   "cell_type": "markdown",
   "id": "2b775ca4",
   "metadata": {},
   "source": [
    "###### According to the result, the gradient boosting model is the best model."
   ]
  },
  {
   "cell_type": "code",
   "execution_count": 172,
   "id": "54b4b5e3",
   "metadata": {},
   "outputs": [
    {
     "name": "stdout",
     "output_type": "stream",
     "text": [
      "[[744  20]\n",
      " [ 42 195]]\n",
      "              precision    recall  f1-score   support\n",
      "\n",
      "           0       0.95      0.97      0.96       764\n",
      "           1       0.91      0.82      0.86       237\n",
      "\n",
      "    accuracy                           0.94      1001\n",
      "   macro avg       0.93      0.90      0.91      1001\n",
      "weighted avg       0.94      0.94      0.94      1001\n",
      "\n"
     ]
    }
   ],
   "source": [
    "from sklearn.metrics import classification_report, confusion_matrix\n",
    "y_pred = gb_best.predict(X_test)\n",
    "print(confusion_matrix(y_test, y_pred))\n",
    "print(classification_report(y_test, y_pred))"
   ]
  },
  {
   "cell_type": "code",
   "execution_count": 173,
   "id": "7095531b",
   "metadata": {},
   "outputs": [
    {
     "data": {
      "image/png": "[encoded data removed]",
      "text/plain": [
       "<Figure size 640x480 with 2 Axes>"
      ]
     },
     "metadata": {},
     "output_type": "display_data"
    }
   ],
   "source": [
    "plot_confusion_matrix(gb_best,X_test,y_test)  \n",
    "plt.show()"
   ]
  },
  {
   "cell_type": "code",
   "execution_count": 174,
   "id": "e6d6ed93",
   "metadata": {},
   "outputs": [
    {
     "data": {
      "image/png": "[encoded data removed]",
      "text/plain": [
       "<Figure size 640x480 with 1 Axes>"
      ]
     },
     "metadata": {},
     "output_type": "display_data"
    }
   ],
   "source": [
    "from sklearn.metrics import RocCurveDisplay\n",
    "RocCurveDisplay.from_estimator(rf_best, X_test, y_test)\n",
    "plt.show()"
   ]
  },
  {
   "cell_type": "code",
   "execution_count": 175,
   "id": "31725570",
   "metadata": {},
   "outputs": [
    {
     "data": {
      "image/png": "[encoded data removed]",
      "text/plain": [
       "<Figure size 640x480 with 1 Axes>"
      ]
     },
     "metadata": {},
     "output_type": "display_data"
    }
   ],
   "source": [
    "predicted_probas = rf_best.predict_proba(X_test)\n",
    "import scikitplot as skplt\n",
    "skplt.metrics.plot_lift_curve(y_test, predicted_probas)\n",
    "plt.show()"
   ]
  },
  {
   "cell_type": "markdown",
   "id": "a5e9fda2",
   "metadata": {},
   "source": [
    "## Q2 - Find the best cost-sensitive classification model"
   ]
  },
  {
   "cell_type": "code",
   "execution_count": 109,
   "id": "d09dd7d2",
   "metadata": {},
   "outputs": [],
   "source": [
    "from sklearn.metrics import make_scorer\n",
    "def miss_classification(y_true, y_pred):\n",
    "    tn, fp, fn, tp = confusion_matrix(y_true, y_pred).ravel()\n",
    "    result = 10*fn+1*fp\n",
    "    return result\n",
    "score = make_scorer(miss_classification, greater_is_better=False)"
   ]
  },
  {
   "cell_type": "markdown",
   "id": "32b1bf0e",
   "metadata": {},
   "source": [
    "#### Decision Tree"
   ]
  },
  {
   "cell_type": "code",
   "execution_count": 110,
   "id": "badc48e7",
   "metadata": {},
   "outputs": [
    {
     "data": {
      "text/plain": [
       "({'criterion': 'entropy', 'max_depth': 40}, -257.75)"
      ]
     },
     "execution_count": 110,
     "metadata": {},
     "output_type": "execute_result"
    }
   ],
   "source": [
    "tuned_parameters = {'criterion':['gini','entropy'],'max_depth':[4,5,6,7,8,9,10,11,12,15,20,30,40,50,70,90,120,150]}\n",
    "\n",
    "dt = tree.DecisionTreeClassifier()\n",
    "\n",
    "\n",
    "dt = GridSearchCV(dt,tuned_parameters,cv=inner_cv,scoring=score)\n",
    "\n",
    "dt.fit(X_train,y_train)\n",
    "\n",
    "dt_best_params = dt.best_params_\n",
    "dt_best_scores = dt.best_score_\n",
    "dt_best_params, dt_best_scores"
   ]
  },
  {
   "cell_type": "code",
   "execution_count": 111,
   "id": "ecba1bd9",
   "metadata": {},
   "outputs": [
    {
     "data": {
      "text/plain": [
       "[Text(0.809765625, 0.9807692307692307, 'X[21] <= -0.017\\nentropy = 0.785\\nsamples = 2030\\nvalue = [1555, 475]'),\n",
       " Text(0.6783547794117647, 0.9423076923076923, 'X[2] <= -0.095\\nentropy = 0.587\\nsamples = 1738\\nvalue = [1493, 245]'),\n",
       " Text(0.5637683823529411, 0.9038461538461539, 'X[5] <= 0.644\\nentropy = 0.442\\nsamples = 1627\\nvalue = [1478, 149]'),\n",
       " Text(0.44753676470588233, 0.8653846153846154, 'X[15] <= -0.261\\nentropy = 0.368\\nsamples = 1546\\nvalue = [1437, 109]'),\n",
       " Text(0.438125, 0.8269230769230769, 'X[13] <= -0.318\\nentropy = 0.453\\nsamples = 1146\\nvalue = [1037, 109]'),\n",
       " Text(0.32801470588235293, 0.7884615384615384, 'X[23] <= -0.322\\nentropy = 0.554\\nsamples = 832\\nvalue = [725, 107]'),\n",
       " Text(0.18705882352941178, 0.75, 'X[6] <= -0.036\\nentropy = 0.319\\nsamples = 536\\nvalue = [505, 31]'),\n",
       " Text(0.15058823529411763, 0.7115384615384616, 'X[8] <= -0.325\\nentropy = 0.252\\nsamples = 522\\nvalue = [500, 22]'),\n",
       " Text(0.10588235294117647, 0.6730769230769231, 'X[9] <= 23.944\\nentropy = 0.083\\nsamples = 289\\nvalue = [286, 3]'),\n",
       " Text(0.09647058823529411, 0.6346153846153846, 'X[22] <= -0.828\\nentropy = 0.06\\nsamples = 288\\nvalue = [286, 2]'),\n",
       " Text(0.08705882352941176, 0.5961538461538461, 'X[22] <= -0.832\\nentropy = 0.139\\nsamples = 102\\nvalue = [100, 2]'),\n",
       " Text(0.06823529411764706, 0.5576923076923077, 'X[24] <= -0.985\\nentropy = 0.081\\nsamples = 100\\nvalue = [99, 1]'),\n",
       " Text(0.058823529411764705, 0.5192307692307693, 'entropy = 0.0\\nsamples = 53\\nvalue = [53, 0]'),\n",
       " Text(0.07764705882352942, 0.5192307692307693, 'X[24] <= -0.972\\nentropy = 0.149\\nsamples = 47\\nvalue = [46, 1]'),\n",
       " Text(0.06823529411764706, 0.4807692307692308, 'X[22] <= -0.997\\nentropy = 0.503\\nsamples = 9\\nvalue = [8, 1]'),\n",
       " Text(0.058823529411764705, 0.4423076923076923, 'X[19] <= 2.492\\nentropy = 0.811\\nsamples = 4\\nvalue = [3, 1]'),\n",
       " Text(0.04941176470588235, 0.40384615384615385, 'X[20] <= 1.41\\nentropy = 0.918\\nsamples = 3\\nvalue = [2, 1]'),\n",
       " Text(0.04, 0.36538461538461536, 'X[4] <= 0.627\\nentropy = 1.0\\nsamples = 2\\nvalue = [1, 1]'),\n",
       " Text(0.03058823529411765, 0.3269230769230769, 'entropy = 0.0\\nsamples = 1\\nvalue = [0, 1]'),\n",
       " Text(0.04941176470588235, 0.3269230769230769, 'entropy = 0.0\\nsamples = 1\\nvalue = [1, 0]'),\n",
       " Text(0.058823529411764705, 0.36538461538461536, 'entropy = 0.0\\nsamples = 1\\nvalue = [1, 0]'),\n",
       " Text(0.06823529411764706, 0.40384615384615385, 'entropy = 0.0\\nsamples = 1\\nvalue = [1, 0]'),\n",
       " Text(0.07764705882352942, 0.4423076923076923, 'entropy = 0.0\\nsamples = 5\\nvalue = [5, 0]'),\n",
       " Text(0.08705882352941176, 0.4807692307692308, 'entropy = 0.0\\nsamples = 38\\nvalue = [38, 0]'),\n",
       " Text(0.10588235294117647, 0.5576923076923077, 'X[20] <= 0.234\\nentropy = 1.0\\nsamples = 2\\nvalue = [1, 1]'),\n",
       " Text(0.09647058823529411, 0.5192307692307693, 'entropy = 0.0\\nsamples = 1\\nvalue = [0, 1]'),\n",
       " Text(0.11529411764705882, 0.5192307692307693, 'entropy = 0.0\\nsamples = 1\\nvalue = [1, 0]'),\n",
       " Text(0.10588235294117647, 0.5961538461538461, 'entropy = 0.0\\nsamples = 186\\nvalue = [186, 0]'),\n",
       " Text(0.11529411764705882, 0.6346153846153846, 'entropy = 0.0\\nsamples = 1\\nvalue = [0, 1]'),\n",
       " Text(0.1952941176470588, 0.6730769230769231, 'X[3] <= 0.596\\nentropy = 0.408\\nsamples = 233\\nvalue = [214, 19]'),\n",
       " Text(0.17176470588235293, 0.6346153846153846, 'X[0] <= 0.204\\nentropy = 0.365\\nsamples = 229\\nvalue = [213, 16]'),\n",
       " Text(0.15294117647058825, 0.5961538461538461, 'X[22] <= 0.948\\nentropy = 0.336\\nsamples = 225\\nvalue = [211, 14]'),\n",
       " Text(0.14352941176470588, 0.5576923076923077, 'X[9] <= 0.432\\nentropy = 0.32\\nsamples = 224\\nvalue = [211, 13]'),\n",
       " Text(0.13411764705882354, 0.5192307692307693, 'X[8] <= -0.306\\nentropy = 0.302\\nsamples = 223\\nvalue = [211, 12]'),\n",
       " Text(0.12470588235294118, 0.4807692307692308, 'entropy = 0.0\\nsamples = 1\\nvalue = [0, 1]'),\n",
       " Text(0.14352941176470588, 0.4807692307692308, 'X[19] <= 0.361\\nentropy = 0.284\\nsamples = 222\\nvalue = [211, 11]'),\n",
       " Text(0.13411764705882354, 0.4423076923076923, 'X[24] <= -0.481\\nentropy = 0.339\\nsamples = 175\\nvalue = [164, 11]'),\n",
       " Text(0.12470588235294118, 0.40384615384615385, 'X[24] <= -0.494\\nentropy = 0.395\\nsamples = 141\\nvalue = [130, 11]'),\n",
       " Text(0.11529411764705882, 0.36538461538461536, 'X[23] <= -0.394\\nentropy = 0.371\\nsamples = 140\\nvalue = [130, 10]'),\n",
       " Text(0.10588235294117647, 0.3269230769230769, 'X[22] <= -0.57\\nentropy = 0.346\\nsamples = 139\\nvalue = [130, 9]'),\n",
       " Text(0.09647058823529411, 0.28846153846153844, 'X[22] <= -0.588\\nentropy = 0.428\\nsamples = 103\\nvalue = [94, 9]'),\n",
       " Text(0.08705882352941176, 0.25, 'X[8] <= 5.802\\nentropy = 0.363\\nsamples = 101\\nvalue = [94, 7]'),\n",
       " Text(0.07764705882352942, 0.21153846153846154, 'X[23] <= -0.607\\nentropy = 0.327\\nsamples = 100\\nvalue = [94, 6]'),\n",
       " Text(0.05176470588235294, 0.17307692307692307, 'X[24] <= -0.998\\nentropy = 0.258\\nsamples = 92\\nvalue = [88, 4]'),\n",
       " Text(0.02823529411764706, 0.1346153846153846, 'X[8] <= 1.941\\nentropy = 0.722\\nsamples = 10\\nvalue = [8, 2]'),\n",
       " Text(0.018823529411764704, 0.09615384615384616, 'X[24] <= -1.044\\nentropy = 0.918\\nsamples = 3\\nvalue = [1, 2]'),\n",
       " Text(0.009411764705882352, 0.057692307692307696, 'entropy = 0.0\\nsamples = 1\\nvalue = [1, 0]'),\n",
       " Text(0.02823529411764706, 0.057692307692307696, 'entropy = 0.0\\nsamples = 2\\nvalue = [0, 2]'),\n",
       " Text(0.03764705882352941, 0.09615384615384616, 'entropy = 0.0\\nsamples = 7\\nvalue = [7, 0]'),\n",
       " Text(0.07529411764705882, 0.1346153846153846, 'X[8] <= -0.129\\nentropy = 0.165\\nsamples = 82\\nvalue = [80, 2]'),\n",
       " Text(0.05647058823529412, 0.09615384615384616, 'X[22] <= -0.95\\nentropy = 0.811\\nsamples = 4\\nvalue = [3, 1]'),\n",
       " Text(0.047058823529411764, 0.057692307692307696, 'entropy = 0.0\\nsamples = 1\\nvalue = [0, 1]'),\n",
       " Text(0.06588235294117648, 0.057692307692307696, 'entropy = 0.0\\nsamples = 3\\nvalue = [3, 0]'),\n",
       " Text(0.09411764705882353, 0.09615384615384616, 'X[10] <= 3.879\\nentropy = 0.099\\nsamples = 78\\nvalue = [77, 1]'),\n",
       " Text(0.08470588235294117, 0.057692307692307696, 'entropy = 0.0\\nsamples = 74\\nvalue = [74, 0]'),\n",
       " Text(0.10352941176470588, 0.057692307692307696, 'X[22] <= -0.693\\nentropy = 0.811\\nsamples = 4\\nvalue = [3, 1]'),\n",
       " Text(0.09411764705882353, 0.019230769230769232, 'entropy = 0.0\\nsamples = 3\\nvalue = [3, 0]'),\n",
       " Text(0.11294117647058824, 0.019230769230769232, 'entropy = 0.0\\nsamples = 1\\nvalue = [0, 1]'),\n",
       " Text(0.10352941176470588, 0.17307692307692307, 'X[10] <= 0.631\\nentropy = 0.811\\nsamples = 8\\nvalue = [6, 2]'),\n",
       " Text(0.09411764705882353, 0.1346153846153846, 'entropy = 0.0\\nsamples = 6\\nvalue = [6, 0]'),\n",
       " Text(0.11294117647058824, 0.1346153846153846, 'entropy = 0.0\\nsamples = 2\\nvalue = [0, 2]'),\n",
       " Text(0.09647058823529411, 0.21153846153846154, 'entropy = 0.0\\nsamples = 1\\nvalue = [0, 1]'),\n",
       " Text(0.10588235294117647, 0.25, 'entropy = 0.0\\nsamples = 2\\nvalue = [0, 2]'),\n",
       " Text(0.11529411764705882, 0.28846153846153844, 'entropy = 0.0\\nsamples = 36\\nvalue = [36, 0]'),\n",
       " Text(0.12470588235294118, 0.3269230769230769, 'entropy = 0.0\\nsamples = 1\\nvalue = [0, 1]'),\n",
       " Text(0.13411764705882354, 0.36538461538461536, 'entropy = 0.0\\nsamples = 1\\nvalue = [0, 1]'),\n",
       " Text(0.14352941176470588, 0.40384615384615385, 'entropy = 0.0\\nsamples = 34\\nvalue = [34, 0]'),\n",
       " Text(0.15294117647058825, 0.4423076923076923, 'entropy = 0.0\\nsamples = 47\\nvalue = [47, 0]'),\n",
       " Text(0.15294117647058825, 0.5192307692307693, 'entropy = 0.0\\nsamples = 1\\nvalue = [0, 1]'),\n",
       " Text(0.1623529411764706, 0.5576923076923077, 'entropy = 0.0\\nsamples = 1\\nvalue = [0, 1]'),\n",
       " Text(0.19058823529411764, 0.5961538461538461, 'X[8] <= 1.036\\nentropy = 1.0\\nsamples = 4\\nvalue = [2, 2]'),\n",
       " Text(0.1811764705882353, 0.5576923076923077, 'entropy = 0.0\\nsamples = 2\\nvalue = [0, 2]'),\n",
       " Text(0.2, 0.5576923076923077, 'entropy = 0.0\\nsamples = 2\\nvalue = [2, 0]'),\n",
       " Text(0.2188235294117647, 0.6346153846153846, 'X[1] <= 0.368\\nentropy = 0.811\\nsamples = 4\\nvalue = [1, 3]'),\n",
       " Text(0.20941176470588235, 0.5961538461538461, 'entropy = 0.0\\nsamples = 1\\nvalue = [1, 0]'),\n",
       " Text(0.22823529411764706, 0.5961538461538461, 'entropy = 0.0\\nsamples = 3\\nvalue = [0, 3]'),\n",
       " Text(0.2235294117647059, 0.7115384615384616, 'X[10] <= 0.062\\nentropy = 0.94\\nsamples = 14\\nvalue = [5, 9]'),\n",
       " Text(0.21411764705882352, 0.6730769230769231, 'entropy = 0.0\\nsamples = 5\\nvalue = [5, 0]'),\n",
       " Text(0.23294117647058823, 0.6730769230769231, 'entropy = 0.0\\nsamples = 9\\nvalue = [0, 9]'),\n",
       " Text(0.46897058823529414, 0.75, 'X[19] <= -0.116\\nentropy = 0.822\\nsamples = 296\\nvalue = [220, 76]'),\n",
       " Text(0.4273529411764706, 0.7115384615384616, 'X[1] <= 0.439\\nentropy = 0.936\\nsamples = 210\\nvalue = [136, 74]'),\n",
       " Text(0.38176470588235295, 0.6730769230769231, 'X[4] <= 1.098\\nentropy = 0.869\\nsamples = 186\\nvalue = [132, 54]'),\n",
       " Text(0.34705882352941175, 0.6346153846153846, 'X[12] <= -0.051\\nentropy = 0.933\\nsamples = 149\\nvalue = [97, 52]'),\n",
       " Text(0.3376470588235294, 0.5961538461538461, 'X[24] <= 0.845\\nentropy = 0.906\\nsamples = 143\\nvalue = [97, 46]'),\n",
       " Text(0.2776470588235294, 0.5576923076923077, 'X[8] <= 1.192\\nentropy = 0.811\\nsamples = 108\\nvalue = [81, 27]'),\n",
       " Text(0.23294117647058823, 0.5192307692307693, 'X[23] <= 0.531\\nentropy = 0.714\\nsamples = 97\\nvalue = [78, 19]'),\n",
       " Text(0.2, 0.4807692307692308, 'X[20] <= -0.109\\nentropy = 0.534\\nsamples = 74\\nvalue = [65, 9]'),\n",
       " Text(0.19058823529411764, 0.4423076923076923, 'X[23] <= 0.175\\nentropy = 0.672\\nsamples = 51\\nvalue = [42, 9]'),\n",
       " Text(0.1811764705882353, 0.40384615384615385, 'X[22] <= 0.69\\nentropy = 0.79\\nsamples = 38\\nvalue = [29, 9]'),\n",
       " Text(0.15294117647058825, 0.36538461538461536, 'X[10] <= 0.276\\nentropy = 0.516\\nsamples = 26\\nvalue = [23, 3]'),\n",
       " Text(0.14352941176470588, 0.3269230769230769, 'entropy = 0.0\\nsamples = 17\\nvalue = [17, 0]'),\n",
       " Text(0.1623529411764706, 0.3269230769230769, 'X[8] <= 0.128\\nentropy = 0.918\\nsamples = 9\\nvalue = [6, 3]'),\n",
       " Text(0.15294117647058825, 0.28846153846153844, 'X[10] <= 1.047\\nentropy = 0.811\\nsamples = 4\\nvalue = [1, 3]'),\n",
       " Text(0.14352941176470588, 0.25, 'entropy = 0.0\\nsamples = 3\\nvalue = [0, 3]'),\n",
       " Text(0.1623529411764706, 0.25, 'entropy = 0.0\\nsamples = 1\\nvalue = [1, 0]'),\n",
       " Text(0.17176470588235293, 0.28846153846153844, 'entropy = 0.0\\nsamples = 5\\nvalue = [5, 0]'),\n",
       " Text(0.20941176470588235, 0.36538461538461536, 'X[24] <= -0.507\\nentropy = 1.0\\nsamples = 12\\nvalue = [6, 6]'),\n",
       " Text(0.2, 0.3269230769230769, 'X[22] <= 1.509\\nentropy = 0.918\\nsamples = 9\\nvalue = [6, 3]'),\n",
       " Text(0.19058823529411764, 0.28846153846153844, 'X[8] <= -0.062\\nentropy = 0.811\\nsamples = 4\\nvalue = [1, 3]'),\n",
       " Text(0.1811764705882353, 0.25, 'entropy = 0.0\\nsamples = 3\\nvalue = [0, 3]'),\n",
       " Text(0.2, 0.25, 'entropy = 0.0\\nsamples = 1\\nvalue = [1, 0]'),\n",
       " Text(0.20941176470588235, 0.28846153846153844, 'entropy = 0.0\\nsamples = 5\\nvalue = [5, 0]'),\n",
       " Text(0.2188235294117647, 0.3269230769230769, 'entropy = 0.0\\nsamples = 3\\nvalue = [0, 3]'),\n",
       " Text(0.2, 0.40384615384615385, 'entropy = 0.0\\nsamples = 13\\nvalue = [13, 0]'),\n",
       " Text(0.20941176470588235, 0.4423076923076923, 'entropy = 0.0\\nsamples = 23\\nvalue = [23, 0]'),\n",
       " Text(0.26588235294117646, 0.4807692307692308, 'X[10] <= -0.4\\nentropy = 0.988\\nsamples = 23\\nvalue = [13, 10]'),\n",
       " Text(0.2564705882352941, 0.4423076923076923, 'X[22] <= 0.001\\nentropy = 0.918\\nsamples = 15\\nvalue = [5, 10]'),\n",
       " Text(0.2376470588235294, 0.40384615384615385, 'X[24] <= 0.25\\nentropy = 0.811\\nsamples = 4\\nvalue = [3, 1]'),\n",
       " Text(0.22823529411764706, 0.36538461538461536, 'entropy = 0.0\\nsamples = 1\\nvalue = [0, 1]'),\n",
       " Text(0.24705882352941178, 0.36538461538461536, 'entropy = 0.0\\nsamples = 3\\nvalue = [3, 0]'),\n",
       " Text(0.2752941176470588, 0.40384615384615385, 'X[23] <= 2.024\\nentropy = 0.684\\nsamples = 11\\nvalue = [2, 9]'),\n",
       " Text(0.26588235294117646, 0.36538461538461536, 'entropy = 0.0\\nsamples = 8\\nvalue = [0, 8]'),\n",
       " Text(0.2847058823529412, 0.36538461538461536, 'X[20] <= 0.107\\nentropy = 0.918\\nsamples = 3\\nvalue = [2, 1]'),\n",
       " Text(0.2752941176470588, 0.3269230769230769, 'entropy = 0.0\\nsamples = 1\\nvalue = [0, 1]'),\n",
       " Text(0.29411764705882354, 0.3269230769230769, 'entropy = 0.0\\nsamples = 2\\nvalue = [2, 0]'),\n",
       " Text(0.2752941176470588, 0.4423076923076923, 'entropy = 0.0\\nsamples = 8\\nvalue = [8, 0]'),\n",
       " Text(0.32235294117647056, 0.5192307692307693, 'X[22] <= 0.372\\nentropy = 0.845\\nsamples = 11\\nvalue = [3, 8]'),\n",
       " Text(0.3129411764705882, 0.4807692307692308, 'X[24] <= -0.242\\nentropy = 1.0\\nsamples = 6\\nvalue = [3, 3]'),\n",
       " Text(0.3035294117647059, 0.4423076923076923, 'X[17] <= 1.995\\nentropy = 0.811\\nsamples = 4\\nvalue = [1, 3]'),\n",
       " Text(0.29411764705882354, 0.40384615384615385, 'entropy = 0.0\\nsamples = 3\\nvalue = [0, 3]'),\n",
       " Text(0.3129411764705882, 0.40384615384615385, 'entropy = 0.0\\nsamples = 1\\nvalue = [1, 0]'),\n",
       " Text(0.32235294117647056, 0.4423076923076923, 'entropy = 0.0\\nsamples = 2\\nvalue = [2, 0]'),\n",
       " Text(0.33176470588235296, 0.4807692307692308, 'entropy = 0.0\\nsamples = 5\\nvalue = [0, 5]'),\n",
       " Text(0.3976470588235294, 0.5576923076923077, 'X[23] <= 1.918\\nentropy = 0.995\\nsamples = 35\\nvalue = [16, 19]'),\n",
       " Text(0.3788235294117647, 0.5192307692307693, 'X[4] <= 0.255\\nentropy = 0.918\\nsamples = 27\\nvalue = [9, 18]'),\n",
       " Text(0.36941176470588233, 0.4807692307692308, 'X[20] <= -0.109\\nentropy = 0.811\\nsamples = 24\\nvalue = [6, 18]'),\n",
       " Text(0.3411764705882353, 0.4423076923076923, 'X[22] <= -0.377\\nentropy = 0.523\\nsamples = 17\\nvalue = [2, 15]'),\n",
       " Text(0.33176470588235296, 0.40384615384615385, 'entropy = 0.0\\nsamples = 1\\nvalue = [1, 0]'),\n",
       " Text(0.35058823529411764, 0.40384615384615385, 'X[24] <= 1.0\\nentropy = 0.337\\nsamples = 16\\nvalue = [1, 15]'),\n",
       " Text(0.3411764705882353, 0.36538461538461536, 'X[22] <= 0.252\\nentropy = 1.0\\nsamples = 2\\nvalue = [1, 1]'),\n",
       " Text(0.33176470588235296, 0.3269230769230769, 'entropy = 0.0\\nsamples = 1\\nvalue = [0, 1]'),\n",
       " Text(0.35058823529411764, 0.3269230769230769, 'entropy = 0.0\\nsamples = 1\\nvalue = [1, 0]'),\n",
       " Text(0.36, 0.36538461538461536, 'entropy = 0.0\\nsamples = 14\\nvalue = [0, 14]'),\n",
       " Text(0.3976470588235294, 0.4423076923076923, 'X[24] <= 1.356\\nentropy = 0.985\\nsamples = 7\\nvalue = [4, 3]'),\n",
       " Text(0.38823529411764707, 0.40384615384615385, 'X[6] <= 0.257\\nentropy = 0.811\\nsamples = 4\\nvalue = [1, 3]'),\n",
       " Text(0.3788235294117647, 0.36538461538461536, 'entropy = 0.0\\nsamples = 3\\nvalue = [0, 3]'),\n",
       " Text(0.3976470588235294, 0.36538461538461536, 'entropy = 0.0\\nsamples = 1\\nvalue = [1, 0]'),\n",
       " Text(0.40705882352941175, 0.40384615384615385, 'entropy = 0.0\\nsamples = 3\\nvalue = [3, 0]'),\n",
       " Text(0.38823529411764707, 0.4807692307692308, 'entropy = 0.0\\nsamples = 3\\nvalue = [3, 0]'),\n",
       " Text(0.4164705882352941, 0.5192307692307693, 'X[7] <= 1.268\\nentropy = 0.544\\nsamples = 8\\nvalue = [7, 1]'),\n",
       " Text(0.40705882352941175, 0.4807692307692308, 'entropy = 0.0\\nsamples = 7\\nvalue = [7, 0]'),\n",
       " Text(0.4258823529411765, 0.4807692307692308, 'entropy = 0.0\\nsamples = 1\\nvalue = [0, 1]'),\n",
       " Text(0.3564705882352941, 0.5961538461538461, 'entropy = 0.0\\nsamples = 6\\nvalue = [0, 6]'),\n",
       " Text(0.4164705882352941, 0.6346153846153846, 'X[22] <= -0.701\\nentropy = 0.303\\nsamples = 37\\nvalue = [35, 2]'),\n",
       " Text(0.40705882352941175, 0.5961538461538461, 'entropy = 0.0\\nsamples = 1\\nvalue = [0, 1]'),\n",
       " Text(0.4258823529411765, 0.5961538461538461, 'X[8] <= 2.588\\nentropy = 0.183\\nsamples = 36\\nvalue = [35, 1]'),\n",
       " Text(0.4164705882352941, 0.5576923076923077, 'entropy = 0.0\\nsamples = 35\\nvalue = [35, 0]'),\n",
       " Text(0.43529411764705883, 0.5576923076923077, 'entropy = 0.0\\nsamples = 1\\nvalue = [0, 1]'),\n",
       " Text(0.47294117647058825, 0.6730769230769231, 'X[8] <= -0.741\\nentropy = 0.65\\nsamples = 24\\nvalue = [4, 20]'),\n",
       " Text(0.4541176470588235, 0.6346153846153846, 'X[23] <= -0.074\\nentropy = 0.811\\nsamples = 4\\nvalue = [3, 1]'),\n",
       " Text(0.4447058823529412, 0.5961538461538461, 'entropy = 0.0\\nsamples = 3\\nvalue = [3, 0]'),\n",
       " Text(0.46352941176470586, 0.5961538461538461, 'entropy = 0.0\\nsamples = 1\\nvalue = [0, 1]'),\n",
       " Text(0.49176470588235294, 0.6346153846153846, 'X[24] <= 2.074\\nentropy = 0.286\\nsamples = 20\\nvalue = [1, 19]'),\n",
       " Text(0.4823529411764706, 0.5961538461538461, 'entropy = 0.0\\nsamples = 19\\nvalue = [0, 19]'),\n",
       " Text(0.5011764705882353, 0.5961538461538461, 'entropy = 0.0\\nsamples = 1\\nvalue = [1, 0]'),\n",
       " Text(0.5105882352941177, 0.7115384615384616, 'X[6] <= 0.335\\nentropy = 0.159\\nsamples = 86\\nvalue = [84, 2]'),\n",
       " Text(0.5011764705882353, 0.6730769230769231, 'entropy = 0.0\\nsamples = 82\\nvalue = [82, 0]'),\n",
       " Text(0.52, 0.6730769230769231, 'X[10] <= -0.087\\nentropy = 1.0\\nsamples = 4\\nvalue = [2, 2]'),\n",
       " Text(0.5105882352941177, 0.6346153846153846, 'entropy = 0.0\\nsamples = 2\\nvalue = [2, 0]'),\n",
       " Text(0.5294117647058824, 0.6346153846153846, 'entropy = 0.0\\nsamples = 2\\nvalue = [0, 2]'),\n",
       " Text(0.548235294117647, 0.7884615384615384, 'X[23] <= 0.46\\nentropy = 0.056\\nsamples = 314\\nvalue = [312, 2]'),\n",
       " Text(0.5388235294117647, 0.75, 'entropy = 0.0\\nsamples = 260\\nvalue = [260, 0]'),\n",
       " Text(0.5576470588235294, 0.75, 'X[0] <= 0.166\\nentropy = 0.229\\nsamples = 54\\nvalue = [52, 2]'),\n",
       " Text(0.548235294117647, 0.7115384615384616, 'X[18] <= 0.293\\nentropy = 0.135\\nsamples = 53\\nvalue = [52, 1]'),\n",
       " Text(0.5388235294117647, 0.6730769230769231, 'entropy = 0.0\\nsamples = 47\\nvalue = [47, 0]'),\n",
       " Text(0.5576470588235294, 0.6730769230769231, 'X[13] <= 1.3\\nentropy = 0.65\\nsamples = 6\\nvalue = [5, 1]'),\n",
       " Text(0.548235294117647, 0.6346153846153846, 'entropy = 0.0\\nsamples = 5\\nvalue = [5, 0]'),\n",
       " Text(0.5670588235294117, 0.6346153846153846, 'entropy = 0.0\\nsamples = 1\\nvalue = [0, 1]'),\n",
       " Text(0.5670588235294117, 0.7115384615384616, 'entropy = 0.0\\nsamples = 1\\nvalue = [0, 1]'),\n",
       " Text(0.4569485294117647, 0.8269230769230769, 'entropy = 0.0\\nsamples = 400\\nvalue = [400, 0]'),\n",
       " Text(0.68, 0.8653846153846154, 'X[15] <= -0.184\\nentropy = 1.0\\nsamples = 81\\nvalue = [41, 40]'),\n",
       " Text(0.6705882352941176, 0.8269230769230769, 'X[23] <= 2.309\\nentropy = 0.967\\nsamples = 66\\nvalue = [26, 40]'),\n",
       " Text(0.6611764705882353, 0.7884615384615384, 'X[24] <= -0.326\\nentropy = 0.918\\nsamples = 60\\nvalue = [20, 40]'),\n",
       " Text(0.6235294117647059, 0.75, 'X[10] <= 1.166\\nentropy = 0.983\\nsamples = 26\\nvalue = [15, 11]'),\n",
       " Text(0.6141176470588235, 0.7115384615384616, 'X[5] <= 2.72\\nentropy = 0.932\\nsamples = 23\\nvalue = [15, 8]'),\n",
       " Text(0.5952941176470589, 0.6730769230769231, 'X[13] <= -0.169\\nentropy = 0.619\\nsamples = 13\\nvalue = [11, 2]'),\n",
       " Text(0.5858823529411765, 0.6346153846153846, 'X[22] <= -0.136\\nentropy = 0.414\\nsamples = 12\\nvalue = [11, 1]'),\n",
       " Text(0.5764705882352941, 0.5961538461538461, 'entropy = 0.0\\nsamples = 9\\nvalue = [9, 0]'),\n",
       " Text(0.5952941176470589, 0.5961538461538461, 'X[5] <= 1.571\\nentropy = 0.918\\nsamples = 3\\nvalue = [2, 1]'),\n",
       " Text(0.5858823529411765, 0.5576923076923077, 'entropy = 0.0\\nsamples = 1\\nvalue = [0, 1]'),\n",
       " Text(0.6047058823529412, 0.5576923076923077, 'entropy = 0.0\\nsamples = 2\\nvalue = [2, 0]'),\n",
       " Text(0.6047058823529412, 0.6346153846153846, 'entropy = 0.0\\nsamples = 1\\nvalue = [0, 1]'),\n",
       " Text(0.6329411764705882, 0.6730769230769231, 'X[24] <= -0.947\\nentropy = 0.971\\nsamples = 10\\nvalue = [4, 6]'),\n",
       " Text(0.6235294117647059, 0.6346153846153846, 'entropy = 0.0\\nsamples = 3\\nvalue = [3, 0]'),\n",
       " Text(0.6423529411764706, 0.6346153846153846, 'X[23] <= -0.749\\nentropy = 0.592\\nsamples = 7\\nvalue = [1, 6]'),\n",
       " Text(0.6329411764705882, 0.5961538461538461, 'X[10] <= -0.054\\nentropy = 0.918\\nsamples = 3\\nvalue = [1, 2]'),\n",
       " Text(0.6235294117647059, 0.5576923076923077, 'entropy = 0.0\\nsamples = 1\\nvalue = [1, 0]'),\n",
       " Text(0.6423529411764706, 0.5576923076923077, 'entropy = 0.0\\nsamples = 2\\nvalue = [0, 2]'),\n",
       " Text(0.6517647058823529, 0.5961538461538461, 'entropy = 0.0\\nsamples = 4\\nvalue = [0, 4]'),\n",
       " Text(0.6329411764705882, 0.7115384615384616, 'entropy = 0.0\\nsamples = 3\\nvalue = [0, 3]'),\n",
       " Text(0.6988235294117647, 0.75, 'X[19] <= -0.252\\nentropy = 0.602\\nsamples = 34\\nvalue = [5, 29]'),\n",
       " Text(0.68, 0.7115384615384616, 'X[16] <= 1.033\\nentropy = 0.362\\nsamples = 29\\nvalue = [2, 27]'),\n",
       " Text(0.6705882352941176, 0.6730769230769231, 'X[14] <= 0.112\\nentropy = 0.222\\nsamples = 28\\nvalue = [1, 27]'),\n",
       " Text(0.6611764705882353, 0.6346153846153846, 'entropy = 0.0\\nsamples = 26\\nvalue = [0, 26]'),\n",
       " Text(0.68, 0.6346153846153846, 'X[1] <= 0.984\\nentropy = 1.0\\nsamples = 2\\nvalue = [1, 1]'),\n",
       " Text(0.6705882352941176, 0.5961538461538461, 'entropy = 0.0\\nsamples = 1\\nvalue = [1, 0]'),\n",
       " Text(0.6894117647058824, 0.5961538461538461, 'entropy = 0.0\\nsamples = 1\\nvalue = [0, 1]'),\n",
       " Text(0.6894117647058824, 0.6730769230769231, 'entropy = 0.0\\nsamples = 1\\nvalue = [1, 0]'),\n",
       " Text(0.7176470588235294, 0.7115384615384616, 'X[22] <= 0.458\\nentropy = 0.971\\nsamples = 5\\nvalue = [3, 2]'),\n",
       " Text(0.7082352941176471, 0.6730769230769231, 'entropy = 0.0\\nsamples = 3\\nvalue = [3, 0]'),\n",
       " Text(0.7270588235294118, 0.6730769230769231, 'entropy = 0.0\\nsamples = 2\\nvalue = [0, 2]'),\n",
       " Text(0.68, 0.7884615384615384, 'entropy = 0.0\\nsamples = 6\\nvalue = [6, 0]'),\n",
       " Text(0.6894117647058824, 0.8269230769230769, 'entropy = 0.0\\nsamples = 15\\nvalue = [15, 0]'),\n",
       " Text(0.7929411764705883, 0.9038461538461539, 'X[15] <= -0.242\\nentropy = 0.571\\nsamples = 111\\nvalue = [15, 96]'),\n",
       " Text(0.7835294117647059, 0.8653846153846154, 'X[10] <= -0.338\\nentropy = 0.323\\nsamples = 102\\nvalue = [6, 96]'),\n",
       " Text(0.7647058823529411, 0.8269230769230769, 'X[10] <= -0.458\\nentropy = 0.706\\nsamples = 26\\nvalue = [5, 21]'),\n",
       " Text(0.7552941176470588, 0.7884615384615384, 'X[24] <= -0.481\\nentropy = 0.544\\nsamples = 24\\nvalue = [3, 21]'),\n",
       " Text(0.7458823529411764, 0.75, 'X[24] <= -0.539\\nentropy = 0.954\\nsamples = 8\\nvalue = [3, 5]'),\n",
       " Text(0.7364705882352941, 0.7115384615384616, 'entropy = 0.0\\nsamples = 4\\nvalue = [0, 4]'),\n",
       " Text(0.7552941176470588, 0.7115384615384616, 'X[2] <= 14.832\\nentropy = 0.811\\nsamples = 4\\nvalue = [3, 1]'),\n",
       " Text(0.7458823529411764, 0.6730769230769231, 'entropy = 0.0\\nsamples = 3\\nvalue = [3, 0]'),\n",
       " Text(0.7647058823529411, 0.6730769230769231, 'entropy = 0.0\\nsamples = 1\\nvalue = [0, 1]'),\n",
       " Text(0.7647058823529411, 0.75, 'entropy = 0.0\\nsamples = 16\\nvalue = [0, 16]'),\n",
       " Text(0.7741176470588236, 0.7884615384615384, 'entropy = 0.0\\nsamples = 2\\nvalue = [2, 0]'),\n",
       " Text(0.8023529411764706, 0.8269230769230769, 'X[13] <= -0.257\\nentropy = 0.101\\nsamples = 76\\nvalue = [1, 75]'),\n",
       " Text(0.7929411764705883, 0.7884615384615384, 'entropy = 0.0\\nsamples = 74\\nvalue = [0, 74]'),\n",
       " Text(0.8117647058823529, 0.7884615384615384, 'X[13] <= -0.118\\nentropy = 1.0\\nsamples = 2\\nvalue = [1, 1]'),\n",
       " Text(0.8023529411764706, 0.75, 'entropy = 0.0\\nsamples = 1\\nvalue = [1, 0]'),\n",
       " Text(0.8211764705882353, 0.75, 'entropy = 0.0\\nsamples = 1\\nvalue = [0, 1]'),\n",
       " Text(0.8023529411764706, 0.8653846153846154, 'entropy = 0.0\\nsamples = 9\\nvalue = [9, 0]'),\n",
       " Text(0.9411764705882353, 0.9423076923076923, 'X[13] <= -0.299\\nentropy = 0.746\\nsamples = 292\\nvalue = [62, 230]'),\n",
       " Text(0.9105882352941177, 0.9038461538461539, 'X[20] <= 0.118\\nentropy = 0.596\\nsamples = 263\\nvalue = [38, 225]'),\n",
       " Text(0.9011764705882352, 0.8653846153846154, 'X[23] <= -0.322\\nentropy = 0.491\\nsamples = 252\\nvalue = [27, 225]'),\n",
       " Text(0.8682352941176471, 0.8269230769230769, 'X[5] <= 0.119\\nentropy = 0.999\\nsamples = 29\\nvalue = [14, 15]'),\n",
       " Text(0.8494117647058823, 0.7884615384615384, 'X[2] <= 0.852\\nentropy = 0.696\\nsamples = 16\\nvalue = [13, 3]'),\n",
       " Text(0.84, 0.75, 'entropy = 0.0\\nsamples = 13\\nvalue = [13, 0]'),\n",
       " Text(0.8588235294117647, 0.75, 'entropy = 0.0\\nsamples = 3\\nvalue = [0, 3]'),\n",
       " Text(0.8870588235294118, 0.7884615384615384, 'X[12] <= 2.224\\nentropy = 0.391\\nsamples = 13\\nvalue = [1, 12]'),\n",
       " Text(0.8776470588235294, 0.75, 'entropy = 0.0\\nsamples = 12\\nvalue = [0, 12]'),\n",
       " Text(0.8964705882352941, 0.75, 'entropy = 0.0\\nsamples = 1\\nvalue = [1, 0]'),\n",
       " Text(0.9341176470588235, 0.8269230769230769, 'X[10] <= 1.043\\nentropy = 0.321\\nsamples = 223\\nvalue = [13, 210]'),\n",
       " Text(0.9247058823529412, 0.7884615384615384, 'X[11] <= 0.764\\nentropy = 0.437\\nsamples = 144\\nvalue = [13, 131]'),\n",
       " Text(0.9152941176470588, 0.75, 'X[15] <= -0.227\\nentropy = 0.572\\nsamples = 96\\nvalue = [13, 83]'),\n",
       " Text(0.9058823529411765, 0.7115384615384616, 'X[6] <= 0.443\\nentropy = 0.521\\nsamples = 94\\nvalue = [11, 83]'),\n",
       " Text(0.8964705882352941, 0.6730769230769231, 'X[22] <= 0.629\\nentropy = 0.627\\nsamples = 70\\nvalue = [11, 59]'),\n",
       " Text(0.8729411764705882, 0.6346153846153846, 'X[2] <= 0.138\\nentropy = 0.881\\nsamples = 30\\nvalue = [9, 21]'),\n",
       " Text(0.8635294117647059, 0.5961538461538461, 'X[23] <= 0.211\\nentropy = 0.993\\nsamples = 20\\nvalue = [9, 11]'),\n",
       " Text(0.8447058823529412, 0.5576923076923077, 'X[8] <= -0.677\\nentropy = 0.684\\nsamples = 11\\nvalue = [2, 9]'),\n",
       " Text(0.8352941176470589, 0.5192307692307693, 'entropy = 0.0\\nsamples = 2\\nvalue = [2, 0]'),\n",
       " Text(0.8541176470588235, 0.5192307692307693, 'entropy = 0.0\\nsamples = 9\\nvalue = [0, 9]'),\n",
       " Text(0.8823529411764706, 0.5576923076923077, 'X[24] <= 1.181\\nentropy = 0.764\\nsamples = 9\\nvalue = [7, 2]'),\n",
       " Text(0.8729411764705882, 0.5192307692307693, 'entropy = 0.0\\nsamples = 5\\nvalue = [5, 0]'),\n",
       " Text(0.8917647058823529, 0.5192307692307693, 'X[24] <= 1.867\\nentropy = 1.0\\nsamples = 4\\nvalue = [2, 2]'),\n",
       " Text(0.8823529411764706, 0.4807692307692308, 'entropy = 0.0\\nsamples = 2\\nvalue = [0, 2]'),\n",
       " Text(0.9011764705882352, 0.4807692307692308, 'entropy = 0.0\\nsamples = 2\\nvalue = [2, 0]'),\n",
       " Text(0.8823529411764706, 0.5961538461538461, 'entropy = 0.0\\nsamples = 10\\nvalue = [0, 10]'),\n",
       " Text(0.92, 0.6346153846153846, 'X[14] <= -0.195\\nentropy = 0.286\\nsamples = 40\\nvalue = [2, 38]'),\n",
       " Text(0.9105882352941177, 0.5961538461538461, 'X[2] <= 5.148\\nentropy = 0.172\\nsamples = 39\\nvalue = [1, 38]'),\n",
       " Text(0.9011764705882352, 0.5576923076923077, 'entropy = 0.0\\nsamples = 38\\nvalue = [0, 38]'),\n",
       " Text(0.92, 0.5576923076923077, 'entropy = 0.0\\nsamples = 1\\nvalue = [1, 0]'),\n",
       " Text(0.9294117647058824, 0.5961538461538461, 'entropy = 0.0\\nsamples = 1\\nvalue = [1, 0]'),\n",
       " Text(0.9152941176470588, 0.6730769230769231, 'entropy = 0.0\\nsamples = 24\\nvalue = [0, 24]'),\n",
       " Text(0.9247058823529412, 0.7115384615384616, 'entropy = 0.0\\nsamples = 2\\nvalue = [2, 0]'),\n",
       " Text(0.9341176470588235, 0.75, 'entropy = 0.0\\nsamples = 48\\nvalue = [0, 48]'),\n",
       " Text(0.9435294117647058, 0.7884615384615384, 'entropy = 0.0\\nsamples = 79\\nvalue = [0, 79]'),\n",
       " Text(0.92, 0.8653846153846154, 'entropy = 0.0\\nsamples = 11\\nvalue = [11, 0]'),\n",
       " Text(0.971764705882353, 0.9038461538461539, 'X[10] <= 0.066\\nentropy = 0.663\\nsamples = 29\\nvalue = [24, 5]'),\n",
       " Text(0.9623529411764706, 0.8653846153846154, 'entropy = 0.0\\nsamples = 19\\nvalue = [19, 0]'),\n",
       " Text(0.9811764705882353, 0.8653846153846154, 'X[22] <= 0.993\\nentropy = 1.0\\nsamples = 10\\nvalue = [5, 5]'),\n",
       " Text(0.971764705882353, 0.8269230769230769, 'X[21] <= 0.091\\nentropy = 0.863\\nsamples = 7\\nvalue = [5, 2]'),\n",
       " Text(0.9623529411764706, 0.7884615384615384, 'X[13] <= -0.195\\nentropy = 0.918\\nsamples = 3\\nvalue = [1, 2]'),\n",
       " Text(0.9529411764705882, 0.75, 'entropy = 0.0\\nsamples = 1\\nvalue = [0, 1]'),\n",
       " Text(0.971764705882353, 0.75, 'entropy = 1.0\\nsamples = 2\\nvalue = [1, 1]'),\n",
       " Text(0.9811764705882353, 0.7884615384615384, 'entropy = 0.0\\nsamples = 4\\nvalue = [4, 0]'),\n",
       " Text(0.9905882352941177, 0.8269230769230769, 'entropy = 0.0\\nsamples = 3\\nvalue = [0, 3]')]"
      ]
     },
     "execution_count": 111,
     "metadata": {},
     "output_type": "execute_result"
    },
    {
     "data": {
      "image/png": "[encoded data removed]",
      "text/plain": [
       "<Figure size 640x480 with 1 Axes>"
      ]
     },
     "metadata": {},
     "output_type": "display_data"
    }
   ],
   "source": [
    "dt_best = tree.DecisionTreeClassifier(**dt_best_params)\n",
    "dt_best = dt_best.fit(X_train, y_train)\n",
    "tree.plot_tree(dt_best)"
   ]
  },
  {
   "cell_type": "code",
   "execution_count": 130,
   "id": "3bfdd811",
   "metadata": {},
   "outputs": [
    {
     "name": "stdout",
     "output_type": "stream",
     "text": [
      "[0.91133005 0.93103448 0.90640394 0.8817734  0.91625616 0.88669951\n",
      " 0.85221675 0.87192118 0.91625616 0.91625616]\n",
      "[0.84090909 0.85106383 0.76086957 0.77083333 0.85416667 0.71186441\n",
      " 0.73333333 0.75510204 0.80851064 0.86363636]\n",
      "[0.78723404 0.85106383 0.80851064 0.72340426 0.82978723 0.85416667\n",
      " 0.6875     0.8125     0.79166667 0.83333333]\n",
      "[0.82608696 0.86315789 0.78723404 0.73469388 0.84210526 0.78095238\n",
      " 0.68817204 0.77669903 0.80412371 0.84782609]\n",
      "[-108  -76 -109 -126  -77  -98 -143  -87 -110  -95]\n"
     ]
    }
   ],
   "source": [
    "accuracy = cross_val_score(dt_best,X_train,y_train,cv=10,scoring='accuracy')\n",
    "precision = cross_val_score(dt_best,X_train,y_train,cv=10,scoring='precision')\n",
    "recall = cross_val_score(dt_best,X_train,y_train,cv=10,scoring='recall')\n",
    "f1_score = cross_val_score(dt_best,X_train,y_train,cv=10,scoring='f1')\n",
    "missclassification_cost = cross_val_score(dt_best,X_train,y_train,cv=10,scoring=score)\n",
    "\n",
    "\n",
    "print(accuracy)\n",
    "print(precision)\n",
    "print(recall)\n",
    "print(f1_score)\n",
    "print(missclassification_cost)"
   ]
  },
  {
   "cell_type": "code",
   "execution_count": 131,
   "id": "151a37a5",
   "metadata": {},
   "outputs": [
    {
     "name": "stdout",
     "output_type": "stream",
     "text": [
      "Accuracy: 0.90 (+/- 0.05)\n",
      "Precision: 0.80 (+/- 0.11)\n",
      "Recall: 0.80 (+/- 0.10)\n",
      "F1_score: 0.80 (+/- 0.10)\n",
      "missclassification_cost: -102.90 (+/- 39.94)\n"
     ]
    }
   ],
   "source": [
    "print(\"Accuracy: %0.2f (+/- %0.2f)\" % (accuracy.mean(), accuracy.std() * 2))\n",
    "print(\"Precision: %0.2f (+/- %0.2f)\" % (precision.mean(), precision.std() * 2))\n",
    "print(\"Recall: %0.2f (+/- %0.2f)\" % (recall.mean(), recall.std() * 2))\n",
    "print(\"F1_score: %0.2f (+/- %0.2f)\" % (f1_score.mean(), f1_score.std() * 2))\n",
    "print(\"missclassification_cost: %0.2f (+/- %0.2f)\" % (missclassification_cost.mean(), missclassification_cost.std() * 2))"
   ]
  },
  {
   "cell_type": "markdown",
   "id": "68352c91",
   "metadata": {},
   "source": [
    "#### Logistic Regression"
   ]
  },
  {
   "cell_type": "code",
   "execution_count": 118,
   "id": "a8c41b61",
   "metadata": {},
   "outputs": [
    {
     "data": {
      "text/plain": [
       "({'C': 100, 'penalty': 'l2', 'solver': 'lbfgs'}, -281.0)"
      ]
     },
     "execution_count": 118,
     "metadata": {},
     "output_type": "execute_result"
    }
   ],
   "source": [
    "solvers = ['newton-cg', 'lbfgs', 'liblinear']\n",
    "penalty = ['l2']\n",
    "c_values = [100, 10, 1.0, 0.1, 0.01]\n",
    "\n",
    "tuned_parameters = dict(solver=solvers,penalty=penalty,C=c_values)\n",
    "\n",
    "lr = linear_model.LogisticRegression()\n",
    "lr = GridSearchCV(lr,tuned_parameters,cv=inner_cv,scoring=score)\n",
    "\n",
    "lr.fit(X_train,y_train)\n",
    "\n",
    "lr_best_params = lr.best_params_\n",
    "lr_best_scores = lr.best_score_\n",
    "lr_best_params, lr_best_scores"
   ]
  },
  {
   "cell_type": "code",
   "execution_count": 119,
   "id": "3727e907",
   "metadata": {},
   "outputs": [],
   "source": [
    "lr_best = linear_model.LogisticRegression(**lr_best_params)\n",
    "lr_best = lr_best.fit(X_train, y_train)"
   ]
  },
  {
   "cell_type": "code",
   "execution_count": 124,
   "id": "ba63c026",
   "metadata": {},
   "outputs": [
    {
     "name": "stdout",
     "output_type": "stream",
     "text": [
      "[0.94581281 0.91625616 0.89162562 0.89162562 0.9408867  0.89655172\n",
      " 0.92118227 0.91133005 0.90640394 0.90640394]\n",
      "[0.95       0.82608696 0.74509804 0.85714286 0.92682927 0.78723404\n",
      " 0.88095238 0.85714286 0.82222222 0.79591837]\n",
      "[0.80851064 0.80851064 0.80851064 0.63829787 0.80851064 0.77083333\n",
      " 0.77083333 0.75       0.77083333 0.8125    ]\n",
      "[0.87356322 0.8172043  0.7755102  0.73170732 0.86363636 0.77894737\n",
      " 0.82222222 0.8        0.79569892 0.80412371]\n",
      "[ -92  -98 -103 -175  -93 -120 -115 -126 -118 -100]\n"
     ]
    }
   ],
   "source": [
    "accuracy = cross_val_score(lr_best,X_train,y_train,cv=10,scoring='accuracy')\n",
    "precision = cross_val_score(lr_best,X_train,y_train,cv=10,scoring='precision')\n",
    "recall = cross_val_score(lr_best,X_train,y_train,cv=10,scoring='recall')\n",
    "f1_score = cross_val_score(lr_best,X_train,y_train,cv=10,scoring='f1')\n",
    "missclassification_cost = cross_val_score(lr_best,X_train,y_train,cv=10,scoring=score)\n",
    "\n",
    "\n",
    "print(accuracy)\n",
    "print(precision)\n",
    "print(recall)\n",
    "print(f1_score)\n",
    "print(missclassification_cost)"
   ]
  },
  {
   "cell_type": "code",
   "execution_count": 125,
   "id": "dfdd0d01",
   "metadata": {},
   "outputs": [
    {
     "name": "stdout",
     "output_type": "stream",
     "text": [
      "Accuracy: 0.91 (+/- 0.04)\n",
      "Precision: 0.84 (+/- 0.12)\n",
      "Recall: 0.77 (+/- 0.10)\n",
      "F1_score: 0.81 (+/- 0.08)\n",
      "missclassification_cost: -114.00 (+/- 46.54)\n"
     ]
    }
   ],
   "source": [
    "print(\"Accuracy: %0.2f (+/- %0.2f)\" % (accuracy.mean(), accuracy.std() * 2))\n",
    "print(\"Precision: %0.2f (+/- %0.2f)\" % (precision.mean(), precision.std() * 2))\n",
    "print(\"Recall: %0.2f (+/- %0.2f)\" % (recall.mean(), recall.std() * 2))\n",
    "print(\"F1_score: %0.2f (+/- %0.2f)\" % (f1_score.mean(), f1_score.std() * 2))\n",
    "print(\"missclassification_cost: %0.2f (+/- %0.2f)\" % (missclassification_cost.mean(), missclassification_cost.std() * 2))"
   ]
  },
  {
   "cell_type": "markdown",
   "id": "93f665c2",
   "metadata": {},
   "source": [
    "#### KNN"
   ]
  },
  {
   "cell_type": "code",
   "execution_count": 133,
   "id": "47dd8e8a",
   "metadata": {},
   "outputs": [
    {
     "data": {
      "text/plain": [
       "({'leaf_size': 1,\n",
       "  'metric': 'chebyshev',\n",
       "  'n_neighbors': 8,\n",
       "  'p': 1,\n",
       "  'weights': 'distance'},\n",
       " -323.5)"
      ]
     },
     "execution_count": 133,
     "metadata": {},
     "output_type": "execute_result"
    }
   ],
   "source": [
    "tuned_parameters =  {'weights':['uniform','distance'],'n_neighbors':list(range(5,50)),'leaf_size': [1,20,30,40],\n",
    "'p' : [1,2],'metric' : ['minkowski', 'chebyshev']}\n",
    "\n",
    "knn = neighbors.KNeighborsClassifier()\n",
    "knn = GridSearchCV(knn,tuned_parameters,cv=inner_cv,scoring=score)\n",
    "\n",
    "knn.fit(X_train,y_train)\n",
    "\n",
    "knn_best_params = knn.best_params_\n",
    "knn_best_scores = knn.best_score_\n",
    "knn_best_params, knn_best_scores"
   ]
  },
  {
   "cell_type": "code",
   "execution_count": 134,
   "id": "45a4059c",
   "metadata": {},
   "outputs": [],
   "source": [
    "knn_best = neighbors.KNeighborsClassifier(**knn_best_params)\n",
    "knn_best = knn_best.fit(X_train, y_train)"
   ]
  },
  {
   "cell_type": "code",
   "execution_count": 135,
   "id": "f7d6e8fd",
   "metadata": {},
   "outputs": [
    {
     "name": "stdout",
     "output_type": "stream",
     "text": [
      "[0.90640394 0.90147783 0.89655172 0.90640394 0.90147783 0.93103448\n",
      " 0.88669951 0.90640394 0.91625616 0.91133005]\n",
      "[0.85       0.81395349 0.77083333 0.85       0.82926829 0.9047619\n",
      " 0.80487805 0.8372093  0.86046512 0.8       ]\n",
      "[0.72340426 0.74468085 0.78723404 0.72340426 0.72340426 0.79166667\n",
      " 0.6875     0.75       0.77083333 0.83333333]\n",
      "[0.7816092  0.77777778 0.77894737 0.7816092  0.77272727 0.84444444\n",
      " 0.74157303 0.79120879 0.81318681 0.81632653]\n",
      "[-136 -128 -111 -136 -137 -104 -158 -127 -116  -90]\n"
     ]
    }
   ],
   "source": [
    "accuracy = cross_val_score(knn_best,X_train,y_train,cv=10,scoring='accuracy')\n",
    "precision = cross_val_score(knn_best,X_train,y_train,cv=10,scoring='precision')\n",
    "recall = cross_val_score(knn_best,X_train,y_train,cv=10,scoring='recall')\n",
    "f1_score = cross_val_score(knn_best,X_train,y_train,cv=10,scoring='f1')\n",
    "missclassification_cost = cross_val_score(knn_best,X_train,y_train,cv=10,scoring=score)\n",
    "\n",
    "print(accuracy)\n",
    "print(precision)\n",
    "print(recall)\n",
    "print(f1_score)\n",
    "print(missclassification_cost)"
   ]
  },
  {
   "cell_type": "code",
   "execution_count": 136,
   "id": "f8bd60e7",
   "metadata": {},
   "outputs": [
    {
     "name": "stdout",
     "output_type": "stream",
     "text": [
      "Accuracy: 0.91 (+/- 0.02)\n",
      "Precision: 0.83 (+/- 0.07)\n",
      "Recall: 0.75 (+/- 0.08)\n",
      "F1_score: 0.79 (+/- 0.05)\n",
      "missclassification_cost: -124.30 (+/- 37.02)\n"
     ]
    }
   ],
   "source": [
    "print(\"Accuracy: %0.2f (+/- %0.2f)\" % (accuracy.mean(), accuracy.std() * 2))\n",
    "print(\"Precision: %0.2f (+/- %0.2f)\" % (precision.mean(), precision.std() * 2))\n",
    "print(\"Recall: %0.2f (+/- %0.2f)\" % (recall.mean(), recall.std() * 2))\n",
    "print(\"F1_score: %0.2f (+/- %0.2f)\" % (f1_score.mean(), f1_score.std() * 2))\n",
    "print(\"missclassification_cost: %0.2f (+/- %0.2f)\" % (missclassification_cost.mean(), missclassification_cost.std() * 2))"
   ]
  },
  {
   "cell_type": "markdown",
   "id": "a0b82633",
   "metadata": {},
   "source": [
    "#### SVM"
   ]
  },
  {
   "cell_type": "code",
   "execution_count": 140,
   "id": "88768279",
   "metadata": {},
   "outputs": [
    {
     "data": {
      "text/plain": [
       "({'C': 1000, 'gamma': 0.001, 'kernel': 'rbf'}, -268.75)"
      ]
     },
     "execution_count": 140,
     "metadata": {},
     "output_type": "execute_result"
    }
   ],
   "source": [
    "from sklearn.svm import SVC\n",
    "tuned_parameters = [{'kernel': ['rbf'], 'gamma': [1e-3, 1e-4],\n",
    "                     'C': [1, 10, 100, 1000]},\n",
    "                    {'kernel': ['linear'], 'C': [1, 10, 100, 1000]}]\n",
    "\n",
    "svc = SVC()\n",
    "\n",
    "svc = GridSearchCV(svc,tuned_parameters,cv=inner_cv,scoring=score)\n",
    "\n",
    "svc.fit(X_train,y_train)\n",
    "\n",
    "svc_best_params = svc.best_params_\n",
    "svc_best_scores = svc.best_score_\n",
    "svc_best_params, svc_best_scores"
   ]
  },
  {
   "cell_type": "code",
   "execution_count": 141,
   "id": "45de4361",
   "metadata": {},
   "outputs": [],
   "source": [
    "svc_best = SVC(**svc_best_params,probability=True)\n",
    "svc_best = svc_best.fit(X_train, y_train)"
   ]
  },
  {
   "cell_type": "code",
   "execution_count": 142,
   "id": "818307e2",
   "metadata": {},
   "outputs": [
    {
     "name": "stdout",
     "output_type": "stream",
     "text": [
      "[0.9408867  0.94581281 0.94581281 0.92610837 0.93103448 0.93596059\n",
      " 0.93103448 0.93103448 0.90640394 0.92610837]\n",
      "[0.92682927 0.90909091 0.92857143 0.94444444 0.90243902 0.84313725\n",
      " 0.925      0.86956522 0.89189189 0.86666667]\n",
      "[0.80851064 0.85106383 0.82978723 0.72340426 0.78723404 0.89583333\n",
      " 0.77083333 0.83333333 0.6875     0.8125    ]\n",
      "[0.86363636 0.87912088 0.87640449 0.81927711 0.84090909 0.86868687\n",
      " 0.84090909 0.85106383 0.77647059 0.83870968]\n",
      "[ -93  -74  -83 -132 -104  -58 -113  -86 -154  -96]\n"
     ]
    }
   ],
   "source": [
    "accuracy = cross_val_score(svc_best,X_train,y_train,cv=10,scoring='accuracy')\n",
    "precision = cross_val_score(svc_best,X_train,y_train,cv=10,scoring='precision')\n",
    "recall = cross_val_score(svc_best,X_train,y_train,cv=10,scoring='recall')\n",
    "f1_score = cross_val_score(svc_best,X_train,y_train,cv=10,scoring='f1')\n",
    "missclassification_cost = cross_val_score(svc_best,X_train,y_train,cv=10,scoring=score)\n",
    "\n",
    "\n",
    "\n",
    "print(accuracy)\n",
    "print(precision)\n",
    "print(recall)\n",
    "print(f1_score)\n",
    "print(missclassification_cost)"
   ]
  },
  {
   "cell_type": "code",
   "execution_count": 143,
   "id": "5050f425",
   "metadata": {},
   "outputs": [
    {
     "name": "stdout",
     "output_type": "stream",
     "text": [
      "Accuracy: 0.93 (+/- 0.02)\n",
      "Precision: 0.90 (+/- 0.06)\n",
      "Recall: 0.80 (+/- 0.12)\n",
      "F1_score: 0.85 (+/- 0.06)\n",
      "missclassification_cost: -99.30 (+/- 53.33)\n"
     ]
    }
   ],
   "source": [
    "print(\"Accuracy: %0.2f (+/- %0.2f)\" % (accuracy.mean(), accuracy.std() * 2))\n",
    "print(\"Precision: %0.2f (+/- %0.2f)\" % (precision.mean(), precision.std() * 2))\n",
    "print(\"Recall: %0.2f (+/- %0.2f)\" % (recall.mean(), recall.std() * 2))\n",
    "print(\"F1_score: %0.2f (+/- %0.2f)\" % (f1_score.mean(), f1_score.std() * 2))\n",
    "print(\"missclassification_cost: %0.2f (+/- %0.2f)\" % (missclassification_cost.mean(), missclassification_cost.std() * 2))"
   ]
  },
  {
   "cell_type": "markdown",
   "id": "abfa8e82",
   "metadata": {},
   "source": [
    "#### Gradient Boosting"
   ]
  },
  {
   "cell_type": "code",
   "execution_count": 144,
   "id": "724c4e16",
   "metadata": {},
   "outputs": [
    {
     "data": {
      "text/plain": [
       "({'learning_rate': 0.5,\n",
       "  'max_depth': 7,\n",
       "  'max_features': 'sqrt',\n",
       "  'min_samples_leaf': 7,\n",
       "  'min_samples_split': 3,\n",
       "  'n_estimators': 50,\n",
       "  'subsample': 0.7},\n",
       " -195.0)"
      ]
     },
     "execution_count": 144,
     "metadata": {},
     "output_type": "execute_result"
    }
   ],
   "source": [
    "tuned_parameters = [{'n_estimators':[50,100],'max_depth':[3,5,7],\n",
    "                    'min_samples_split':[3,5,7],'min_samples_leaf':[3,5,7],\n",
    "                     'max_features':['sqrt','log2'],'learning_rate':[0.1,0.5,0.05,0.01,0.005],'subsample':[0.5,0.7]}]\n",
    "\n",
    "gb = GradientBoostingClassifier()\n",
    "\n",
    "gb = GridSearchCV(gb,tuned_parameters,cv=inner_cv,scoring=score)\n",
    "\n",
    "gb.fit(X_train,y_train)\n",
    "\n",
    "gb_best_params = gb.best_params_\n",
    "gb_best_scores = gb.best_score_\n",
    "gb_best_params, gb_best_scores"
   ]
  },
  {
   "cell_type": "code",
   "execution_count": 145,
   "id": "15f85328",
   "metadata": {},
   "outputs": [],
   "source": [
    "gb_best = GradientBoostingClassifier(**gb_best_params)\n",
    "gb_best = gb_best.fit(X_train, y_train)"
   ]
  },
  {
   "cell_type": "code",
   "execution_count": 146,
   "id": "303c7272",
   "metadata": {},
   "outputs": [
    {
     "name": "stdout",
     "output_type": "stream",
     "text": [
      "[0.9408867  0.92610837 0.93596059 0.91133005 0.95073892 0.93103448\n",
      " 0.92610837 0.92610837 0.93103448 0.92610837]\n",
      "[0.89361702 0.88372093 0.91666667 0.9047619  0.86666667 0.81632653\n",
      " 0.87804878 0.84444444 0.9047619  0.85106383]\n",
      "[0.89361702 0.89361702 0.82978723 0.78723404 0.76595745 0.89583333\n",
      " 0.8125     0.77083333 0.8125     0.85416667]\n",
      "[0.875      0.86363636 0.875      0.89130435 0.84444444 0.87755102\n",
      " 0.8125     0.86315789 0.85393258 0.88659794]\n",
      "[ -74  -73  -96  -97 -103  -57 -115  -79  -97  -55]\n"
     ]
    }
   ],
   "source": [
    "accuracy = cross_val_score(gb_best,X_train,y_train,cv=10,scoring='accuracy')\n",
    "precision = cross_val_score(gb_best,X_train,y_train,cv=10,scoring='precision')\n",
    "recall = cross_val_score(gb_best,X_train,y_train,cv=10,scoring='recall')\n",
    "f1_score = cross_val_score(gb_best,X_train,y_train,cv=10,scoring='f1')\n",
    "missclassification_cost = cross_val_score(gb_best,X_train,y_train,cv=10,scoring=score)\n",
    "\n",
    "print(accuracy)\n",
    "print(precision)\n",
    "print(recall)\n",
    "print(f1_score)\n",
    "print(missclassification_cost)"
   ]
  },
  {
   "cell_type": "code",
   "execution_count": 147,
   "id": "d1a74fd5",
   "metadata": {},
   "outputs": [
    {
     "name": "stdout",
     "output_type": "stream",
     "text": [
      "Accuracy: 0.93 (+/- 0.02)\n",
      "Precision: 0.88 (+/- 0.06)\n",
      "Recall: 0.83 (+/- 0.10)\n",
      "F1_score: 0.86 (+/- 0.04)\n",
      "missclassification_cost: -84.60 (+/- 38.03)\n"
     ]
    }
   ],
   "source": [
    "print(\"Accuracy: %0.2f (+/- %0.2f)\" % (accuracy.mean(), accuracy.std() * 2))\n",
    "print(\"Precision: %0.2f (+/- %0.2f)\" % (precision.mean(), precision.std() * 2))\n",
    "print(\"Recall: %0.2f (+/- %0.2f)\" % (recall.mean(), recall.std() * 2))\n",
    "print(\"F1_score: %0.2f (+/- %0.2f)\" % (f1_score.mean(), f1_score.std() * 2))\n",
    "print(\"missclassification_cost: %0.2f (+/- %0.2f)\" % (missclassification_cost.mean(), missclassification_cost.std() * 2))"
   ]
  },
  {
   "cell_type": "markdown",
   "id": "d98c9e95",
   "metadata": {},
   "source": [
    "#### Random Forest"
   ]
  },
  {
   "cell_type": "code",
   "execution_count": 148,
   "id": "d4a36de1",
   "metadata": {},
   "outputs": [
    {
     "data": {
      "text/plain": [
       "({'max_depth': 4,\n",
       "  'max_features': 'sqrt',\n",
       "  'min_samples_leaf': 2,\n",
       "  'min_samples_split': 3,\n",
       "  'n_estimators': 200},\n",
       " -384.75)"
      ]
     },
     "execution_count": 148,
     "metadata": {},
     "output_type": "execute_result"
    }
   ],
   "source": [
    "tuned_parameters = [{'n_estimators':[100,200,300],'max_depth':[2,3,4],\n",
    "                    'min_samples_split':[2,3,5],'min_samples_leaf':[2,3,5],'max_features':['sqrt','log2']}]\n",
    "\n",
    "rf = RandomForestClassifier(n_jobs=-1)\n",
    "clf_rf = GridSearchCV(rf,tuned_parameters,cv=inner_cv,scoring=score)\n",
    "\n",
    "clf_rf.fit(X_train,y_train)\n",
    "\n",
    "rf_best_params = clf_rf.best_params_\n",
    "rf_best_scores = clf_rf.best_score_\n",
    "rf_best_params, rf_best_scores"
   ]
  },
  {
   "cell_type": "code",
   "execution_count": 149,
   "id": "8e9fcf21",
   "metadata": {},
   "outputs": [],
   "source": [
    "rf_best = RandomForestClassifier(**rf_best_params)\n",
    "rf_best = rf_best.fit(X_train, y_train)"
   ]
  },
  {
   "cell_type": "code",
   "execution_count": 150,
   "id": "a89daad9",
   "metadata": {},
   "outputs": [
    {
     "name": "stdout",
     "output_type": "stream",
     "text": [
      "[0.93596059 0.92118227 0.93103448 0.88669951 0.89655172 0.92118227\n",
      " 0.91133005 0.92610837 0.88669951 0.90640394]\n",
      "[0.97142857 0.94285714 0.97297297 0.96153846 0.88235294 0.94444444\n",
      " 0.88888889 0.97222222 0.88235294 0.91428571]\n",
      "[0.68085106 0.68085106 0.76595745 0.5106383  0.63829787 0.70833333\n",
      " 0.66666667 0.70833333 0.625      0.6875    ]\n",
      "[0.84337349 0.81927711 0.84337349 0.62857143 0.74074074 0.8\n",
      " 0.77647059 0.84337349 0.72289157 0.8       ]\n",
      "[-66 -86 -76 -85 -86 -59 -97 -77 -85 -97]\n"
     ]
    }
   ],
   "source": [
    "accuracy = cross_val_score(rf_best,X_train,y_train,cv=10,scoring='accuracy')\n",
    "precision = cross_val_score(rf_best,X_train,y_train,cv=10,scoring='precision')\n",
    "recall = cross_val_score(rf_best,X_train,y_train,cv=10,scoring='recall')\n",
    "f1_score = cross_val_score(rf_best,X_train,y_train,cv=10,scoring='f1')\n",
    "missclassification_cost = cross_val_score(gb_best,X_train,y_train,cv=10,scoring=score)\n",
    "\n",
    "print(accuracy)\n",
    "print(precision)\n",
    "print(recall)\n",
    "print(f1_score)\n",
    "print(missclassification_cost)"
   ]
  },
  {
   "cell_type": "code",
   "execution_count": 151,
   "id": "284c3901",
   "metadata": {},
   "outputs": [
    {
     "name": "stdout",
     "output_type": "stream",
     "text": [
      "Accuracy: 0.91 (+/- 0.03)\n",
      "Precision: 0.93 (+/- 0.07)\n",
      "Recall: 0.67 (+/- 0.13)\n",
      "F1_score: 0.78 (+/- 0.13)\n",
      "missclassification_cost: -81.40 (+/- 23.17)\n"
     ]
    }
   ],
   "source": [
    "print(\"Accuracy: %0.2f (+/- %0.2f)\" % (accuracy.mean(), accuracy.std() * 2))\n",
    "print(\"Precision: %0.2f (+/- %0.2f)\" % (precision.mean(), precision.std() * 2))\n",
    "print(\"Recall: %0.2f (+/- %0.2f)\" % (recall.mean(), recall.std() * 2))\n",
    "print(\"F1_score: %0.2f (+/- %0.2f)\" % (f1_score.mean(), f1_score.std() * 2))\n",
    "print(\"missclassification_cost: %0.2f (+/- %0.2f)\" % (missclassification_cost.mean(), missclassification_cost.std() * 2))"
   ]
  },
  {
   "cell_type": "markdown",
   "id": "520cd989",
   "metadata": {},
   "source": [
    "#### Model Selection"
   ]
  },
  {
   "cell_type": "code",
   "execution_count": 152,
   "id": "d25e679b",
   "metadata": {},
   "outputs": [
    {
     "data": {
      "text/plain": [
       "-277.5"
      ]
     },
     "execution_count": 152,
     "metadata": {},
     "output_type": "execute_result"
    }
   ],
   "source": [
    "dt_score = cross_val_score(dt_best,X=X_train,y=y_train,cv=outer_cv,scoring=score)\n",
    "dt_score.mean()"
   ]
  },
  {
   "cell_type": "code",
   "execution_count": 153,
   "id": "d18ba0ce",
   "metadata": {},
   "outputs": [
    {
     "data": {
      "text/plain": [
       "-323.5"
      ]
     },
     "execution_count": 153,
     "metadata": {},
     "output_type": "execute_result"
    }
   ],
   "source": [
    "knn_score = cross_val_score(knn_best,X=X_train,y=y_train,cv=outer_cv,scoring=score)\n",
    "knn_score.mean()"
   ]
  },
  {
   "cell_type": "code",
   "execution_count": 154,
   "id": "4bce9958",
   "metadata": {},
   "outputs": [
    {
     "data": {
      "text/plain": [
       "-281.0"
      ]
     },
     "execution_count": 154,
     "metadata": {},
     "output_type": "execute_result"
    }
   ],
   "source": [
    "lr_score = cross_val_score(lr_best,X=X_train,y=y_train,cv=outer_cv,scoring=score)\n",
    "lr_score.mean()"
   ]
  },
  {
   "cell_type": "code",
   "execution_count": 155,
   "id": "a183ca60",
   "metadata": {},
   "outputs": [
    {
     "data": {
      "text/plain": [
       "-268.75"
      ]
     },
     "execution_count": 155,
     "metadata": {},
     "output_type": "execute_result"
    }
   ],
   "source": [
    "svc_score = cross_val_score(svc_best,X=X_train,y=y_train,cv=outer_cv,scoring=score)\n",
    "svc_score.mean()"
   ]
  },
  {
   "cell_type": "code",
   "execution_count": 156,
   "id": "563d2b3b",
   "metadata": {},
   "outputs": [
    {
     "data": {
      "text/plain": [
       "-224.75"
      ]
     },
     "execution_count": 156,
     "metadata": {},
     "output_type": "execute_result"
    }
   ],
   "source": [
    "gb_score = cross_val_score(gb_best,X=X_train,y=y_train,cv=outer_cv,scoring=score)\n",
    "gb_score.mean()"
   ]
  },
  {
   "cell_type": "code",
   "execution_count": 157,
   "id": "15653739",
   "metadata": {},
   "outputs": [
    {
     "data": {
      "text/plain": [
       "-410.5"
      ]
     },
     "execution_count": 157,
     "metadata": {},
     "output_type": "execute_result"
    }
   ],
   "source": [
    "rf_score = cross_val_score(rf_best,X=X_train,y=y_train,cv=outer_cv,scoring=score)\n",
    "rf_score.mean()"
   ]
  },
  {
   "cell_type": "markdown",
   "id": "2649c51d",
   "metadata": {},
   "source": [
    "###### According to the result, the gradient boosting model is the best model."
   ]
  },
  {
   "cell_type": "code",
   "execution_count": 158,
   "id": "81b6a833",
   "metadata": {},
   "outputs": [
    {
     "name": "stdout",
     "output_type": "stream",
     "text": [
      "[[741  23]\n",
      " [ 38 199]]\n",
      "              precision    recall  f1-score   support\n",
      "\n",
      "           0       0.95      0.97      0.96       764\n",
      "           1       0.90      0.84      0.87       237\n",
      "\n",
      "    accuracy                           0.94      1001\n",
      "   macro avg       0.92      0.90      0.91      1001\n",
      "weighted avg       0.94      0.94      0.94      1001\n",
      "\n"
     ]
    }
   ],
   "source": [
    "y_pred = gb_best.predict(X_test)\n",
    "print(confusion_matrix(y_test, y_pred))\n",
    "print(classification_report(y_test, y_pred))"
   ]
  },
  {
   "cell_type": "code",
   "execution_count": 159,
   "id": "1c0e3181",
   "metadata": {},
   "outputs": [
    {
     "data": {
      "image/png": "[encoded data removed]",
      "text/plain": [
       "<Figure size 640x480 with 2 Axes>"
      ]
     },
     "metadata": {},
     "output_type": "display_data"
    }
   ],
   "source": [
    "plot_confusion_matrix(gb_best,X_test,y_test)  \n",
    "plt.show()"
   ]
  },
  {
   "cell_type": "code",
   "execution_count": 166,
   "id": "26a6df9d",
   "metadata": {},
   "outputs": [
    {
     "data": {
      "text/plain": [
       "403"
      ]
     },
     "execution_count": 166,
     "metadata": {},
     "output_type": "execute_result"
    }
   ],
   "source": [
    "miss_classification(y_test,y_pred)"
   ]
  },
  {
   "cell_type": "code",
   "execution_count": 160,
   "id": "45218236",
   "metadata": {},
   "outputs": [
    {
     "data": {
      "image/png": "[encoded data removed]",
      "text/plain": [
       "<Figure size 640x480 with 1 Axes>"
      ]
     },
     "metadata": {},
     "output_type": "display_data"
    }
   ],
   "source": [
    "RocCurveDisplay.from_estimator(rf_best, X_test, y_test)\n",
    "plt.show()"
   ]
  },
  {
   "cell_type": "code",
   "execution_count": 161,
   "id": "6bb89e06",
   "metadata": {},
   "outputs": [
    {
     "data": {
      "image/png": "[encoded data removed]",
      "text/plain": [
       "<Figure size 640x480 with 1 Axes>"
      ]
     },
     "metadata": {},
     "output_type": "display_data"
    }
   ],
   "source": [
    "predicted_probas = rf_best.predict_proba(X_test)\n",
    "import scikitplot as skplt\n",
    "skplt.metrics.plot_lift_curve(y_test, predicted_probas)\n",
    "plt.show()"
   ]
  },
  {
   "cell_type": "code",
   "execution_count": null,
   "id": "12ca5263",
   "metadata": {},
   "outputs": [],
   "source": []
  }
 ],
 "metadata": {
  "kernelspec": {
   "display_name": "Python 3",
   "language": "python",
   "name": "python3"
  },
  "language_info": {
   "codemirror_mode": {
    "name": "ipython",
    "version": 3
   },
   "file_extension": ".py",
   "mimetype": "text/x-python",
   "name": "python",
   "nbconvert_exporter": "python",
   "pygments_lexer": "ipython3",
   "version": "3.8.8"
  }
 },
 "nbformat": 4,
 "nbformat_minor": 5
}
